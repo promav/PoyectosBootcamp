{
 "cells": [
  {
   "cell_type": "markdown",
   "metadata": {},
   "source": [
    "# AppMod1\n",
    "\n",
    "Proyecto final del modulo 1, en este archivo se encuentra el codigo de la aplicación y ejecutor de la misma."
   ]
  },
  {
   "cell_type": "code",
   "execution_count": 1,
   "metadata": {},
   "outputs": [],
   "source": [
    "import funciones_y_utiles as ft"
   ]
  },
  {
   "cell_type": "markdown",
   "metadata": {},
   "source": [
    "## Preparacion de los valores iniciales de la App"
   ]
  },
  {
   "cell_type": "code",
   "execution_count": 2,
   "metadata": {},
   "outputs": [],
   "source": [
    "Mallorca = ft.Equipo(2, \"RCD Mallorca\", 8, 60.3, 1916, 3, 5)\n",
    "Madrid = ft.Equipo(1, \"Real Madrid FC\", 2, 705.5, 1902, 3, 6)\n",
    "Barcelona = ft.Equipo(3, \"FC Barcelona\", 1, 405.5, 1899, 11, 29)\n",
    "\n",
    "lista_equipos = [Madrid, Mallorca, Barcelona]\n",
    "ft.actualizar_csv(lista_equipos)\n"
   ]
  },
  {
   "cell_type": "markdown",
   "metadata": {},
   "source": [
    "### Estructura de la App y ejecución"
   ]
  },
  {
   "cell_type": "code",
   "execution_count": 3,
   "metadata": {},
   "outputs": [],
   "source": [
    "def AppMod1():\n",
    "    id = 1 if len(lista_equipos) == 0 else lista_equipos[len(lista_equipos)-1].id + 1\n",
    "    while True:\n",
    "        option = ft.ft_menu()\n",
    "        if option == 1:\n",
    "            ft.verlista(lista_equipos)\n",
    "        elif option == 2:\n",
    "            ft.listado_ordenado(lista_equipos)\n",
    "        elif option == 3:\n",
    "            ft.mostrar_equipo_por_id(lista_equipos)\n",
    "        elif option == 4:\n",
    "            lista_equipos.append(ft.nuevo_equipo(id))\n",
    "            id += 1\n",
    "        elif option == 5:\n",
    "            ft.actualizar_datos_equipo_por_id(lista_equipos)\n",
    "            ft.actualizar_csv(lista_equipos)\n",
    "        elif option == 6:\n",
    "            ft.borrar_equipo_por_id(lista_equipos)\n",
    "            ft.actualizar_csv(lista_equipos)\n",
    "        elif option == 7:\n",
    "            ft.borrar_listado(lista_equipos)\n",
    "            ft.actualizar_csv(lista_equipos)\n",
    "            id = 1\n",
    "        elif option == 8:\n",
    "            ft.uniformar_equipo_por_id(lista_equipos)\n",
    "        else:\n",
    "            print(\"Hasta pronto\")\n",
    "            break"
   ]
  },
  {
   "cell_type": "code",
   "execution_count": null,
   "metadata": {},
   "outputs": [],
   "source": [
    "AppMod1()"
   ]
  }
 ],
 "metadata": {
  "kernelspec": {
   "display_name": "Python 3",
   "language": "python",
   "name": "python3"
  },
  "language_info": {
   "codemirror_mode": {
    "name": "ipython",
    "version": 3
   },
   "file_extension": ".py",
   "mimetype": "text/x-python",
   "name": "python",
   "nbconvert_exporter": "python",
   "pygments_lexer": "ipython3",
   "version": "3.13.1"
  }
 },
 "nbformat": 4,
 "nbformat_minor": 2
}
