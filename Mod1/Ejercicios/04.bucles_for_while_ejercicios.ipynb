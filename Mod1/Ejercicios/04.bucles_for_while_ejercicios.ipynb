{
 "cells": [
  {
   "cell_type": "markdown",
   "id": "d6ba5bce",
   "metadata": {},
   "source": [
    "## Ejercicios - Bucles"
   ]
  },
  {
   "cell_type": "markdown",
   "id": "80012d75",
   "metadata": {},
   "source": [
    "### Ejercicio 1\n",
    "\n",
    "- Dada la siguiente **lista = [1, 2, 3, 4, 5, 6, 7, 8, 9, 10]**, imprimir cada número sumandole 10 unidades utilizando un bucle **`for`**."
   ]
  },
  {
   "cell_type": "code",
   "execution_count": 2,
   "id": "5436374e",
   "metadata": {},
   "outputs": [
    {
     "name": "stdout",
     "output_type": "stream",
     "text": [
      "11\n",
      "12\n",
      "13\n",
      "14\n",
      "15\n",
      "16\n",
      "17\n",
      "18\n",
      "19\n",
      "20\n"
     ]
    }
   ],
   "source": [
    "lista = [1, 2, 3, 4, 5, 6, 7, 8, 9, 10]\n",
    "for elemento in lista:\n",
    "    print(elemento + 10)"
   ]
  },
  {
   "cell_type": "code",
   "execution_count": null,
   "id": "b77fc537",
   "metadata": {},
   "outputs": [],
   "source": []
  },
  {
   "cell_type": "code",
   "execution_count": null,
   "id": "4dab770a",
   "metadata": {},
   "outputs": [],
   "source": []
  },
  {
   "cell_type": "markdown",
   "id": "615b834a",
   "metadata": {},
   "source": [
    "### Ejercicio 2\n",
    "- Crea un bucle for que muestre la tabla de multiplicar del 1 al 10 de un número dado por el usuario.\n",
    "- Ejemplo:\n",
    "\n",
    "```html\n",
    "1 x 2 = 2\n",
    "2 x 2 = 4\n",
    "3 x 2 = 6\n",
    "4 x 2 = 8\n",
    "5 x 2 = 10\n",
    "6 x 2 = 12\n",
    "7 x 2 = 14\n",
    "8 x 2 = 16\n",
    "9 x 2 = 18\n",
    "10 x 2 = 20\n",
    "```"
   ]
  },
  {
   "cell_type": "code",
   "execution_count": 3,
   "id": "4c07823e",
   "metadata": {},
   "outputs": [
    {
     "name": "stdout",
     "output_type": "stream",
     "text": [
      "1 x 5 = 5\n",
      "2 x 5 = 10\n",
      "3 x 5 = 15\n",
      "4 x 5 = 20\n",
      "5 x 5 = 25\n",
      "6 x 5 = 30\n",
      "7 x 5 = 35\n",
      "8 x 5 = 40\n",
      "9 x 5 = 45\n",
      "10 x 5 = 50\n"
     ]
    }
   ],
   "source": [
    "argumento = input(\"Dime que numero quieres saber la tabla\")\n",
    "numero = int(argumento)\n",
    "for elemento in lista:\n",
    "    print(f\"{elemento} x {numero} = {elemento*numero}\")"
   ]
  },
  {
   "cell_type": "code",
   "execution_count": null,
   "id": "c2777e61",
   "metadata": {},
   "outputs": [],
   "source": []
  },
  {
   "cell_type": "code",
   "execution_count": null,
   "id": "b5426c6d",
   "metadata": {},
   "outputs": [],
   "source": []
  },
  {
   "cell_type": "markdown",
   "id": "3c8a4c44",
   "metadata": {},
   "source": [
    "### Ejercicio 3\n",
    "- Crear una lista vacia.\n",
    "- Llenar la lista con los numero del 200 al 215 usando un bucle **`for`**."
   ]
  },
  {
   "cell_type": "code",
   "execution_count": 6,
   "id": "92d1be47",
   "metadata": {},
   "outputs": [
    {
     "data": {
      "text/plain": [
       "[200,\n",
       " 201,\n",
       " 202,\n",
       " 203,\n",
       " 204,\n",
       " 205,\n",
       " 206,\n",
       " 207,\n",
       " 208,\n",
       " 209,\n",
       " 210,\n",
       " 211,\n",
       " 212,\n",
       " 213,\n",
       " 214,\n",
       " 215]"
      ]
     },
     "execution_count": 6,
     "metadata": {},
     "output_type": "execute_result"
    }
   ],
   "source": [
    "lista_3 = []\n",
    "for value in range(200, 216):\n",
    "    lista_3.append(value)\n",
    "lista_3\n"
   ]
  },
  {
   "cell_type": "code",
   "execution_count": null,
   "id": "f0855161",
   "metadata": {},
   "outputs": [],
   "source": []
  },
  {
   "cell_type": "code",
   "execution_count": null,
   "id": "864fac96",
   "metadata": {},
   "outputs": [],
   "source": []
  },
  {
   "cell_type": "markdown",
   "id": "073bada8",
   "metadata": {},
   "source": [
    "### Ejercicio 4\n",
    "- Crea una lista de números pares entre el 555 y el 599 utilizando bucle **`for`**."
   ]
  },
  {
   "cell_type": "code",
   "execution_count": 8,
   "id": "2ea6dc60",
   "metadata": {
    "scrolled": true
   },
   "outputs": [
    {
     "data": {
      "text/plain": [
       "[556,\n",
       " 558,\n",
       " 560,\n",
       " 562,\n",
       " 564,\n",
       " 566,\n",
       " 568,\n",
       " 570,\n",
       " 572,\n",
       " 574,\n",
       " 576,\n",
       " 578,\n",
       " 580,\n",
       " 582,\n",
       " 584,\n",
       " 586,\n",
       " 588,\n",
       " 590,\n",
       " 592,\n",
       " 594,\n",
       " 596,\n",
       " 598]"
      ]
     },
     "execution_count": 8,
     "metadata": {},
     "output_type": "execute_result"
    }
   ],
   "source": [
    "lista_4 = []\n",
    "for value in range (555, 599):\n",
    "    if value % 2 == 0:\n",
    "        lista_4.append(value)\n",
    "lista_4"
   ]
  },
  {
   "cell_type": "code",
   "execution_count": null,
   "id": "e361b1ba",
   "metadata": {},
   "outputs": [],
   "source": []
  },
  {
   "cell_type": "code",
   "execution_count": null,
   "id": "18fb0d85",
   "metadata": {},
   "outputs": [],
   "source": []
  },
  {
   "cell_type": "markdown",
   "id": "282e98c2",
   "metadata": {},
   "source": [
    "### Ejercicio 5\n",
    "- Crea un bucle for que sume los valores de la siguiente lista: **[51, 52, 53, 54, 55]**."
   ]
  },
  {
   "cell_type": "code",
   "execution_count": 9,
   "id": "3d4d4485",
   "metadata": {},
   "outputs": [
    {
     "data": {
      "text/plain": [
       "265"
      ]
     },
     "execution_count": 9,
     "metadata": {},
     "output_type": "execute_result"
    }
   ],
   "source": [
    "lista_5 = [51, 52, 53, 54, 55]\n",
    "suma = 0\n",
    "for value in lista_5:\n",
    "    suma += value\n",
    "suma"
   ]
  },
  {
   "cell_type": "code",
   "execution_count": null,
   "id": "30c815f0",
   "metadata": {},
   "outputs": [],
   "source": []
  },
  {
   "cell_type": "code",
   "execution_count": null,
   "id": "dee25278",
   "metadata": {},
   "outputs": [],
   "source": []
  },
  {
   "cell_type": "markdown",
   "id": "ac9f3703",
   "metadata": {},
   "source": [
    "### Ejercicio 6\n",
    "- Crea una lista con 5 elementos y cada elemento de esa lista, va a ser una lista con los siguientes datos: **[1, 2, 3]**, utiliza 2 **`for`** anidados.\n",
    "\n",
    "- Resultado: [[1, 2, 3], [1, 2, 3], [1, 2, 3], [1, 2, 3], [1, 2, 3]]"
   ]
  },
  {
   "cell_type": "code",
   "execution_count": null,
   "id": "70ba6e94",
   "metadata": {},
   "outputs": [
    {
     "data": {
      "text/plain": [
       "[[1, 2, 3], [1, 2, 3], [1, 2, 3], [1, 2, 3], [1, 2, 3]]"
      ]
     },
     "execution_count": 11,
     "metadata": {},
     "output_type": "execute_result"
    }
   ],
   "source": [
    "list_6 = []\n",
    "for i in range (5):\n",
    "    list_temp = []\n",
    "    for j in range (1, 4):\n",
    "        list_temp.append(j)\n",
    "    list_6.append(list_temp)\n",
    "list_6"
   ]
  },
  {
   "cell_type": "code",
   "execution_count": null,
   "id": "c40c21e9",
   "metadata": {},
   "outputs": [],
   "source": []
  },
  {
   "cell_type": "code",
   "execution_count": null,
   "id": "beeacbeb",
   "metadata": {},
   "outputs": [],
   "source": []
  },
  {
   "cell_type": "markdown",
   "id": "b7bb3dcc",
   "metadata": {},
   "source": [
    "### Ejercicio 7\n",
    "- Crea un bucle que cuente del 10 al 1."
   ]
  },
  {
   "cell_type": "code",
   "execution_count": null,
   "id": "ac6f8092",
   "metadata": {},
   "outputs": [
    {
     "name": "stdout",
     "output_type": "stream",
     "text": [
      "10\n",
      "9\n",
      "8\n",
      "7\n",
      "6\n",
      "5\n",
      "4\n",
      "3\n",
      "2\n",
      "1\n"
     ]
    }
   ],
   "source": [
    "for count in range (10, 0, -1):\n",
    "    print(count)"
   ]
  },
  {
   "cell_type": "code",
   "execution_count": null,
   "id": "22d3a338",
   "metadata": {},
   "outputs": [],
   "source": []
  },
  {
   "cell_type": "code",
   "execution_count": null,
   "id": "9153024c",
   "metadata": {},
   "outputs": [],
   "source": []
  },
  {
   "cell_type": "markdown",
   "id": "6d158465",
   "metadata": {},
   "source": [
    "### Ejercicio 8\n",
    "- Crea dos variables llamadas **par** e **impar** e inicializalas en 0.\n",
    "- Dada la siguiente lista de números = **[10, 7, 8, 3, 5, 2, 71, 21, 88]**, crea un bucle que recorra la lista y sume los números pares a la variable **par** y sume los números impares a la variable **impares**."
   ]
  },
  {
   "cell_type": "code",
   "execution_count": 5,
   "id": "df34a94b",
   "metadata": {},
   "outputs": [
    {
     "name": "stdout",
     "output_type": "stream",
     "text": [
      "PARES: 4 IMAPRES: 5\n"
     ]
    }
   ],
   "source": [
    "par = 0\n",
    "impar = 0\n",
    "numeros = [10, 7, 8, 3, 5, 2, 71, 21, 88]\n",
    "for numero in numeros:\n",
    "    if numero % 2 == 0:\n",
    "        par += 1\n",
    "    else:\n",
    "        impar += 1\n",
    "print(f\"PARES: {par} IMAPRES: {impar}\")"
   ]
  },
  {
   "cell_type": "code",
   "execution_count": null,
   "id": "0fa5dcb9",
   "metadata": {},
   "outputs": [],
   "source": []
  },
  {
   "cell_type": "code",
   "execution_count": null,
   "id": "24925fcc",
   "metadata": {},
   "outputs": [],
   "source": []
  },
  {
   "cell_type": "markdown",
   "id": "367b6971",
   "metadata": {},
   "source": [
    "### Ejercicio 9\n",
    "- Crea una lista con 5 colores diferentes.\n",
    "- Y con bucles anidados imprime las letras de los colores."
   ]
  },
  {
   "cell_type": "code",
   "execution_count": 6,
   "id": "01085cd1",
   "metadata": {},
   "outputs": [
    {
     "name": "stdout",
     "output_type": "stream",
     "text": [
      "El color azul se deletrea:\n",
      " - a\n",
      " - z\n",
      " - u\n",
      " - l\n",
      "El color rojo se deletrea:\n",
      " - r\n",
      " - o\n",
      " - j\n",
      " - o\n",
      "El color verde se deletrea:\n",
      " - v\n",
      " - e\n",
      " - r\n",
      " - d\n",
      " - e\n",
      "El color amarillo se deletrea:\n",
      " - a\n",
      " - m\n",
      " - a\n",
      " - r\n",
      " - i\n",
      " - l\n",
      " - l\n",
      " - o\n",
      "El color rosa se deletrea:\n",
      " - r\n",
      " - o\n",
      " - s\n",
      " - a\n"
     ]
    }
   ],
   "source": [
    "colores = [\"azul\", \"rojo\", \"verde\", \"amarillo\", \"rosa\"]\n",
    "for color in colores:\n",
    "    print(f\"El color {color} se deletrea:\")\n",
    "    for letra in color:\n",
    "        print(f\" - {letra}\")"
   ]
  },
  {
   "cell_type": "code",
   "execution_count": null,
   "id": "162f2a39",
   "metadata": {},
   "outputs": [],
   "source": []
  },
  {
   "cell_type": "code",
   "execution_count": null,
   "id": "976981fa",
   "metadata": {},
   "outputs": [],
   "source": []
  },
  {
   "cell_type": "markdown",
   "id": "bf59c876",
   "metadata": {},
   "source": [
    "### Ejercicio 10\n",
    "- Imprimir el índice y valor de cada elemento de la **lista = [-5, -4, -3, -2, -1, 0, 1, 2, 3, 4, 5]** utilizando un bucle **for**."
   ]
  },
  {
   "cell_type": "code",
   "execution_count": 1,
   "id": "db8dad4b",
   "metadata": {},
   "outputs": [
    {
     "name": "stdout",
     "output_type": "stream",
     "text": [
      "index: 0 value: -5\n",
      "index: 1 value: -4\n",
      "index: 2 value: -3\n",
      "index: 3 value: -2\n",
      "index: 4 value: -1\n",
      "index: 5 value: 0\n",
      "index: 6 value: 1\n",
      "index: 7 value: 2\n",
      "index: 8 value: 3\n",
      "index: 9 value: 4\n",
      "index: 10 value: 5\n"
     ]
    }
   ],
   "source": [
    "lista = [-5, -4, -3, -2, -1, 0, 1, 2, 3, 4, 5]\n",
    "for indice, numero in enumerate(lista):\n",
    "    print(f\"index: {indice} value: {numero}\")"
   ]
  },
  {
   "cell_type": "code",
   "execution_count": null,
   "id": "3b6f62e5",
   "metadata": {},
   "outputs": [],
   "source": []
  },
  {
   "cell_type": "code",
   "execution_count": null,
   "id": "70bbdb9a",
   "metadata": {},
   "outputs": [],
   "source": []
  },
  {
   "cell_type": "markdown",
   "id": "eb2b14d4",
   "metadata": {},
   "source": [
    "### Ejercicio 11\n",
    "- Crea un bucle **while** donde le pregunte al usuario un número y si ese número es impar el programa se detiene."
   ]
  },
  {
   "cell_type": "code",
   "execution_count": 2,
   "id": "1f61356a",
   "metadata": {},
   "outputs": [
    {
     "name": "stdout",
     "output_type": "stream",
     "text": [
      "numero: 4\n",
      "numero: 6\n",
      "numero: 8\n",
      "numero: 10\n",
      "5 es impar por eso se ha detenido\n"
     ]
    }
   ],
   "source": [
    "\n",
    "while True:\n",
    "    argumento = input(\"Introduce un numero\")\n",
    "    numero = int(argumento)\n",
    "    if numero % 2 == 0:\n",
    "        print(f\"numero: {argumento}\")\n",
    "    else:\n",
    "        break\n",
    "print(f\"{argumento} es impar por eso se ha detenido\")"
   ]
  },
  {
   "cell_type": "code",
   "execution_count": null,
   "id": "76f2453d",
   "metadata": {},
   "outputs": [],
   "source": []
  },
  {
   "cell_type": "code",
   "execution_count": null,
   "id": "63488bdc",
   "metadata": {},
   "outputs": [],
   "source": []
  },
  {
   "cell_type": "markdown",
   "id": "506b594c",
   "metadata": {},
   "source": [
    "### Ejercicio 12\n",
    "- Pide al usuario una frase.\n",
    "- Has un bucle que recorra la frase y que imprima las letras de la frase y cuantas veces aparece."
   ]
  },
  {
   "cell_type": "code",
   "execution_count": 9,
   "id": "6d5eed1e",
   "metadata": {},
   "outputs": [
    {
     "name": "stdout",
     "output_type": "stream",
     "text": [
      "h se repite 1 veces\n",
      "o se repite 3 veces\n",
      "l se repite 2 veces\n",
      "a se repite 3 veces\n",
      "s se repite 2 veces\n",
      "y se repite 2 veces\n",
      "p se repite 1 veces\n",
      "b se repite 1 veces\n",
      "t se repite 1 veces\n",
      "u se repite 1 veces\n",
      "e se repite 3 veces\n",
      "r se repite 2 veces\n",
      "j se repite 1 veces\n",
      "v se repite 1 veces\n",
      "i se repite 1 veces\n"
     ]
    }
   ],
   "source": [
    "frase = input(\"Introduce una frase\")\n",
    "letras_unicas = \"\"\n",
    "for letra in frase.lower():\n",
    "    if letra.isalpha() and letra not in letras_unicas:\n",
    "        letras_unicas = letras_unicas + letra\n",
    "for letra in letras_unicas:\n",
    "    print(f\"{letra} se repite {frase.lower().count(letra)} veces\")"
   ]
  },
  {
   "cell_type": "code",
   "execution_count": null,
   "id": "7589273f",
   "metadata": {},
   "outputs": [],
   "source": []
  },
  {
   "cell_type": "code",
   "execution_count": null,
   "id": "c80fb589",
   "metadata": {},
   "outputs": [],
   "source": []
  },
  {
   "cell_type": "code",
   "execution_count": null,
   "id": "ed860fac-20fd-4ac9-a1a5-cb60a7d96bc5",
   "metadata": {},
   "outputs": [],
   "source": [
    "##############################################################################################################################"
   ]
  }
 ],
 "metadata": {
  "kernelspec": {
   "display_name": "Python 3",
   "language": "python",
   "name": "python3"
  },
  "language_info": {
   "codemirror_mode": {
    "name": "ipython",
    "version": 3
   },
   "file_extension": ".py",
   "mimetype": "text/x-python",
   "name": "python",
   "nbconvert_exporter": "python",
   "pygments_lexer": "ipython3",
   "version": "3.13.1"
  }
 },
 "nbformat": 4,
 "nbformat_minor": 5
}
