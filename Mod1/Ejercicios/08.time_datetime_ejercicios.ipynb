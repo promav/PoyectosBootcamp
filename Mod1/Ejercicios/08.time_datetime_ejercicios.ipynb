{
 "cells": [
  {
   "cell_type": "markdown",
   "id": "81cc3390",
   "metadata": {},
   "source": [
    "## Ejercicios - datetime"
   ]
  },
  {
   "cell_type": "code",
   "execution_count": 29,
   "id": "570de22e",
   "metadata": {},
   "outputs": [],
   "source": [
    "import time\n",
    "import datetime"
   ]
  },
  {
   "cell_type": "markdown",
   "id": "f9db0e96",
   "metadata": {},
   "source": [
    "### Ejercicio 1\n",
    "- Determina si el año actual es bisiesto, imprime el resultado por pantalla. Usa la libreria **datetime**.+"
   ]
  },
  {
   "cell_type": "code",
   "execution_count": 25,
   "id": "7f8fbd2e",
   "metadata": {},
   "outputs": [],
   "source": [
    "def es_bisiesto(año):\n",
    "    if (año % 100 != 0 and año % 4 == 0) or año % 400 == 0:\n",
    "        print(f\"{año} es bisiesto\")\n",
    "    else:\n",
    "        print(f\"{año} no es bisiesto\")\n",
    "    "
   ]
  },
  {
   "cell_type": "code",
   "execution_count": 26,
   "id": "586752c5",
   "metadata": {},
   "outputs": [
    {
     "name": "stdout",
     "output_type": "stream",
     "text": [
      "2024 es bisiesto\n"
     ]
    }
   ],
   "source": [
    "año = datetime.datetime.now().year\n",
    "es_bisiesto(año)"
   ]
  },
  {
   "cell_type": "code",
   "execution_count": null,
   "id": "8f7131c0",
   "metadata": {},
   "outputs": [],
   "source": []
  },
  {
   "cell_type": "markdown",
   "id": "9ec19d61",
   "metadata": {},
   "source": [
    "### Ejercicio 2\n",
    "- Utiliza el año 2000 y el año 2100 para verificar que el código anterior funciona correctamente.\n",
    "- Nota: El año 2000 fue bisiesto y el año 2100 no lo será."
   ]
  },
  {
   "cell_type": "code",
   "execution_count": 27,
   "id": "6d7ac90e",
   "metadata": {},
   "outputs": [
    {
     "name": "stdout",
     "output_type": "stream",
     "text": [
      "2000 es bisiesto\n",
      "2100 no es bisiesto\n"
     ]
    }
   ],
   "source": [
    "es_bisiesto(2000)\n",
    "es_bisiesto(2100)"
   ]
  },
  {
   "cell_type": "code",
   "execution_count": null,
   "id": "ae63e7cd",
   "metadata": {},
   "outputs": [],
   "source": []
  },
  {
   "cell_type": "code",
   "execution_count": null,
   "id": "516fe1fc",
   "metadata": {},
   "outputs": [],
   "source": []
  },
  {
   "cell_type": "markdown",
   "id": "30aaf8f9",
   "metadata": {},
   "source": [
    "### Ejercicio 3\n",
    "- Convierte la fecha _**'Oct 16 2019 2:43PM'**_ en un objecto de tipo **datetime**.\n",
    "- Nota: Convertir una fecha string a una fecha tipo datetime."
   ]
  },
  {
   "cell_type": "code",
   "execution_count": 31,
   "id": "5a5aee2e",
   "metadata": {},
   "outputs": [
    {
     "data": {
      "text/plain": [
       "datetime.datetime(2019, 10, 16, 2, 43)"
      ]
     },
     "execution_count": 31,
     "metadata": {},
     "output_type": "execute_result"
    }
   ],
   "source": [
    "string = 'Oct 16 2019 2:43PM'\n",
    "date_object = datetime.datetime.strptime(string, \"%b %d %Y %H:%M%p\")\n",
    "date_object"
   ]
  },
  {
   "cell_type": "code",
   "execution_count": null,
   "id": "3473f225",
   "metadata": {},
   "outputs": [],
   "source": []
  },
  {
   "cell_type": "code",
   "execution_count": null,
   "id": "e86e8008",
   "metadata": {},
   "outputs": [],
   "source": []
  },
  {
   "cell_type": "markdown",
   "id": "dac7380d",
   "metadata": {},
   "source": [
    "### Ejercicio 4\n",
    "- Muestra la hora actual."
   ]
  },
  {
   "cell_type": "code",
   "execution_count": 34,
   "id": "1d0c0aea",
   "metadata": {},
   "outputs": [
    {
     "data": {
      "text/plain": [
       "'19:47:04'"
      ]
     },
     "execution_count": 34,
     "metadata": {},
     "output_type": "execute_result"
    }
   ],
   "source": [
    "now = datetime.datetime.now()\n",
    "string = now.strftime(\"%H:%M:%S\")\n",
    "string"
   ]
  },
  {
   "cell_type": "code",
   "execution_count": null,
   "id": "7da1f286",
   "metadata": {},
   "outputs": [],
   "source": []
  },
  {
   "cell_type": "code",
   "execution_count": null,
   "id": "0faf7615",
   "metadata": {},
   "outputs": [],
   "source": []
  },
  {
   "cell_type": "markdown",
   "id": "4888b068",
   "metadata": {},
   "source": [
    "### Ejercicio 5\n",
    "\n",
    "- Utilizando la fecha y hora actual imprime la siguiente información:\n",
    "\n",
    "1. Fecha y hora actual\n",
    "2. Año actual\n",
    "3. Mes del año\n",
    "4. Numero de la semana del año\n",
    "5. Numero del dia de la semana\n",
    "6. Dia del año\n",
    "7. Dia del mes\n",
    "8. Dia de la semana"
   ]
  },
  {
   "cell_type": "code",
   "execution_count": 35,
   "id": "2be25c27",
   "metadata": {},
   "outputs": [
    {
     "name": "stdout",
     "output_type": "stream",
     "text": [
      "Fecha y hora actual 11/12/2024 19:47:04\n",
      "Año actual 2024\n",
      "Mes del año December\n",
      "Numero de la semana del año 50\n",
      "Numero del dia de la semana 3\n",
      "Dia del año 346\n",
      "Dia del mes 11\n",
      "Dia de la semana Wednesday\n"
     ]
    }
   ],
   "source": [
    "print(f\"Fecha y hora actual {now.strftime(\"%d/%m/%Y %H:%M:%S\")}\")\n",
    "print(f\"Año actual {now.strftime(\"%Y\")}\")\n",
    "print(f\"Mes del año {now.strftime(\"%B\")}\")\n",
    "print(f\"Numero de la semana del año {now.strftime(\"%W\")}\")\n",
    "print(f\"Numero del dia de la semana {now.strftime(\"%w\")}\")\n",
    "print(f\"Dia del año {now.strftime(\"%j\")}\")\n",
    "print(f\"Dia del mes {now.strftime(\"%d\")}\")\n",
    "print(f\"Dia de la semana {now.strftime(\"%A\")}\")"
   ]
  },
  {
   "cell_type": "code",
   "execution_count": null,
   "id": "f96e8eb6",
   "metadata": {},
   "outputs": [],
   "source": []
  },
  {
   "cell_type": "code",
   "execution_count": null,
   "id": "4f5fe2b2",
   "metadata": {},
   "outputs": [],
   "source": []
  },
  {
   "cell_type": "markdown",
   "id": "2b6c624f",
   "metadata": {},
   "source": [
    "### Ejercicio 6\n",
    "\n",
    "- Escribe un código que convierta la siguiente cadena que se encuentra en formato timestamp unix **\"1284105682\"** a un formato que se pueda leer."
   ]
  },
  {
   "cell_type": "code",
   "execution_count": 37,
   "id": "5eaab7d8",
   "metadata": {},
   "outputs": [
    {
     "data": {
      "text/plain": [
       "datetime.datetime(2010, 9, 10, 10, 1, 22)"
      ]
     },
     "execution_count": 37,
     "metadata": {},
     "output_type": "execute_result"
    }
   ],
   "source": [
    "objeto_datetime = datetime.datetime.fromtimestamp(1284105682)\n",
    "objeto_datetime"
   ]
  },
  {
   "cell_type": "code",
   "execution_count": null,
   "id": "6580497b",
   "metadata": {},
   "outputs": [],
   "source": []
  },
  {
   "cell_type": "code",
   "execution_count": null,
   "id": "b863e2d9",
   "metadata": {},
   "outputs": [],
   "source": []
  },
  {
   "cell_type": "markdown",
   "id": "9fa710a8",
   "metadata": {},
   "source": [
    "### Ejercicio 7\n",
    "- Escribe un programa que imprima la fecha de 5 días atras."
   ]
  },
  {
   "cell_type": "code",
   "execution_count": 48,
   "id": "c2508c37",
   "metadata": {},
   "outputs": [
    {
     "data": {
      "text/plain": [
       "datetime.datetime(2010, 9, 5, 10, 1, 22)"
      ]
     },
     "execution_count": 48,
     "metadata": {},
     "output_type": "execute_result"
    }
   ],
   "source": [
    "numero = 1284105682 - 432000\n",
    "objeto_datetime = datetime.datetime.fromtimestamp(numero)\n",
    "objeto_datetime"
   ]
  },
  {
   "cell_type": "code",
   "execution_count": null,
   "id": "e95406c6",
   "metadata": {},
   "outputs": [],
   "source": []
  },
  {
   "cell_type": "code",
   "execution_count": null,
   "id": "e4161e92",
   "metadata": {},
   "outputs": [],
   "source": []
  },
  {
   "cell_type": "markdown",
   "id": "ea3d4997",
   "metadata": {},
   "source": [
    "### Ejercicio 8\n",
    "- Utiliza un bucle **for** para imprimir los proximos 5 dias."
   ]
  },
  {
   "cell_type": "code",
   "execution_count": 49,
   "id": "311bfc3d",
   "metadata": {},
   "outputs": [
    {
     "name": "stdout",
     "output_type": "stream",
     "text": [
      "2010-09-15 10:01:22\n",
      "2010-09-20 10:01:22\n",
      "2010-09-25 10:01:22\n",
      "2010-09-30 10:01:22\n",
      "2010-10-05 10:01:22\n"
     ]
    }
   ],
   "source": [
    "numero = 1284105682\n",
    "for i in range (1,6):\n",
    "    fecha = numero + i*432000\n",
    "    print(datetime.datetime.fromtimestamp(fecha))"
   ]
  },
  {
   "cell_type": "code",
   "execution_count": null,
   "id": "891c5751",
   "metadata": {},
   "outputs": [],
   "source": []
  },
  {
   "cell_type": "code",
   "execution_count": null,
   "id": "107310ee",
   "metadata": {},
   "outputs": [],
   "source": []
  },
  {
   "cell_type": "markdown",
   "id": "9f2f692d",
   "metadata": {},
   "source": [
    "### Ejercicio 9\n",
    "- Escribe un código que agregue 5 segundos a la hora actual."
   ]
  },
  {
   "cell_type": "code",
   "execution_count": 69,
   "id": "6299f143",
   "metadata": {},
   "outputs": [
    {
     "name": "stdout",
     "output_type": "stream",
     "text": [
      "2024-12-11 20:50:58.042531\n",
      "2024-12-11 20:50:53.042531\n"
     ]
    }
   ],
   "source": [
    "numero = time.time()\n",
    "print(datetime.datetime.fromtimestamp(numero+5))\n",
    "print(datetime.datetime.fromtimestamp(numero))"
   ]
  },
  {
   "cell_type": "code",
   "execution_count": null,
   "id": "828c806b",
   "metadata": {},
   "outputs": [],
   "source": []
  },
  {
   "cell_type": "code",
   "execution_count": null,
   "id": "30269f13",
   "metadata": {},
   "outputs": [],
   "source": []
  },
  {
   "cell_type": "markdown",
   "id": "e6fa33cc",
   "metadata": {},
   "source": [
    "### Ejercicio 10\n",
    "\n",
    "- Escribe un código que muestre la fecha de ayer, hoy y mañana."
   ]
  },
  {
   "cell_type": "code",
   "execution_count": 70,
   "id": "a1b81653",
   "metadata": {},
   "outputs": [
    {
     "name": "stdout",
     "output_type": "stream",
     "text": [
      "11/12/24\n",
      "10/12/24\n",
      "12/12/24\n"
     ]
    }
   ],
   "source": [
    "hoy = datetime.datetime.fromtimestamp(time.time())\n",
    "mañana = datetime.datetime.fromtimestamp(time.time() + 86400)\n",
    "ayer = datetime.datetime.fromtimestamp(time.time() - 86400)\n",
    "\n",
    "s_hoy=hoy.strftime(\"%d/%m/%y\")\n",
    "s_mañana=mañana.strftime(\"%d/%m/%y\")\n",
    "s_ayer=ayer.strftime(\"%d/%m/%y\")\n",
    "\n",
    "print(s_hoy)\n",
    "print(s_ayer)\n",
    "print(s_mañana)"
   ]
  },
  {
   "cell_type": "code",
   "execution_count": null,
   "id": "01cf4839",
   "metadata": {},
   "outputs": [],
   "source": []
  },
  {
   "cell_type": "code",
   "execution_count": null,
   "id": "5c397c62",
   "metadata": {},
   "outputs": [],
   "source": []
  },
  {
   "cell_type": "markdown",
   "id": "bf3cb171",
   "metadata": {},
   "source": [
    "### Ejercicio 11\n",
    "- Escribe un código que convierta una fecha a unix timestamp."
   ]
  },
  {
   "cell_type": "code",
   "execution_count": 71,
   "id": "87e59068",
   "metadata": {},
   "outputs": [
    {
     "data": {
      "text/plain": [
       "1733947130.286081"
      ]
     },
     "execution_count": 71,
     "metadata": {},
     "output_type": "execute_result"
    }
   ],
   "source": [
    "now = datetime.datetime.now()\n",
    "timestamp = datetime.datetime.timestamp(now)\n",
    "timestamp"
   ]
  },
  {
   "cell_type": "code",
   "execution_count": null,
   "id": "a07a78aa",
   "metadata": {},
   "outputs": [],
   "source": []
  },
  {
   "cell_type": "code",
   "execution_count": null,
   "id": "e88b97c1",
   "metadata": {},
   "outputs": [],
   "source": []
  },
  {
   "cell_type": "markdown",
   "id": "44994dbb",
   "metadata": {},
   "source": [
    "### Ejercicio 12\n",
    "\n",
    "- Escribe un código que genere la fecha y hora actual del tipo **datetime** como **string**. (Dale el formato que quieras.)"
   ]
  },
  {
   "cell_type": "code",
   "execution_count": 73,
   "id": "c7e38f97",
   "metadata": {},
   "outputs": [],
   "source": [
    "s_ahora=datetime.datetime.fromtimestamp(time.time()).strftime(\"%d/%m/%y %H:%M:%S\")"
   ]
  },
  {
   "cell_type": "code",
   "execution_count": 74,
   "id": "d4fa4a49",
   "metadata": {},
   "outputs": [
    {
     "data": {
      "text/plain": [
       "'11/12/24 21:03:27'"
      ]
     },
     "execution_count": 74,
     "metadata": {},
     "output_type": "execute_result"
    }
   ],
   "source": [
    "s_ahora"
   ]
  },
  {
   "cell_type": "code",
   "execution_count": null,
   "id": "cba05354",
   "metadata": {},
   "outputs": [],
   "source": []
  },
  {
   "cell_type": "markdown",
   "id": "ed6e7b81",
   "metadata": {},
   "source": [
    "### Ejercicio 13\n",
    "\n",
    "- Calcula la cantidad de segundos que han pasado desde el **01-Jan-2000**."
   ]
  },
  {
   "cell_type": "code",
   "execution_count": 85,
   "id": "66ebcc7c",
   "metadata": {},
   "outputs": [],
   "source": [
    "hoy = datetime.datetime.fromtimestamp(time.time())\n",
    "\n",
    "año = hoy.year\n",
    "mes = hoy.month\n",
    "dia = hoy.day\n",
    "\n",
    "actual = datetime.date(year=año, month=mes, day=dia)\n",
    "restar = datetime.date(year=2000, month=1, day=1)\n",
    "\n",
    "diferencia = (actual - restar)\n"
   ]
  },
  {
   "cell_type": "code",
   "execution_count": 88,
   "id": "462a0e80",
   "metadata": {},
   "outputs": [
    {
     "data": {
      "text/plain": [
       "787190400"
      ]
     },
     "execution_count": 88,
     "metadata": {},
     "output_type": "execute_result"
    }
   ],
   "source": [
    "segundos = diferencia.days*24*60*60\n",
    "segundos"
   ]
  },
  {
   "cell_type": "code",
   "execution_count": null,
   "id": "862141bf",
   "metadata": {},
   "outputs": [],
   "source": []
  },
  {
   "cell_type": "code",
   "execution_count": null,
   "id": "9defe1ce",
   "metadata": {},
   "outputs": [],
   "source": [
    "##############################################################################################################################"
   ]
  }
 ],
 "metadata": {
  "kernelspec": {
   "display_name": "Python 3",
   "language": "python",
   "name": "python3"
  },
  "language_info": {
   "codemirror_mode": {
    "name": "ipython",
    "version": 3
   },
   "file_extension": ".py",
   "mimetype": "text/x-python",
   "name": "python",
   "nbconvert_exporter": "python",
   "pygments_lexer": "ipython3",
   "version": "3.13.1"
  }
 },
 "nbformat": 4,
 "nbformat_minor": 5
}
