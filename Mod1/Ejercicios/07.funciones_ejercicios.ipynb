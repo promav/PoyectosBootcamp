{
 "cells": [
  {
   "cell_type": "markdown",
   "id": "617e80df",
   "metadata": {},
   "source": [
    "## Ejercicios - Funciones"
   ]
  },
  {
   "cell_type": "markdown",
   "id": "9ff17fdc",
   "metadata": {},
   "source": [
    "### Ejercicio 1\n",
    "- Crea una función que retorne el minimo de 2 números, no puedes usar la función **min()**."
   ]
  },
  {
   "cell_type": "code",
   "execution_count": 2,
   "id": "b2988ac2",
   "metadata": {},
   "outputs": [],
   "source": [
    "def ft_minimo(num1, num2):\n",
    "    if num1 < num2:\n",
    "        minimo = num1\n",
    "    else:\n",
    "        minimo = num2\n",
    "    return minimo"
   ]
  },
  {
   "cell_type": "code",
   "execution_count": 3,
   "id": "c1bf472d",
   "metadata": {},
   "outputs": [
    {
     "data": {
      "text/plain": [
       "5"
      ]
     },
     "execution_count": 3,
     "metadata": {},
     "output_type": "execute_result"
    }
   ],
   "source": [
    "ft_minimo(5 , 10)"
   ]
  },
  {
   "cell_type": "code",
   "execution_count": null,
   "id": "1a08c3b9",
   "metadata": {},
   "outputs": [],
   "source": []
  },
  {
   "cell_type": "markdown",
   "id": "299d07e1",
   "metadata": {},
   "source": [
    "### Ejercicio 2\n",
    "- Crea una función que tenga como parametro de entrada 4 números y devuelva la suma y multiplicación de dichos números en dos variables."
   ]
  },
  {
   "cell_type": "code",
   "execution_count": 4,
   "id": "29dc4315",
   "metadata": {},
   "outputs": [],
   "source": [
    "def ft_suma_multiplicacion(num1, num2, num3, num4):\n",
    "    suma = num1 + num2 + num3 + num4\n",
    "    multiplicacion = num1 * num2 * num3 * num4\n",
    "    return suma, multiplicacion"
   ]
  },
  {
   "cell_type": "code",
   "execution_count": 7,
   "id": "771dd0ed",
   "metadata": {},
   "outputs": [
    {
     "name": "stdout",
     "output_type": "stream",
     "text": [
      "suma 10, multiplicacion 24\n"
     ]
    }
   ],
   "source": [
    "sumar, multiplicar = ft_suma_multiplicacion(1, 2, 3, 4)\n",
    "print(f\"suma {sumar}, multiplicacion {multiplicar}\")"
   ]
  },
  {
   "cell_type": "code",
   "execution_count": null,
   "id": "06eb5e0e",
   "metadata": {},
   "outputs": [],
   "source": []
  },
  {
   "cell_type": "markdown",
   "id": "b33d16b5",
   "metadata": {},
   "source": [
    "### Ejercicio 3\n",
    "- Crea una función que devuelva los dos números menores (en forma de lista) de 4 números."
   ]
  },
  {
   "cell_type": "code",
   "execution_count": 8,
   "id": "413447a6",
   "metadata": {},
   "outputs": [],
   "source": [
    "def ft_lista_minimos(num1, num2, num3, num4):\n",
    "    lista = [num1, num2, num3, num4]\n",
    "    lista.remove(max(lista))\n",
    "    lista.remove(max(lista))\n",
    "    return lista"
   ]
  },
  {
   "cell_type": "code",
   "execution_count": 10,
   "id": "763659b4",
   "metadata": {},
   "outputs": [
    {
     "data": {
      "text/plain": [
       "[1, 2]"
      ]
     },
     "execution_count": 10,
     "metadata": {},
     "output_type": "execute_result"
    }
   ],
   "source": [
    "listado = ft_lista_minimos(1, 4, 2, 3)\n",
    "listado"
   ]
  },
  {
   "cell_type": "code",
   "execution_count": null,
   "id": "6c0e5415",
   "metadata": {},
   "outputs": [],
   "source": []
  },
  {
   "cell_type": "markdown",
   "id": "b5b102ac",
   "metadata": {},
   "source": [
    "### Ejercicio 4\n",
    "- Crea una función que devuelva los 10 números menores de una lista de 20 números aleatorios entre 10 y 50. (Recuerda importar la libreria)\n",
    "- La lista de número aleatorios se puede crear fuera o dentro de la función."
   ]
  },
  {
   "cell_type": "code",
   "execution_count": 18,
   "id": "6f33698b",
   "metadata": {},
   "outputs": [],
   "source": [
    "import random\n",
    "\n",
    "def ft_lista_minimos_random():\n",
    "    lista = []\n",
    "    for x in range(20):\n",
    "        lista.append(random.randint(10, 50))\n",
    "    print(lista)\n",
    "    for x in range(10):\n",
    "        lista.remove(max(lista))\n",
    "    return lista"
   ]
  },
  {
   "cell_type": "code",
   "execution_count": 19,
   "id": "77d7dacb",
   "metadata": {},
   "outputs": [
    {
     "name": "stdout",
     "output_type": "stream",
     "text": [
      "[29, 45, 37, 40, 21, 40, 27, 28, 20, 25, 15, 37, 48, 37, 43, 29, 21, 28, 47, 41]\n"
     ]
    },
    {
     "data": {
      "text/plain": [
       "[29, 21, 27, 28, 20, 25, 15, 29, 21, 28]"
      ]
     },
     "execution_count": 19,
     "metadata": {},
     "output_type": "execute_result"
    }
   ],
   "source": [
    "listado = ft_lista_minimos_random()\n",
    "listado"
   ]
  },
  {
   "cell_type": "code",
   "execution_count": null,
   "id": "f80ee060",
   "metadata": {},
   "outputs": [],
   "source": []
  },
  {
   "cell_type": "markdown",
   "id": "af2c3e2a",
   "metadata": {},
   "source": [
    "### Ejercicio 5\n",
    "- Crea una función que realice la misma tarea que **len()**. "
   ]
  },
  {
   "cell_type": "code",
   "execution_count": 20,
   "id": "fd7e71ac",
   "metadata": {},
   "outputs": [],
   "source": [
    "def ft_len(objeto):\n",
    "    longitud = 0\n",
    "    for elemento in objeto:\n",
    "        longitud += 1\n",
    "    return longitud"
   ]
  },
  {
   "cell_type": "code",
   "execution_count": 22,
   "id": "d0271389",
   "metadata": {},
   "outputs": [
    {
     "data": {
      "text/plain": [
       "5"
      ]
     },
     "execution_count": 22,
     "metadata": {},
     "output_type": "execute_result"
    }
   ],
   "source": [
    "ft_len([\"Hola\", \"soy\", 2, 3, 5])"
   ]
  },
  {
   "cell_type": "code",
   "execution_count": null,
   "id": "68d70a18",
   "metadata": {},
   "outputs": [],
   "source": []
  },
  {
   "cell_type": "markdown",
   "id": "16725232",
   "metadata": {},
   "source": [
    "### Ejercicio 6\n",
    "- Escribe una función que:\n",
    "- Tome como parametro de entrada una lista de números y letras\n",
    "- Convierta las letras a su forma en mayuscula.\n",
    "- Que calcule el cuadrado de los números\n",
    "- Que retorne ese resultado en una lista en el mismo orden.\n",
    "\n",
    "**Ejemplo:**\n",
    "\n",
    "**entrada = [1, 2, 3, 4, \"a\", \"b\", \"c\", \"d\"]**\n",
    "\n",
    "**salida = [1, 4, 9, 16, \"A\", \"B\", \"C\", \"D\"]**"
   ]
  },
  {
   "cell_type": "code",
   "execution_count": 27,
   "id": "f47c456d",
   "metadata": {},
   "outputs": [],
   "source": [
    "def ft_mayusculas_cuadrados(lista):\n",
    "    lista_salida = []\n",
    "    for elemento in lista:\n",
    "        if type(elemento) == int:\n",
    "            lista_salida.append(elemento ** 2)\n",
    "        elif type(elemento) == str:\n",
    "            lista_salida.append(elemento.upper())\n",
    "        else:\n",
    "            lista_salida.append(elemento)\n",
    "    return lista_salida"
   ]
  },
  {
   "cell_type": "code",
   "execution_count": 28,
   "id": "ca5a46ed",
   "metadata": {},
   "outputs": [
    {
     "data": {
      "text/plain": [
       "[1, 4, 9, 16, 'A', 'B', 'C', 'D']"
      ]
     },
     "execution_count": 28,
     "metadata": {},
     "output_type": "execute_result"
    }
   ],
   "source": [
    "entrada = [1, 2, 3, 4, \"a\", \"b\", \"c\", \"d\"]\n",
    "salida = ft_mayusculas_cuadrados(entrada)\n",
    "salida"
   ]
  },
  {
   "cell_type": "code",
   "execution_count": null,
   "id": "73fc8a6f",
   "metadata": {},
   "outputs": [],
   "source": []
  },
  {
   "cell_type": "markdown",
   "id": "b4a5e1be",
   "metadata": {},
   "source": [
    "### Ejercicio 7\n",
    "\n",
    "- Crea una funcion que reciba una lista de enteros y que retorne la misma lista sin numeros repetidos y ordenados."
   ]
  },
  {
   "cell_type": "code",
   "execution_count": 46,
   "id": "1b368b6a",
   "metadata": {},
   "outputs": [],
   "source": [
    "def ft_limpiar_lista(lista):\n",
    "    i = 0\n",
    "    lista.sort()\n",
    "    while i < len(lista):\n",
    "        if lista.count(lista[i]) > 1:\n",
    "            lista.pop(i)\n",
    "        else:\n",
    "            i += 1\n",
    "    return lista"
   ]
  },
  {
   "cell_type": "code",
   "execution_count": 47,
   "id": "65caaaf1",
   "metadata": {},
   "outputs": [
    {
     "data": {
      "text/plain": [
       "[1, 3, 4, 5]"
      ]
     },
     "execution_count": 47,
     "metadata": {},
     "output_type": "execute_result"
    }
   ],
   "source": [
    "lista = [5, 4, 1, 5, 1, 1, 4, 3, 5, 4, 3]\n",
    "ft_limpiar_lista(lista)\n",
    "lista"
   ]
  },
  {
   "cell_type": "code",
   "execution_count": null,
   "id": "9210d8ac",
   "metadata": {},
   "outputs": [],
   "source": []
  },
  {
   "cell_type": "markdown",
   "id": "46a6ff3d",
   "metadata": {},
   "source": [
    "### Ejercicio 8\n",
    "- Dada una lista de numeros enteros, retornar cuantos numeros hay con un numero par de digitos."
   ]
  },
  {
   "cell_type": "code",
   "execution_count": 49,
   "id": "d1077bbf",
   "metadata": {},
   "outputs": [],
   "source": [
    "def ft_numero_digitos(numero):\n",
    "    digitos = 0\n",
    "    if numero == 0:\n",
    "        return 1\n",
    "    while numero != 0:\n",
    "        numero = numero // 10\n",
    "        digitos += 1\n",
    "    return digitos\n",
    "\n",
    "def ft_contar_digitos_pares(lista):\n",
    "    digitos_pares = 0\n",
    "    for elemento in lista:\n",
    "        if ft_numero_digitos(elemento) % 2 == 0:\n",
    "            digitos_pares += 1\n",
    "    return digitos_pares"
   ]
  },
  {
   "cell_type": "code",
   "execution_count": 50,
   "id": "dfe055e2",
   "metadata": {},
   "outputs": [
    {
     "data": {
      "text/plain": [
       "4"
      ]
     },
     "execution_count": 50,
     "metadata": {},
     "output_type": "execute_result"
    }
   ],
   "source": [
    "lista = [1, 10, 100, 1000, 10000, 100000, 20]\n",
    "\n",
    "ft_contar_digitos_pares(lista)"
   ]
  },
  {
   "cell_type": "code",
   "execution_count": null,
   "id": "ccf746a3",
   "metadata": {},
   "outputs": [],
   "source": []
  },
  {
   "cell_type": "code",
   "execution_count": null,
   "id": "f3a41a72-ec75-4125-a921-435af6484930",
   "metadata": {},
   "outputs": [],
   "source": [
    "##############################################################################################################################"
   ]
  }
 ],
 "metadata": {
  "kernelspec": {
   "display_name": "Python 3",
   "language": "python",
   "name": "python3"
  },
  "language_info": {
   "codemirror_mode": {
    "name": "ipython",
    "version": 3
   },
   "file_extension": ".py",
   "mimetype": "text/x-python",
   "name": "python",
   "nbconvert_exporter": "python",
   "pygments_lexer": "ipython3",
   "version": "3.13.1"
  }
 },
 "nbformat": 4,
 "nbformat_minor": 5
}
