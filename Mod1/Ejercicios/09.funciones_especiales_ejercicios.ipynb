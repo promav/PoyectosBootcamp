{
 "cells": [
  {
   "cell_type": "markdown",
   "id": "de36e953",
   "metadata": {},
   "source": [
    "## Ejercicios - Funciones Especiales"
   ]
  },
  {
   "cell_type": "code",
   "execution_count": 1,
   "id": "a05cc9d4",
   "metadata": {},
   "outputs": [],
   "source": [
    "import random"
   ]
  },
  {
   "cell_type": "markdown",
   "id": "14724448",
   "metadata": {
    "tags": []
   },
   "source": [
    "### Operador Ternario"
   ]
  },
  {
   "cell_type": "markdown",
   "id": "15bb5ca3",
   "metadata": {},
   "source": [
    "### Ejercicio 1:\n",
    "- Transforma el siguiente condicional usando el operador ternario:"
   ]
  },
  {
   "cell_type": "code",
   "execution_count": 2,
   "id": "9be8af0f",
   "metadata": {},
   "outputs": [
    {
     "name": "stdout",
     "output_type": "stream",
     "text": [
      "par\n"
     ]
    }
   ],
   "source": [
    "valor = random.randint(1000, 2000)\n",
    "\n",
    "if valor % 2 == 0:\n",
    "    \n",
    "    x = \"par\"\n",
    "    \n",
    "else:\n",
    "    \n",
    "    x = \"impar\"\n",
    "    \n",
    "print(x)"
   ]
  },
  {
   "cell_type": "code",
   "execution_count": 5,
   "id": "6a84011a",
   "metadata": {},
   "outputs": [
    {
     "name": "stdout",
     "output_type": "stream",
     "text": [
      "par\n"
     ]
    }
   ],
   "source": [
    "valor = random.randint(1000, 2000)\n",
    "\n",
    "x = 'par' if valor % 2 == 0 else 'impar'\n",
    "\n",
    "print(x)"
   ]
  },
  {
   "cell_type": "code",
   "execution_count": null,
   "id": "1c4e5f8c",
   "metadata": {},
   "outputs": [],
   "source": []
  },
  {
   "cell_type": "markdown",
   "id": "712de00b",
   "metadata": {},
   "source": [
    "### Ejercicio 2:\n",
    "- Transforma el siguiente condicional usando el operador ternario:"
   ]
  },
  {
   "cell_type": "code",
   "execution_count": null,
   "id": "0d642085",
   "metadata": {},
   "outputs": [],
   "source": [
    "a = random.random()\n",
    "b = random.random()\n",
    "\n",
    "if a > b:\n",
    "    x = a\n",
    "else:\n",
    "    x = b\n",
    "print(\"a:\", a)\n",
    "print(\"b:\", b)\n",
    "print(\"x:\", x)"
   ]
  },
  {
   "cell_type": "code",
   "execution_count": 9,
   "id": "95405c14",
   "metadata": {},
   "outputs": [
    {
     "name": "stdout",
     "output_type": "stream",
     "text": [
      "a: 0.032714727014912515\n",
      "b: 0.4295799285603934\n",
      "x: 0.4295799285603934\n"
     ]
    }
   ],
   "source": [
    "a = random.random()\n",
    "b = random.random()\n",
    "\n",
    "x = a if a > b else b\n",
    "\n",
    "print(\"a:\", a)\n",
    "print(\"b:\", b)\n",
    "print(\"x:\", x)"
   ]
  },
  {
   "cell_type": "code",
   "execution_count": null,
   "id": "9c8bedc2",
   "metadata": {},
   "outputs": [],
   "source": []
  },
  {
   "cell_type": "markdown",
   "id": "6a223d59",
   "metadata": {},
   "source": [
    "### Ejercicio 3:\n",
    "- Transforma el siguiente condicional usando el operador ternario:"
   ]
  },
  {
   "cell_type": "code",
   "execution_count": null,
   "id": "72b57020",
   "metadata": {},
   "outputs": [],
   "source": [
    "string = input(\"Ingresa una frase con palabras separadas por espacios: \")\n",
    "\n",
    "if len(string.split()) > 5:\n",
    "    x = len(string.split())\n",
    "    \n",
    "else:\n",
    "    x = 0\n",
    "    \n",
    "print(x)"
   ]
  },
  {
   "cell_type": "code",
   "execution_count": 11,
   "id": "2500650b",
   "metadata": {},
   "outputs": [
    {
     "name": "stdout",
     "output_type": "stream",
     "text": [
      "6\n"
     ]
    }
   ],
   "source": [
    "string = input(\"Ingresa una frase con palabras separadas por espacios: \")\n",
    "\n",
    "x = len(string.split()) if len(string.split()) > 5 else 0\n",
    "    \n",
    "   \n",
    "print(x)"
   ]
  },
  {
   "cell_type": "code",
   "execution_count": null,
   "id": "3dcb26e6",
   "metadata": {},
   "outputs": [],
   "source": []
  },
  {
   "cell_type": "code",
   "execution_count": null,
   "id": "ecf45d2d",
   "metadata": {},
   "outputs": [],
   "source": []
  },
  {
   "cell_type": "markdown",
   "id": "7047f230",
   "metadata": {},
   "source": [
    "### Ejercicio 4:\n",
    "- Transforma el siguiente condicional usando el operador ternario:"
   ]
  },
  {
   "cell_type": "code",
   "execution_count": null,
   "id": "411b9767",
   "metadata": {},
   "outputs": [],
   "source": [
    "numero = 5\n",
    "\n",
    "if type(numero) == int:\n",
    "    x = numero**2\n",
    "    \n",
    "else:\n",
    "    x = numero\n",
    "    \n",
    "print(x)"
   ]
  },
  {
   "cell_type": "code",
   "execution_count": 13,
   "id": "620c3c31",
   "metadata": {},
   "outputs": [
    {
     "name": "stdout",
     "output_type": "stream",
     "text": [
      "5\n"
     ]
    }
   ],
   "source": [
    "numero = 5\n",
    "\n",
    "x = numero**2 if type(numero) == int else numero\n",
    "    \n",
    "    \n",
    "print(x)"
   ]
  },
  {
   "cell_type": "code",
   "execution_count": null,
   "id": "b31e4e41",
   "metadata": {},
   "outputs": [],
   "source": []
  },
  {
   "cell_type": "code",
   "execution_count": null,
   "id": "465ac4f8",
   "metadata": {},
   "outputs": [],
   "source": []
  },
  {
   "cell_type": "markdown",
   "id": "89ef4b85",
   "metadata": {},
   "source": [
    "### List Comprehensions"
   ]
  },
  {
   "cell_type": "markdown",
   "id": "933f5b6f",
   "metadata": {},
   "source": [
    "### Ejercicio 5:\n",
    "- Inicializa una lista vacia.\n",
    "- Llena la lista 15 números enteros aleatorios entre 0 y 10 utilizando la función: **random.randint()** y un bucle **for**.\n",
    "- Después repite el ejercicio utilizando **list comprehension**."
   ]
  },
  {
   "cell_type": "code",
   "execution_count": 14,
   "id": "79eb56a7",
   "metadata": {},
   "outputs": [
    {
     "data": {
      "text/plain": [
       "[10, 8, 9, 3, 6, 8, 6, 9, 5, 1, 3, 10, 8, 8, 0]"
      ]
     },
     "execution_count": 14,
     "metadata": {},
     "output_type": "execute_result"
    }
   ],
   "source": [
    "lista_vacia = []\n",
    "\n",
    "for i in range(15):\n",
    "    lista_vacia.append(random.randint(0, 10))\n",
    "    \n",
    "    \n",
    "lista_vacia"
   ]
  },
  {
   "cell_type": "code",
   "execution_count": 16,
   "id": "0bdefdf3",
   "metadata": {},
   "outputs": [
    {
     "data": {
      "text/plain": [
       "[]"
      ]
     },
     "execution_count": 16,
     "metadata": {},
     "output_type": "execute_result"
    }
   ],
   "source": [
    "lista_vacia = [random.randint(0, 10) for i in range(15)]\n",
    "\n",
    "lista_vacia"
   ]
  },
  {
   "cell_type": "code",
   "execution_count": null,
   "id": "2d6912f1",
   "metadata": {},
   "outputs": [],
   "source": []
  },
  {
   "cell_type": "markdown",
   "id": "59a80178",
   "metadata": {},
   "source": [
    "### Ejercicio 6:\n",
    "- Inicializa una lista vacia.\n",
    "- Llena la lista 15 números enteros aleatorios entre 1 y 100 utilizando la función: **random.randint()** y un bucle **for**.\n",
    "- Después inicializa otra lista vacia y llenala con los números impares de la primera lista.\n",
    "\n",
    "\n",
    "\n",
    "- Repite este proceso usando **list comprehension**.\n",
    "    - Tendras que hacer dos **list comprehensions**, uno para crear la lista con los 15 elementos y el segundo para filtrar."
   ]
  },
  {
   "cell_type": "code",
   "execution_count": 18,
   "id": "476d2a8b",
   "metadata": {},
   "outputs": [],
   "source": [
    "lista_vacia = [random.randint(1, 100) for i in range(15)]\n",
    "lista_vacia_2 = [elemento for elemento in lista_vacia if elemento % 2 != 0]"
   ]
  },
  {
   "cell_type": "code",
   "execution_count": 19,
   "id": "4f7c86e8",
   "metadata": {},
   "outputs": [
    {
     "name": "stdout",
     "output_type": "stream",
     "text": [
      "[79, 92, 89, 59, 44, 61, 66, 14, 95, 7, 77, 45, 16, 62, 97]\n",
      "[79, 89, 59, 61, 95, 7, 77, 45, 97]\n"
     ]
    }
   ],
   "source": [
    "print(lista_vacia)\n",
    "print(lista_vacia_2)"
   ]
  },
  {
   "cell_type": "code",
   "execution_count": null,
   "id": "723800e5",
   "metadata": {},
   "outputs": [],
   "source": []
  },
  {
   "cell_type": "markdown",
   "id": "a8e42b5b",
   "metadata": {},
   "source": [
    "### Ejercicio 6:\n",
    "- A partir de la siguiente **lista = [\"1\",\"2\",\"3\",\"4\",\"5\",\"6\"]**, usando bucles **for**, obten el siguiente resultado **lista = [11, 22, 33, 44, 55, 66]**.\n",
    "    - **Nota:** los elementos de la primera lista son **strings** y los elementos de la segunda lista son **enteros**.\n",
    "    \n",
    "- Repite el ejercicio pero usando **list comprehensions**."
   ]
  },
  {
   "cell_type": "code",
   "execution_count": 20,
   "id": "61a55d17",
   "metadata": {},
   "outputs": [
    {
     "data": {
      "text/plain": [
       "[11, 22, 33, 44, 55, 66]"
      ]
     },
     "execution_count": 20,
     "metadata": {},
     "output_type": "execute_result"
    }
   ],
   "source": [
    "lista = [\"1\",\"2\",\"3\",\"4\",\"5\",\"6\"]\n",
    "lista_2 = [int(elemento + elemento) for elemento in lista]\n",
    "\n",
    "lista_2"
   ]
  },
  {
   "cell_type": "code",
   "execution_count": null,
   "id": "0aaf6d27",
   "metadata": {},
   "outputs": [],
   "source": []
  },
  {
   "cell_type": "code",
   "execution_count": null,
   "id": "36aa487d",
   "metadata": {},
   "outputs": [],
   "source": []
  },
  {
   "cell_type": "markdown",
   "id": "184a56f2",
   "metadata": {},
   "source": [
    "### Ejercicio 7:\n",
    "- Inicializa una lista vacia y llenala de 20 números enteros aleatorios del 1 al 100 (llamala **lista_1**).\n",
    "- Inicializa otra lista vacia y recorriendo la primera lista, llenala con 0's o 1's si los elementos son pares o impares, respectivamente (llamala **lista_2**).\n",
    "    - Ejemplo: \n",
    "        - input: **lista_1 = [58, 42, 47, 26, 45, 93, 24, 29, 16, 92]**\n",
    "        - output: **lista_2 = [0, 0, 1, 0, 1, 1, 0, 1, 0, 0]**\n",
    "        \n",
    "        \n",
    "- Repite el mismo ejercicio usando **list comprehension**."
   ]
  },
  {
   "cell_type": "code",
   "execution_count": 34,
   "id": "af5a77de",
   "metadata": {},
   "outputs": [
    {
     "name": "stdout",
     "output_type": "stream",
     "text": [
      "[72, 9, 35, 96, 83, 62, 71, 33, 40, 13, 80, 61, 65, 86, 82, 86, 63, 23, 80, 63]\n",
      "[0, 1, 1, 0, 1, 0, 1, 1, 0, 1, 0, 1, 1, 0, 0, 0, 1, 1, 0, 1]\n"
     ]
    }
   ],
   "source": [
    "lista_1 = [random.randint(1, 100) for x in range(20)]\n",
    "lista_2 = [0 if elemento % 2 == 0 else 1 for elemento in lista_1]\n",
    "\n",
    "print(lista_1)\n",
    "print(lista_2)\n"
   ]
  },
  {
   "cell_type": "code",
   "execution_count": null,
   "id": "e16f3ba5",
   "metadata": {},
   "outputs": [],
   "source": []
  },
  {
   "cell_type": "code",
   "execution_count": null,
   "id": "edcc6ae6",
   "metadata": {},
   "outputs": [],
   "source": []
  },
  {
   "cell_type": "markdown",
   "id": "aca8f0ef",
   "metadata": {},
   "source": [
    "### Dictionaries Comprehensions"
   ]
  },
  {
   "cell_type": "markdown",
   "id": "aa503199",
   "metadata": {},
   "source": [
    "### Ejercicio 8:\n",
    "- Inicializa un diccionario vacio (llamado **dict_1**).\n",
    "- Llenalo utilizando la siguiente formula: **i : int((i\\*random.random())\\*\\*-1)** donde **i** son los números del 1 hasta el 10. Hazlo usando un bucle **for**.\n",
    "\n",
    "\n",
    "\n",
    "- Repite este ejercicio pero usando **dictionaries comprehensions**."
   ]
  },
  {
   "cell_type": "code",
   "execution_count": 36,
   "id": "28390c9a",
   "metadata": {},
   "outputs": [
    {
     "data": {
      "text/plain": [
       "{1: 2, 2: 0, 3: 0, 4: 20, 5: 0, 6: 6, 7: 0, 8: 0, 9: 0, 10: 0}"
      ]
     },
     "execution_count": 36,
     "metadata": {},
     "output_type": "execute_result"
    }
   ],
   "source": [
    "dict_1 = {i : int((i*random.random())**-1) for i in range(1, 11)}\n",
    "dict_1\n"
   ]
  },
  {
   "cell_type": "code",
   "execution_count": null,
   "id": "936eab90",
   "metadata": {},
   "outputs": [],
   "source": []
  },
  {
   "cell_type": "code",
   "execution_count": null,
   "id": "217100ca",
   "metadata": {},
   "outputs": [],
   "source": []
  },
  {
   "cell_type": "markdown",
   "id": "6d2182b0",
   "metadata": {},
   "source": [
    "### Ejercicio 9:\n",
    "- Inicializa un diccionario vacio (llamado **dict_1**).\n",
    "- Llenalo utilizando los elementos de **lista_1** y los elementos de **lista_2** de forma que los elementos de **lista_1** sean las llaves y los elementos de **lista_2** sean los valores.\n",
    "\n",
    "\n",
    "- Repite este ejercicio pero usando **dictionaries comprehensions**."
   ]
  },
  {
   "cell_type": "code",
   "execution_count": 38,
   "id": "b563777f",
   "metadata": {},
   "outputs": [
    {
     "data": {
      "text/plain": [
       "{72: 0,\n",
       " 9: 1,\n",
       " 35: 1,\n",
       " 96: 0,\n",
       " 83: 1,\n",
       " 62: 0,\n",
       " 71: 1,\n",
       " 33: 1,\n",
       " 40: 0,\n",
       " 13: 1,\n",
       " 80: 0,\n",
       " 61: 1,\n",
       " 65: 1,\n",
       " 86: 0,\n",
       " 82: 0,\n",
       " 63: 1,\n",
       " 23: 1}"
      ]
     },
     "execution_count": 38,
     "metadata": {},
     "output_type": "execute_result"
    }
   ],
   "source": [
    "dict_2 = {i : j for i,j in zip(lista_1, lista_2)}\n",
    "dict_2"
   ]
  },
  {
   "cell_type": "code",
   "execution_count": null,
   "id": "84b8d749",
   "metadata": {},
   "outputs": [],
   "source": []
  },
  {
   "cell_type": "code",
   "execution_count": null,
   "id": "d393f1f3",
   "metadata": {},
   "outputs": [],
   "source": []
  },
  {
   "cell_type": "code",
   "execution_count": null,
   "id": "a1ca3b38",
   "metadata": {},
   "outputs": [],
   "source": [
    "##############################################################################################################################"
   ]
  }
 ],
 "metadata": {
  "kernelspec": {
   "display_name": "Python 3",
   "language": "python",
   "name": "python3"
  },
  "language_info": {
   "codemirror_mode": {
    "name": "ipython",
    "version": 3
   },
   "file_extension": ".py",
   "mimetype": "text/x-python",
   "name": "python",
   "nbconvert_exporter": "python",
   "pygments_lexer": "ipython3",
   "version": "3.13.1"
  }
 },
 "nbformat": 4,
 "nbformat_minor": 5
}
