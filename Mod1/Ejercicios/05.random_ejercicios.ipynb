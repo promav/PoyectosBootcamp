{
 "cells": [
  {
   "cell_type": "markdown",
   "id": "3b9c8335",
   "metadata": {},
   "source": [
    "## Ejercicios - random"
   ]
  },
  {
   "cell_type": "code",
   "execution_count": 2,
   "id": "ed13011e",
   "metadata": {},
   "outputs": [],
   "source": [
    "import random"
   ]
  },
  {
   "cell_type": "markdown",
   "id": "eca8b13f",
   "metadata": {},
   "source": [
    "### Ejercicio 1\n",
    "- Crea una lista de 10 numeros enteros aleatorios entre el rango de 10 y 20 utilizando la función random.randint()"
   ]
  },
  {
   "cell_type": "code",
   "execution_count": 3,
   "id": "a9c5468a",
   "metadata": {},
   "outputs": [
    {
     "data": {
      "text/plain": [
       "[17, 13, 19, 14, 16, 20, 17, 14, 10, 19]"
      ]
     },
     "execution_count": 3,
     "metadata": {},
     "output_type": "execute_result"
    }
   ],
   "source": [
    "lista_random = []\n",
    "\n",
    "for x in range (10):\n",
    "    lista_random.append(random.randint(10,20))\n",
    "lista_random"
   ]
  },
  {
   "cell_type": "code",
   "execution_count": null,
   "id": "91329916",
   "metadata": {},
   "outputs": [],
   "source": []
  },
  {
   "cell_type": "code",
   "execution_count": null,
   "id": "afeb807a",
   "metadata": {},
   "outputs": [],
   "source": []
  },
  {
   "cell_type": "markdown",
   "id": "fc1a19d0",
   "metadata": {},
   "source": [
    "### Ejercicio 2\n",
    "- Crea una lista de 10 numeros enteros aleatorios entre el rango de 10 y 20 sin utilizar la función random.randint()"
   ]
  },
  {
   "cell_type": "code",
   "execution_count": 4,
   "id": "0985d30a",
   "metadata": {},
   "outputs": [
    {
     "data": {
      "text/plain": [
       "[13, 17, 18, 10, 19, 17, 12, 10, 17, 11]"
      ]
     },
     "execution_count": 4,
     "metadata": {},
     "output_type": "execute_result"
    }
   ],
   "source": [
    "lista_random = []\n",
    "\n",
    "for x in range (10):\n",
    "    lista_random.append(random.randrange(10,20))\n",
    "lista_random"
   ]
  },
  {
   "cell_type": "code",
   "execution_count": null,
   "id": "b04bcddf",
   "metadata": {},
   "outputs": [],
   "source": []
  },
  {
   "cell_type": "code",
   "execution_count": null,
   "id": "07139a13",
   "metadata": {},
   "outputs": [],
   "source": []
  },
  {
   "cell_type": "markdown",
   "id": "381a2b23",
   "metadata": {},
   "source": [
    "### Ejercicio 3\n",
    "- Genera una lista de 100 numero enteros aleatorios entre 0 y 100.\n",
    "- Genera otra lista con solo los números pares de la primera lista.\n",
    "\n",
    "- Extra: Hacer este ejercicio usando 1 solo bucle."
   ]
  },
  {
   "cell_type": "code",
   "execution_count": 5,
   "id": "ed54e490",
   "metadata": {
    "scrolled": true
   },
   "outputs": [],
   "source": [
    "lista_3 = []\n",
    "lista_3_pares =[]\n",
    "for x in range (100):\n",
    "    num = random.randint(0,100)\n",
    "    lista_3.append(num)\n",
    "    if num % 2 == 0:\n",
    "        lista_3_pares.append(num)\n"
   ]
  },
  {
   "cell_type": "code",
   "execution_count": 8,
   "id": "570ff2b3",
   "metadata": {},
   "outputs": [
    {
     "name": "stdout",
     "output_type": "stream",
     "text": [
      "[88, 38, 63, 40, 54, 94, 40, 35, 91, 54, 38, 61, 35, 95, 84, 62, 36, 6, 13, 43, 17, 66, 32, 71, 33, 54, 84, 67, 70, 93, 0, 76, 88, 31, 62, 12, 57, 80, 49, 15, 94, 37, 12, 100, 98, 80, 78, 36, 6, 30, 85, 34, 25, 57, 90, 66, 39, 75, 57, 66, 96, 5, 2, 14, 43, 68, 100, 73, 90, 22, 54, 61, 4, 37, 65, 45, 15, 79, 94, 96, 29, 29, 30, 59, 29, 88, 14, 35, 72, 13, 17, 69, 11, 69, 4, 55, 22, 18, 0, 34]\n",
      "[88, 38, 40, 54, 94, 40, 54, 38, 84, 62, 36, 6, 66, 32, 54, 84, 70, 0, 76, 88, 62, 12, 80, 94, 12, 100, 98, 80, 78, 36, 6, 30, 34, 90, 66, 66, 96, 2, 14, 68, 100, 90, 22, 54, 4, 94, 96, 30, 88, 14, 72, 4, 22, 18, 0, 34]\n"
     ]
    }
   ],
   "source": [
    "print(lista_3)\n",
    "print(lista_3_pares)"
   ]
  },
  {
   "cell_type": "code",
   "execution_count": null,
   "id": "8ac4e27c",
   "metadata": {},
   "outputs": [],
   "source": []
  },
  {
   "cell_type": "code",
   "execution_count": null,
   "id": "3989b760",
   "metadata": {},
   "outputs": [],
   "source": [
    "##############################################################################################################################"
   ]
  }
 ],
 "metadata": {
  "kernelspec": {
   "display_name": "Python 3",
   "language": "python",
   "name": "python3"
  },
  "language_info": {
   "codemirror_mode": {
    "name": "ipython",
    "version": 3
   },
   "file_extension": ".py",
   "mimetype": "text/x-python",
   "name": "python",
   "nbconvert_exporter": "python",
   "pygments_lexer": "ipython3",
   "version": "3.13.1"
  }
 },
 "nbformat": 4,
 "nbformat_minor": 5
}
