{
 "cells": [
  {
   "cell_type": "markdown",
   "id": "cc6f0931",
   "metadata": {},
   "source": [
    "## Ejecicios - Condicionales"
   ]
  },
  {
   "cell_type": "markdown",
   "id": "45bf39fc",
   "metadata": {},
   "source": [
    "### Ejercicio 1\n",
    "\n",
    "- Perdirle al usuario que ingrese un número mayor a 0\n",
    "- Luego que imprima por pantalla si el número es par o impar."
   ]
  },
  {
   "cell_type": "code",
   "execution_count": 4,
   "id": "ce78094c",
   "metadata": {},
   "outputs": [
    {
     "name": "stdout",
     "output_type": "stream",
     "text": [
      " no es un valor correcto\n",
      "      5 es impar\n"
     ]
    }
   ],
   "source": [
    "while True:\n",
    "    argumento = input(\"Ingrese un numero mayor a 0\")\n",
    "    try:\n",
    "        numero = int(argumento)\n",
    "    except:\n",
    "        numero = -1\n",
    "    if numero <= 0:\n",
    "        print(f\"{argumento} no es un valor correcto\")\n",
    "    else:\n",
    "        if numero % 2 == 0:\n",
    "            print(f\"{argumento} es par\")\n",
    "        else:\n",
    "            print(f\"{argumento} es impar\")\n",
    "        break"
   ]
  },
  {
   "cell_type": "code",
   "execution_count": null,
   "id": "4047176c",
   "metadata": {},
   "outputs": [],
   "source": []
  },
  {
   "cell_type": "code",
   "execution_count": null,
   "id": "b98b7cc7",
   "metadata": {},
   "outputs": [],
   "source": []
  },
  {
   "cell_type": "markdown",
   "id": "50f7c887",
   "metadata": {},
   "source": [
    "### Ejercicio 2\n",
    "- Pedirle al usuario que ingrese una palabra.\n",
    "- Contar el número de letras y decir si es una palabra larga (10 caracteres o más) o corta."
   ]
  },
  {
   "cell_type": "code",
   "execution_count": null,
   "id": "dd695bac",
   "metadata": {},
   "outputs": [],
   "source": [
    "argumento = input(\"Introduce una palabra\")\n",
    "if len(argumento) >= 10:\n",
    "    print(f\"{argumento} es una palabra larga\")\n",
    "else:\n",
    "    print(f\"{argumento} es una palabra corta\")"
   ]
  },
  {
   "cell_type": "code",
   "execution_count": null,
   "id": "9fbdea13",
   "metadata": {},
   "outputs": [],
   "source": []
  },
  {
   "cell_type": "code",
   "execution_count": null,
   "id": "8f385606",
   "metadata": {},
   "outputs": [],
   "source": []
  },
  {
   "cell_type": "markdown",
   "id": "c3b58038",
   "metadata": {},
   "source": [
    "### Ejercicio 3\n",
    "- Pedirle al usuario que ingrese una palabra.\n",
    "- Contar cuantas vocales tiene e imprimir cuantas hay de cada una.\n",
    "- Luego imprimir por pantalla si tiene más vocales que consonantes."
   ]
  },
  {
   "cell_type": "code",
   "execution_count": 18,
   "id": "e31e702d",
   "metadata": {},
   "outputs": [
    {
     "name": "stdout",
     "output_type": "stream",
     "text": [
      "Hay:\n",
      "1 a\n",
      "0 e\n",
      "0 i\n",
      "1 o\n",
      "0 u\n"
     ]
    }
   ],
   "source": [
    "argumento = input(\"Ingresa una palabra\")\n",
    "palabra = argumento.lower()\n",
    "vocales = palabra.count(\"a\") + palabra.count(\"e\") +palabra.count(\"i\") +palabra.count(\"o\") + palabra.count(\"u\")\n",
    "vocales\n",
    "consonantes = len(palabra) - vocales\n",
    "consonantes\n",
    "print(f\"Hay:\\n{palabra.count('a')} a\\n{palabra.count('e')} e\\n{palabra.count('i')} i\\n{palabra.count('o')} o\\n{palabra.count('u')} u\")"
   ]
  },
  {
   "cell_type": "code",
   "execution_count": 11,
   "id": "21726bb9",
   "metadata": {},
   "outputs": [
    {
     "name": "stdout",
     "output_type": "stream",
     "text": [
      "Ana tiene mas vocales que consonantes\n"
     ]
    }
   ],
   "source": [
    "if consonantes > vocales:\n",
    "    print(f\"{argumento} tiene mas consonantes que vocales\")\n",
    "elif consonantes < vocales:\n",
    "    print(f\"{argumento} tiene mas vocales que consonantes\")\n",
    "else:\n",
    "    print(f\"{argumento} tiene las mismas consonantes y vocales\")"
   ]
  },
  {
   "cell_type": "code",
   "execution_count": null,
   "id": "0e3bb7e3",
   "metadata": {},
   "outputs": [],
   "source": []
  },
  {
   "cell_type": "markdown",
   "id": "c075c77b",
   "metadata": {},
   "source": [
    "### Ejercicio 4\n",
    "- Pedir al usuario que ingrese una frase.\n",
    "- Contar el número de palabras.\n",
    "- Si el número de palabras es impar imprimir \"El número de palabras es impar\" de lo contrario imprimir \"El número de palabras es par\"."
   ]
  },
  {
   "cell_type": "code",
   "execution_count": 19,
   "id": "67962e21",
   "metadata": {},
   "outputs": [
    {
     "name": "stdout",
     "output_type": "stream",
     "text": [
      "El numero de palabras de 'Estoy en clase y tu?' es impar\n"
     ]
    }
   ],
   "source": [
    "argumento = input(\"Introduce una frase\")\n",
    "frase = argumento.split()\n",
    "num_palabras =len(frase)\n",
    "if num_palabras % 2 == 0:\n",
    "    print( f\"El numero de palabras de '{argumento}' es par\")\n",
    "else:\n",
    "    print( f\"El numero de palabras de '{argumento}' es impar\")"
   ]
  },
  {
   "cell_type": "code",
   "execution_count": null,
   "id": "0cdfdbbd",
   "metadata": {},
   "outputs": [],
   "source": []
  },
  {
   "cell_type": "code",
   "execution_count": null,
   "id": "8c1baece",
   "metadata": {},
   "outputs": [],
   "source": []
  },
  {
   "cell_type": "code",
   "execution_count": null,
   "id": "38fb44c7",
   "metadata": {},
   "outputs": [],
   "source": [
    "##############################################################################################################################"
   ]
  }
 ],
 "metadata": {
  "kernelspec": {
   "display_name": "Python 3",
   "language": "python",
   "name": "python3"
  },
  "language_info": {
   "codemirror_mode": {
    "name": "ipython",
    "version": 3
   },
   "file_extension": ".py",
   "mimetype": "text/x-python",
   "name": "python",
   "nbconvert_exporter": "python",
   "pygments_lexer": "ipython3",
   "version": "3.13.1"
  }
 },
 "nbformat": 4,
 "nbformat_minor": 5
}
