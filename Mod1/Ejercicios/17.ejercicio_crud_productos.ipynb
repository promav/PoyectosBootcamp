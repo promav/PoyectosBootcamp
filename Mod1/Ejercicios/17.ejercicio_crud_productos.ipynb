{
 "cells": [
  {
   "cell_type": "markdown",
   "metadata": {},
   "source": [
    "# CRUD de objetos Product"
   ]
  },
  {
   "cell_type": "code",
   "execution_count": 10,
   "metadata": {},
   "outputs": [],
   "source": [
    "import time"
   ]
  },
  {
   "cell_type": "code",
   "execution_count": 11,
   "metadata": {},
   "outputs": [
    {
     "name": "stdout",
     "output_type": "stream",
     "text": [
      "Product: title=Ordenador Asus A55A, price=50.25\n"
     ]
    },
    {
     "data": {
      "text/plain": [
       "10.55"
      ]
     },
     "execution_count": 11,
     "metadata": {},
     "output_type": "execute_result"
    }
   ],
   "source": [
    "class Product:\n",
    "    tipe = \"Producto\" # atributo de clase\n",
    "    \n",
    "    def __init__(self, title, price): # atributos de instancia\n",
    "        self.title = title\n",
    "        self.price = price    \n",
    "    def __str__(self):\n",
    "        return f\"Product: title={self.title}, price={self.price:}\"\n",
    "    def calcular_iva(self):\n",
    "        return round(self.price * 0.21, 2)\n",
    "    \n",
    "ordenador_asus = Product(\"Ordenador Asus A55A\", 50.25)\n",
    "\n",
    "print (ordenador_asus)\n",
    "ordenador_asus.calcular_iva()"
   ]
  },
  {
   "cell_type": "code",
   "execution_count": 12,
   "metadata": {},
   "outputs": [],
   "source": [
    "# lista de productos\n",
    "\n",
    "products = [\n",
    "    Product(\"Smartphone\", 640),\n",
    "    Product(\"Lampara\", 250),\n",
    "    Product(\"Ordenador\", 870)\n",
    "]"
   ]
  },
  {
   "cell_type": "code",
   "execution_count": 13,
   "metadata": {},
   "outputs": [],
   "source": [
    "menu = \"\"\" Te damos la bienvenida a la app de producntos, elige una opcion:\n",
    "          1 - Ver productos\n",
    "          2 - Ver producto por titulo\n",
    "          3 - Crear nuevo producto\n",
    "          4 - Actualizar producto existente\n",
    "          5 - Borrar un producto por su id\n",
    "          6 - Borrar todos los productos\n",
    "          7 - Salir\"\"\""
   ]
  },
  {
   "cell_type": "code",
   "execution_count": null,
   "metadata": {},
   "outputs": [
    {
     "name": "stdout",
     "output_type": "stream",
     "text": [
      "Has elegido la opcion 4\n",
      "No se ha podido actualizar el elemento\n",
      "Hasta pronto\n"
     ]
    }
   ],
   "source": [
    "while True:\n",
    "    option = int(input(menu))\n",
    "    if option == 1:\n",
    "        print(f\"Has elegido la opcion {option}\")\n",
    "        for product in products:\n",
    "            print(product)\n",
    "    elif option == 2:\n",
    "        print(f\"Has elegido la opcion {option}\")\n",
    "        search = input(\"Que titulo quieres buscar\")\n",
    "        for product in products:\n",
    "            if product.title.lower() == search.lower():\n",
    "                print(product)\n",
    "                break\n",
    "    elif option == 3:\n",
    "        print(f\"Has elegido la opcion {option}\")\n",
    "        title_p = input(\"Ingrese el titulo del Producto\")\n",
    "        price_p = round(float(input(\"Ingresa el precio del producto\")), 2)\n",
    "        products.append(Product(title=title_p, price=price_p))\n",
    "    elif option == 4:\n",
    "        actualizado = False\n",
    "        print(f\"Has elegido la opcion {option}\")\n",
    "        search = input(\"Que titulo quieres actualizar\")\n",
    "        for product in products:\n",
    "            if product.title.lower() == search.lower():\n",
    "                product.title = input(\"Ingrese el nuevo titulo del Producto\")\n",
    "                product.price = round(float(input(\"Ingresa el nuevo precio del producto\")), 2)\n",
    "                actualizado = True\n",
    "                break\n",
    "        if actualizado:\n",
    "            print(\"El producto ha sido actualizado correctamente\")\n",
    "        else:\n",
    "            print(\"No se ha podido actualizar el elemento\")\n",
    "    elif option == 5:\n",
    "        print(f\"Has elegido la opcion {option}\")\n",
    "        search = input(\"Que titulo quieres borrar\")\n",
    "        for product in products:\n",
    "            if product.title.lower() == search.lower():\n",
    "                products.remove(product)\n",
    "    elif option == 6:\n",
    "        print(f\"Has elegido la opcion {option}\")\n",
    "        products.clear()\n",
    "        print(\"Todos los productos han sido borrados\")\n",
    "    elif option == 7:\n",
    "        print(f\"Hasta pronto\")\n",
    "        break\n",
    "    else:\n",
    "        print(f\"Opcion {option} no existe intentalo de nuevo\")\n",
    "    print()\n",
    "    time.sleep(1)"
   ]
  }
 ],
 "metadata": {
  "kernelspec": {
   "display_name": "Python 3",
   "language": "python",
   "name": "python3"
  },
  "language_info": {
   "codemirror_mode": {
    "name": "ipython",
    "version": 3
   },
   "file_extension": ".py",
   "mimetype": "text/x-python",
   "name": "python",
   "nbconvert_exporter": "python",
   "pygments_lexer": "ipython3",
   "version": "3.13.1"
  }
 },
 "nbformat": 4,
 "nbformat_minor": 2
}
