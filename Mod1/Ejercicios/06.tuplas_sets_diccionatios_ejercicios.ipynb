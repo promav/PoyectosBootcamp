{
 "cells": [
  {
   "cell_type": "markdown",
   "id": "bd9af8bb",
   "metadata": {},
   "source": [
    "## Ejercicios - Tuplas, Sets y Diccionarios"
   ]
  },
  {
   "cell_type": "markdown",
   "id": "5cd0dbdf",
   "metadata": {},
   "source": [
    "### Tuplas"
   ]
  },
  {
   "cell_type": "markdown",
   "id": "5fcfd082",
   "metadata": {},
   "source": [
    "### Ejercicio 1\n",
    "- Crea una tupla utilizando la función **range()**, que tenga un rango del 11 al 19.\n",
    "    - Ejemplo: **tupla = tuple(range(3))**"
   ]
  },
  {
   "cell_type": "code",
   "execution_count": 5,
   "id": "5767cc8f",
   "metadata": {
    "tags": []
   },
   "outputs": [
    {
     "data": {
      "text/plain": [
       "(11, 12, 13, 14, 15, 16, 17, 18)"
      ]
     },
     "execution_count": 5,
     "metadata": {},
     "output_type": "execute_result"
    }
   ],
   "source": [
    "tupla = tuple(range(11,19))\n",
    "tupla"
   ]
  },
  {
   "cell_type": "code",
   "execution_count": null,
   "id": "69f61ed6",
   "metadata": {
    "tags": []
   },
   "outputs": [],
   "source": []
  },
  {
   "cell_type": "markdown",
   "id": "dd868625",
   "metadata": {},
   "source": [
    "### Ejercicio 2\n",
    "- Crea una lista vacia y llenala con los números de la tupla anterior usando un bucle."
   ]
  },
  {
   "cell_type": "code",
   "execution_count": 6,
   "id": "e261324e",
   "metadata": {},
   "outputs": [
    {
     "data": {
      "text/plain": [
       "[11, 12, 13, 14, 15, 16, 17, 18]"
      ]
     },
     "execution_count": 6,
     "metadata": {},
     "output_type": "execute_result"
    }
   ],
   "source": [
    "lista = []\n",
    "\n",
    "for elemento in tupla:\n",
    "    lista.append(elemento)\n",
    "lista"
   ]
  },
  {
   "cell_type": "code",
   "execution_count": null,
   "id": "a42632ec",
   "metadata": {},
   "outputs": [],
   "source": []
  },
  {
   "cell_type": "markdown",
   "id": "8fa8417c",
   "metadata": {},
   "source": [
    "### Ejercicio 3\n",
    "- Ordena la lista de mayor a menor."
   ]
  },
  {
   "cell_type": "code",
   "execution_count": 7,
   "id": "9b9fe725",
   "metadata": {},
   "outputs": [
    {
     "data": {
      "text/plain": [
       "[18, 17, 16, 15, 14, 13, 12, 11]"
      ]
     },
     "execution_count": 7,
     "metadata": {},
     "output_type": "execute_result"
    }
   ],
   "source": [
    "lista.sort(reverse=True)\n",
    "lista"
   ]
  },
  {
   "cell_type": "code",
   "execution_count": null,
   "id": "3c27e0b7",
   "metadata": {},
   "outputs": [],
   "source": []
  },
  {
   "cell_type": "markdown",
   "id": "a4aba352",
   "metadata": {},
   "source": [
    "### Ejercicio 4\n",
    "- Transforma la lista a tupla y ordenala de menor a mayor."
   ]
  },
  {
   "cell_type": "code",
   "execution_count": 8,
   "id": "9693f765",
   "metadata": {},
   "outputs": [
    {
     "data": {
      "text/plain": [
       "[11, 12, 13, 14, 15, 16, 17, 18]"
      ]
     },
     "execution_count": 8,
     "metadata": {},
     "output_type": "execute_result"
    }
   ],
   "source": [
    "tupla2 = tuple(lista)\n",
    "sorted(tupla)"
   ]
  },
  {
   "cell_type": "code",
   "execution_count": null,
   "id": "0042ff89",
   "metadata": {},
   "outputs": [],
   "source": []
  },
  {
   "cell_type": "markdown",
   "id": "11e327bc",
   "metadata": {},
   "source": [
    "### Ejercicio 5\n",
    "- ¿Que tipo de dato es la variable resultante?"
   ]
  },
  {
   "cell_type": "code",
   "execution_count": 9,
   "id": "de6614c0",
   "metadata": {},
   "outputs": [
    {
     "data": {
      "text/plain": [
       "list"
      ]
     },
     "execution_count": 9,
     "metadata": {},
     "output_type": "execute_result"
    }
   ],
   "source": [
    "type(sorted(tupla2))"
   ]
  },
  {
   "cell_type": "code",
   "execution_count": null,
   "id": "6825680a",
   "metadata": {},
   "outputs": [],
   "source": []
  },
  {
   "cell_type": "markdown",
   "id": "51174939",
   "metadata": {},
   "source": [
    "### Ejercicio 6\n",
    "- Dada la siguiente **frase = \"Fui programado para servir, no para destruir - C3PO\"**, conviertela en tupla, ordenala y manten la tupla. (El resultado final debe ser una tupla)"
   ]
  },
  {
   "cell_type": "code",
   "execution_count": 12,
   "id": "22386983",
   "metadata": {},
   "outputs": [],
   "source": [
    "frase = \"Fui programado para servir, no para destruir - C3PO\""
   ]
  },
  {
   "cell_type": "code",
   "execution_count": 14,
   "id": "abb46d56",
   "metadata": {
    "scrolled": true
   },
   "outputs": [
    {
     "data": {
      "text/plain": [
       "(' ',\n",
       " ' ',\n",
       " ' ',\n",
       " ' ',\n",
       " ' ',\n",
       " ' ',\n",
       " ' ',\n",
       " ' ',\n",
       " ',',\n",
       " '-',\n",
       " '3',\n",
       " 'C',\n",
       " 'F',\n",
       " 'O',\n",
       " 'P',\n",
       " 'a',\n",
       " 'a',\n",
       " 'a',\n",
       " 'a',\n",
       " 'a',\n",
       " 'a',\n",
       " 'd',\n",
       " 'd',\n",
       " 'e',\n",
       " 'e',\n",
       " 'g',\n",
       " 'i',\n",
       " 'i',\n",
       " 'i',\n",
       " 'm',\n",
       " 'n',\n",
       " 'o',\n",
       " 'o',\n",
       " 'o',\n",
       " 'p',\n",
       " 'p',\n",
       " 'p',\n",
       " 'r',\n",
       " 'r',\n",
       " 'r',\n",
       " 'r',\n",
       " 'r',\n",
       " 'r',\n",
       " 'r',\n",
       " 'r',\n",
       " 's',\n",
       " 's',\n",
       " 't',\n",
       " 'u',\n",
       " 'u',\n",
       " 'v')"
      ]
     },
     "execution_count": 14,
     "metadata": {},
     "output_type": "execute_result"
    }
   ],
   "source": [
    "frase_tupla = tuple(frase)\n",
    "frase_tupla = tuple(sorted(frase_tupla))\n",
    "frase_tupla"
   ]
  },
  {
   "cell_type": "code",
   "execution_count": null,
   "id": "e7a47319",
   "metadata": {},
   "outputs": [],
   "source": []
  },
  {
   "cell_type": "code",
   "execution_count": null,
   "id": "1c137acf",
   "metadata": {},
   "outputs": [],
   "source": []
  },
  {
   "cell_type": "markdown",
   "id": "12437162",
   "metadata": {},
   "source": [
    "### Ejercicio 7\n",
    "- Del resultado anterior, muestra cuantas veces aparece cada vocal.\n",
    "    - Utiliza un bucle **for** que recorra la siguiente tupla: **(\"a\", \"e\", \"i\", \"o\", \"u\")**"
   ]
  },
  {
   "cell_type": "code",
   "execution_count": 15,
   "id": "fee4bc57",
   "metadata": {},
   "outputs": [
    {
     "name": "stdout",
     "output_type": "stream",
     "text": [
      "La letra a aparece 6\n",
      "La letra e aparece 2\n",
      "La letra i aparece 3\n",
      "La letra o aparece 3\n",
      "La letra u aparece 2\n"
     ]
    }
   ],
   "source": [
    "vocales_tupla = ('a', 'e', 'i', 'o', 'u')\n",
    "for letra in vocales_tupla:\n",
    "    print(f\"La letra {letra} aparece {frase_tupla.count(letra)}\")"
   ]
  },
  {
   "cell_type": "code",
   "execution_count": null,
   "id": "3faf738d",
   "metadata": {},
   "outputs": [],
   "source": []
  },
  {
   "cell_type": "code",
   "execution_count": null,
   "id": "17451ea0-b6c1-491d-a2a1-8fef75062e11",
   "metadata": {},
   "outputs": [],
   "source": []
  },
  {
   "cell_type": "markdown",
   "id": "f8790981",
   "metadata": {},
   "source": [
    "### Ejercicio 8\n",
    "- Dada la siguiente tupla: **(9, 8, 7, 5, \"a\", 3, 6, 5)**, encuentra la forma para eliminar la letra **\"a\"**. (El resultado final debe ser una tupla)"
   ]
  },
  {
   "cell_type": "code",
   "execution_count": 27,
   "id": "7fbf5374",
   "metadata": {},
   "outputs": [
    {
     "data": {
      "text/plain": [
       "(9, 8, 7, 5, 3, 6, 5)"
      ]
     },
     "execution_count": 27,
     "metadata": {},
     "output_type": "execute_result"
    }
   ],
   "source": [
    "tupla = (9, 8, 7, 5, \"a\", 3, 6, 5)\n",
    "lista_tupla = list(tupla)\n",
    "lista_tupla.remove('a')\n",
    "tupla = tuple(lista_tupla)\n",
    "tupla\n"
   ]
  },
  {
   "cell_type": "code",
   "execution_count": null,
   "id": "8165221e",
   "metadata": {},
   "outputs": [],
   "source": []
  },
  {
   "cell_type": "markdown",
   "id": "82c7eea3",
   "metadata": {},
   "source": [
    "### Ejercicio 9\n",
    "- Pregunta a un usuario que ingrese 5 elementos diferentes separados por coma y convierte estos elementos a una tupla, pueden ser palabras o un números."
   ]
  },
  {
   "cell_type": "code",
   "execution_count": 28,
   "id": "20c8cf64",
   "metadata": {},
   "outputs": [
    {
     "data": {
      "text/plain": [
       "('pablo', 'yujin', '14', 'romero', 'mun')"
      ]
     },
     "execution_count": 28,
     "metadata": {},
     "output_type": "execute_result"
    }
   ],
   "source": [
    "argumento = input(\"Introduce 5 elementos separados por una coma:\")\n",
    "lista_argumentos = argumento.split(',')\n",
    "tupla = tuple(lista_argumentos)\n",
    "tupla"
   ]
  },
  {
   "cell_type": "code",
   "execution_count": null,
   "id": "bf819dbf",
   "metadata": {},
   "outputs": [],
   "source": []
  },
  {
   "cell_type": "markdown",
   "id": "1743bc9c",
   "metadata": {},
   "source": [
    "### Ejercicio 10\n",
    "- Dada la siguiente lista de tuplas: **[(10, 20, 40), (40, 50, 60), (70, 80, 90)]**, elimina el último elemento de cada tupla dentro de la lista."
   ]
  },
  {
   "cell_type": "code",
   "execution_count": 34,
   "id": "bf3562a3",
   "metadata": {},
   "outputs": [
    {
     "data": {
      "text/plain": [
       "[(10, 20), (40, 50), (70, 80)]"
      ]
     },
     "execution_count": 34,
     "metadata": {},
     "output_type": "execute_result"
    }
   ],
   "source": [
    "lista = [(10, 20, 40), (40, 50, 60), (70, 80, 90)]\n",
    "\n",
    "for i in range(len(lista)):\n",
    "    lista_temp = list(lista[i])\n",
    "    lista_temp.pop(2)\n",
    "    lista[i] = tuple(lista_temp)\n",
    "lista"
   ]
  },
  {
   "cell_type": "code",
   "execution_count": null,
   "id": "073bceb1",
   "metadata": {},
   "outputs": [],
   "source": []
  },
  {
   "cell_type": "code",
   "execution_count": null,
   "id": "780e0be9",
   "metadata": {},
   "outputs": [],
   "source": []
  },
  {
   "cell_type": "markdown",
   "id": "3b2ac10b",
   "metadata": {},
   "source": [
    "### Sets"
   ]
  },
  {
   "cell_type": "markdown",
   "id": "47aecaf8",
   "metadata": {},
   "source": [
    "### Ejercicio 11\n",
    "- Pide al usuario que ingrese 3 empresas de tecnología, estos elementos agregalos al **set_1 = {\"Meta\", \"Google\", \"Amazon\"}**\n",
    "\n",
    "- Verifica que no se repita ninguna empresa y dile al usuario que no se repitio ninguna empresa."
   ]
  },
  {
   "cell_type": "code",
   "execution_count": 40,
   "id": "a7d1d7b5",
   "metadata": {},
   "outputs": [],
   "source": [
    "set_1 = {\"Meta\", \"Google\", \"Amazon\"}"
   ]
  },
  {
   "cell_type": "code",
   "execution_count": 37,
   "id": "e6b9b4e8",
   "metadata": {},
   "outputs": [],
   "source": [
    "set_2 = set()\n",
    "for x in range (3):\n",
    "    set_2.add(input(\"Ingresa una empresa\"))"
   ]
  },
  {
   "cell_type": "code",
   "execution_count": 43,
   "id": "66785b60",
   "metadata": {},
   "outputs": [
    {
     "data": {
      "text/plain": [
       "{'Amazon', 'Google', 'Meta', 'Microsoft', 'NTTD Data', 'Uber'}"
      ]
     },
     "execution_count": 43,
     "metadata": {},
     "output_type": "execute_result"
    }
   ],
   "source": [
    "set_1.union(set_2)\n"
   ]
  },
  {
   "cell_type": "code",
   "execution_count": null,
   "id": "36ec123d",
   "metadata": {},
   "outputs": [],
   "source": []
  },
  {
   "cell_type": "markdown",
   "id": "1d24f6da",
   "metadata": {},
   "source": [
    "### Ejercicio 12\n",
    "- Repite el ejercicio anterior pero ahora imprime las empresas que se repiten en caso de que existiera uno o más que se repitan."
   ]
  },
  {
   "cell_type": "code",
   "execution_count": 45,
   "id": "b8f919bc",
   "metadata": {},
   "outputs": [],
   "source": [
    "set_1 = {\"Meta\", \"Google\", \"Amazon\"}"
   ]
  },
  {
   "cell_type": "code",
   "execution_count": 46,
   "id": "f27eda2a",
   "metadata": {},
   "outputs": [],
   "source": [
    "set_2 = set()\n",
    "for x in range (3):\n",
    "    set_2.add(input(\"Ingresa una empresa\"))"
   ]
  },
  {
   "cell_type": "code",
   "execution_count": 49,
   "id": "8d4aac1a",
   "metadata": {},
   "outputs": [
    {
     "data": {
      "text/plain": [
       "{'Amazon', 'Meta'}"
      ]
     },
     "execution_count": 49,
     "metadata": {},
     "output_type": "execute_result"
    }
   ],
   "source": [
    "set_1.intersection(set_2)\n"
   ]
  },
  {
   "cell_type": "code",
   "execution_count": null,
   "id": "4c043fc5",
   "metadata": {},
   "outputs": [],
   "source": []
  },
  {
   "cell_type": "code",
   "execution_count": null,
   "id": "0dc66a42",
   "metadata": {},
   "outputs": [],
   "source": []
  },
  {
   "cell_type": "markdown",
   "id": "090eb0fb",
   "metadata": {},
   "source": [
    "### Ejercicio 13\n",
    "- Dadas las siguientes **frases_1 = \"En una galaxia lejana\"** y **frase_2 = \"Una galaxia llamadá Via Lactea\"**, haz la intersección de las palabras."
   ]
  },
  {
   "cell_type": "code",
   "execution_count": 60,
   "id": "656f4cf7",
   "metadata": {},
   "outputs": [],
   "source": [
    "frase_1 = \"En una galaxia lejana\"\n",
    "frase_2 = \"Una galaxia llamadá Via Lactea\"\n",
    "\n",
    "set_1 = set(frase_1.lower().split())\n",
    "set_2 = set(frase_2.lower().split())\n"
   ]
  },
  {
   "cell_type": "code",
   "execution_count": 62,
   "id": "b2dd0b00",
   "metadata": {},
   "outputs": [
    {
     "data": {
      "text/plain": [
       "{'galaxia', 'una'}"
      ]
     },
     "execution_count": 62,
     "metadata": {},
     "output_type": "execute_result"
    }
   ],
   "source": [
    "set_1.intersection(set_2)"
   ]
  },
  {
   "cell_type": "code",
   "execution_count": null,
   "id": "93a2643a",
   "metadata": {},
   "outputs": [],
   "source": []
  },
  {
   "cell_type": "markdown",
   "id": "4783b135",
   "metadata": {},
   "source": [
    "### Ejercicio 14\n",
    "- Encuentra la diferencia entre el **set_1 = {9, 8, 7, 6, 5, 4, 3, 2}** y el **set_2 = {9, 8, 10}**\n",
    "- **Extra**: hazlo utilizando un bucle **for** y no la función."
   ]
  },
  {
   "cell_type": "code",
   "execution_count": 66,
   "id": "b9c1f6da",
   "metadata": {},
   "outputs": [
    {
     "data": {
      "text/plain": [
       "{2, 3, 4, 5, 6, 7}"
      ]
     },
     "execution_count": 66,
     "metadata": {},
     "output_type": "execute_result"
    }
   ],
   "source": [
    "set_1 = {9, 8, 7, 6, 5, 4, 3, 2}\n",
    "set_2 = {9, 8, 10}\n",
    "set_1.difference(set_2)"
   ]
  },
  {
   "cell_type": "code",
   "execution_count": 67,
   "id": "9c022e32",
   "metadata": {},
   "outputs": [
    {
     "data": {
      "text/plain": [
       "{2, 3, 4, 5, 6, 7}"
      ]
     },
     "execution_count": 67,
     "metadata": {},
     "output_type": "execute_result"
    }
   ],
   "source": [
    "set_1 = {9, 8, 7, 6, 5, 4, 3, 2}\n",
    "set_2 = {9, 8, 10}\n",
    "set_3 = set()\n",
    "for elemento in set_1:\n",
    "    if elemento not in set_2:\n",
    "        set_3.add(elemento)\n",
    "set_3"
   ]
  },
  {
   "cell_type": "code",
   "execution_count": null,
   "id": "bacca9a5",
   "metadata": {},
   "outputs": [],
   "source": []
  },
  {
   "cell_type": "markdown",
   "id": "551a5435",
   "metadata": {},
   "source": [
    "### Diccionarios"
   ]
  },
  {
   "cell_type": "markdown",
   "id": "d8f629e4",
   "metadata": {},
   "source": [
    "### Ejercicio 15\n",
    "- Crea un diccionario con 5 elementos (5 llaves y 5 valores)\n",
    "    - **Llave**: Color\n",
    "    - **Valor**: Numero de letras del color"
   ]
  },
  {
   "cell_type": "code",
   "execution_count": 69,
   "id": "19a8538b",
   "metadata": {},
   "outputs": [
    {
     "data": {
      "text/plain": [
       "{'azul': 4, 'rojo': 4, 'verde': 5, 'amarillo': 8, 'negro': 5}"
      ]
     },
     "execution_count": 69,
     "metadata": {},
     "output_type": "execute_result"
    }
   ],
   "source": [
    "colores_dict = {'azul':4, 'rojo':4, 'verde':5, 'amarillo':8, 'negro':5}\n",
    "colores_dict"
   ]
  },
  {
   "cell_type": "code",
   "execution_count": null,
   "id": "93b5e05d-e06b-4af8-afc8-9f01953a883d",
   "metadata": {},
   "outputs": [],
   "source": []
  },
  {
   "cell_type": "code",
   "execution_count": null,
   "id": "09c5ec06",
   "metadata": {},
   "outputs": [],
   "source": []
  },
  {
   "cell_type": "markdown",
   "id": "e8f4f57c",
   "metadata": {},
   "source": [
    "### Ejercicio 16\n",
    "- Crea un diccionario con 5 elementos pero esta vez pregunta el usuario por cada llave y valor.\n",
    "    - **Llave**: Color\n",
    "    - **Valor**: Numero de letras del color"
   ]
  },
  {
   "cell_type": "code",
   "execution_count": null,
   "id": "90c9b8de",
   "metadata": {},
   "outputs": [
    {
     "data": {
      "text/plain": [
       "{'naranja': 7, 'rojo': 4, 'verde': 5, 'azul': 4, 'amarillo': 8}"
      ]
     },
     "execution_count": 72,
     "metadata": {},
     "output_type": "execute_result"
    }
   ],
   "source": [
    "colores_dict = {}\n",
    "for i in range (5):\n",
    "    color = input(f\"Ingresa el color {i+1}\")\n",
    "    while color in colores_dict:\n",
    "        color = input(f\"{color} esta en el diccionario, ingresa otra vez el color {i+1}\")\n",
    "    colores_dict[color] = len(color)\n",
    "colores_dict"
   ]
  },
  {
   "cell_type": "code",
   "execution_count": null,
   "id": "506738f1",
   "metadata": {},
   "outputs": [],
   "source": []
  },
  {
   "cell_type": "code",
   "execution_count": null,
   "id": "21c199ae-a350-427a-bd96-9d8971a0249b",
   "metadata": {},
   "outputs": [],
   "source": []
  },
  {
   "cell_type": "markdown",
   "id": "f1d25834",
   "metadata": {},
   "source": [
    "### Ejercicio 17\n",
    "- Repite el ejercicio anterior pero de la siguiente forma:\n",
    "    - Primero crea en una lista los colores y en otra lista el numero de letras\n",
    "    - Después crea el diccionario a partir de las listas."
   ]
  },
  {
   "cell_type": "code",
   "execution_count": 74,
   "id": "55cae263",
   "metadata": {},
   "outputs": [
    {
     "data": {
      "text/plain": [
       "{'azul': 4, 'rojo': 4, 'amarillo': 8, 'verde': 5, 'naranja': 7}"
      ]
     },
     "execution_count": 74,
     "metadata": {},
     "output_type": "execute_result"
    }
   ],
   "source": [
    "lista_key = []\n",
    "lista_values = []\n",
    "colores_dict = {}\n",
    "for i in range (5):\n",
    "    color = input(f\"Ingresa el color {i+1}\")\n",
    "    while color in lista_key:\n",
    "        color = input(f\"{color} esta en el diccionario, ingresa otra vez el color {i+1}\")\n",
    "    lista_key.append(color)\n",
    "    lista_values.append(len(color))\n",
    "for llave, valor in zip (lista_key, lista_values):\n",
    "    colores_dict[llave] = valor\n",
    "colores_dict"
   ]
  },
  {
   "cell_type": "code",
   "execution_count": null,
   "id": "5559f84c",
   "metadata": {},
   "outputs": [],
   "source": []
  },
  {
   "cell_type": "code",
   "execution_count": null,
   "id": "e00b8e81",
   "metadata": {},
   "outputs": [],
   "source": []
  },
  {
   "cell_type": "markdown",
   "id": "07d54429",
   "metadata": {},
   "source": [
    "### Ejercicio 18\n",
    "- Pide al usuario que ingrese 3 números distintos y guarda esos números como llaves y crea los valores utilizando la siguiente formula:\n",
    "    - x : x**2\n",
    "    \n",
    "Donde x es la llave."
   ]
  },
  {
   "cell_type": "code",
   "execution_count": null,
   "id": "84ada027",
   "metadata": {},
   "outputs": [
    {
     "name": "stdout",
     "output_type": "stream",
     "text": [
      "hola no es un numero, intentalo de nuevo\n",
      "5 ya está en el diccionario, intente otro\n",
      "hola no es un numero, intentalo de nuevo\n"
     ]
    }
   ],
   "source": [
    "numeros_dict = {}\n",
    "for i in range(3):\n",
    "    while True:\n",
    "        argumento = input(f\"Ingresa el valor para numero{i+1}\")\n",
    "        try:\n",
    "            numero = int(argumento)\n",
    "            break\n",
    "        except:\n",
    "            print(f\"{argumento} no es un numero, intentalo de nuevo\")\n",
    "    while numero in numeros_dict:\n",
    "        print(f\"{numero} ya está en el diccionario, intente otro\")\n",
    "        while True:\n",
    "            argumento = input(f\"Ingresa el valor para numero{i+1}\")\n",
    "            try:\n",
    "                numero = int(argumento)\n",
    "                break\n",
    "            except:\n",
    "                print(f\"{argumento} no es un numero, intentalo de nuevo\")\n",
    "    numeros_dict[numero] = numero**23"
   ]
  },
  {
   "cell_type": "code",
   "execution_count": 76,
   "id": "5d99fe70-8a80-478f-8e91-32bd6bffa446",
   "metadata": {},
   "outputs": [
    {
     "data": {
      "text/plain": [
       "{5: 25, 4: 16, 2: 4}"
      ]
     },
     "execution_count": 76,
     "metadata": {},
     "output_type": "execute_result"
    }
   ],
   "source": [
    "numeros_dict"
   ]
  },
  {
   "cell_type": "code",
   "execution_count": null,
   "id": "7d2ea857",
   "metadata": {},
   "outputs": [],
   "source": []
  },
  {
   "cell_type": "markdown",
   "id": "225eef27",
   "metadata": {},
   "source": [
    "### Ejercicio 19\n",
    "- Pide al usuario que ingrese una frase y agrega las palabras como keys y la frecuencia de cada palabra como value en un diccionario. Usa la función **Counter**."
   ]
  },
  {
   "cell_type": "code",
   "execution_count": 79,
   "id": "31dc2dbc",
   "metadata": {},
   "outputs": [
    {
     "name": "stdout",
     "output_type": "stream",
     "text": [
      "Counter({'Hola': 3, 'soy': 3, 'Pablo': 1, 'Juan': 1, 'Yujin': 1})\n"
     ]
    }
   ],
   "source": [
    "from collections import Counter\n",
    "\n",
    "frase = input(\"Ingresa una frase\")\n",
    "lista_palabras = frase.split()\n",
    "print(Counter(lista_palabras))"
   ]
  },
  {
   "cell_type": "code",
   "execution_count": null,
   "id": "b82f3136",
   "metadata": {},
   "outputs": [],
   "source": []
  },
  {
   "cell_type": "code",
   "execution_count": null,
   "id": "f6dfdf29",
   "metadata": {},
   "outputs": [],
   "source": []
  },
  {
   "cell_type": "markdown",
   "id": "9cce66c7",
   "metadata": {},
   "source": [
    "### Ejercicio 20\n",
    "- Crea un programa donde las keys son 7 números aleatorios entre el 100 y el 200 y en los values debe de estar la palabra par o impar, si el número es par o impar"
   ]
  },
  {
   "cell_type": "code",
   "execution_count": 89,
   "id": "2bbd2645",
   "metadata": {},
   "outputs": [
    {
     "data": {
      "text/plain": [
       "{161: 'impar',\n",
       " 159: 'impar',\n",
       " 136: 'par',\n",
       " 185: 'impar',\n",
       " 108: 'par',\n",
       " 122: 'par',\n",
       " 107: 'impar'}"
      ]
     },
     "execution_count": 89,
     "metadata": {},
     "output_type": "execute_result"
    }
   ],
   "source": [
    "import random\n",
    "\n",
    "random_dict = {}\n",
    "i = 0\n",
    "while i < 7:\n",
    "    numero = random.randrange(100, 200)\n",
    "    if numero not in random_dict:\n",
    "        if numero % 2 == 0:\n",
    "            random_dict[numero] = 'par'\n",
    "        else:\n",
    "            random_dict[numero] = 'impar'\n",
    "        i += 1\n",
    "\n",
    "random_dict \n",
    "    "
   ]
  },
  {
   "cell_type": "code",
   "execution_count": null,
   "id": "fee58480",
   "metadata": {},
   "outputs": [],
   "source": []
  },
  {
   "cell_type": "code",
   "execution_count": null,
   "id": "7da4aeaf-7ed3-45cd-a724-e162e5939ff7",
   "metadata": {},
   "outputs": [],
   "source": []
  },
  {
   "cell_type": "markdown",
   "id": "4d474a3b",
   "metadata": {},
   "source": [
    "### Ejercicio 21\n",
    "- Crea un programa donde las keys son 10 números enteros aleatorios entre el 1 y el 50 y para cada value del diccionario vamos a utilizar la siguiente formula x : 1/x"
   ]
  },
  {
   "cell_type": "code",
   "execution_count": 90,
   "id": "3db65c7a",
   "metadata": {},
   "outputs": [
    {
     "data": {
      "text/plain": [
       "{9: 0.1111111111111111,\n",
       " 17: 0.058823529411764705,\n",
       " 13: 0.07692307692307693,\n",
       " 29: 0.034482758620689655,\n",
       " 38: 0.02631578947368421,\n",
       " 39: 0.02564102564102564,\n",
       " 36: 0.027777777777777776,\n",
       " 35: 0.02857142857142857,\n",
       " 15: 0.06666666666666667,\n",
       " 2: 0.5}"
      ]
     },
     "execution_count": 90,
     "metadata": {},
     "output_type": "execute_result"
    }
   ],
   "source": [
    "import random\n",
    "\n",
    "random_dict = {}\n",
    "i = 0\n",
    "while i < 10:\n",
    "    numero = random.randrange(1, 50)\n",
    "    if numero not in random_dict:\n",
    "        random_dict[numero] = 1 / numero\n",
    "        i += 1\n",
    "\n",
    "random_dict "
   ]
  },
  {
   "cell_type": "code",
   "execution_count": null,
   "id": "d70f79ef-a163-4649-ab4b-223b025b4ff6",
   "metadata": {},
   "outputs": [],
   "source": []
  },
  {
   "cell_type": "code",
   "execution_count": null,
   "id": "227b7aa5",
   "metadata": {},
   "outputs": [],
   "source": []
  },
  {
   "cell_type": "markdown",
   "id": "d2fb33ad",
   "metadata": {},
   "source": [
    "### Ejercicio 22\n",
    "- Crea un programa que dados los siguientes diccionarios: **d1 = {\"a\" : 125, \"b\" : 130, \"c\" : 150}**, **d2 = {\"e\" :  10, \"b\" : 20, \"a\" : 30}**, sume los items que tienen la misma key y guarde esas keys con la suma de los values en un nuevo diccionario"
   ]
  },
  {
   "cell_type": "code",
   "execution_count": 93,
   "id": "c0b2d94b",
   "metadata": {},
   "outputs": [
    {
     "data": {
      "text/plain": [
       "{'a': 155, 'b': 150}"
      ]
     },
     "execution_count": 93,
     "metadata": {},
     "output_type": "execute_result"
    }
   ],
   "source": [
    "d1 = {\"a\" : 125, \"b\" : 130, \"c\" : 150}\n",
    "d2 = {\"e\" :  10, \"b\" : 20, \"a\" : 30}\n",
    "d3 = {}\n",
    "\n",
    "for key, value in d1.items():\n",
    "    if key in d2 and key not in d3:\n",
    "        d3[key] = d1[key] + d2[key]\n",
    "d3"
   ]
  },
  {
   "cell_type": "code",
   "execution_count": null,
   "id": "ba84795f",
   "metadata": {},
   "outputs": [],
   "source": []
  },
  {
   "cell_type": "code",
   "execution_count": null,
   "id": "4cc64315",
   "metadata": {},
   "outputs": [],
   "source": []
  },
  {
   "cell_type": "code",
   "execution_count": null,
   "id": "06bc46b2",
   "metadata": {},
   "outputs": [],
   "source": [
    "##############################################################################################################################"
   ]
  }
 ],
 "metadata": {
  "kernelspec": {
   "display_name": "Python 3",
   "language": "python",
   "name": "python3"
  },
  "language_info": {
   "codemirror_mode": {
    "name": "ipython",
    "version": 3
   },
   "file_extension": ".py",
   "mimetype": "text/x-python",
   "name": "python",
   "nbconvert_exporter": "python",
   "pygments_lexer": "ipython3",
   "version": "3.13.1"
  }
 },
 "nbformat": 4,
 "nbformat_minor": 5
}
