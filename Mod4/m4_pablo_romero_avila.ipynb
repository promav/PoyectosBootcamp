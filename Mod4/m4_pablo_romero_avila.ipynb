{
 "cells": [
  {
   "cell_type": "markdown",
   "metadata": {},
   "source": [
    "# IMPORTAR LIBRERIAS"
   ]
  },
  {
   "cell_type": "code",
   "execution_count": 1,
   "metadata": {},
   "outputs": [],
   "source": [
    "import mysql.connector as con\n",
    "import pandas as pd\n",
    "import pymysql # Para ver la versión\n",
    "import sqlalchemy # Para ver la versión\n",
    "from sqlalchemy import create_engine"
   ]
  },
  {
   "cell_type": "code",
   "execution_count": 2,
   "metadata": {},
   "outputs": [
    {
     "name": "stdout",
     "output_type": "stream",
     "text": [
      "Conector: 9.1.0\n",
      "Pandas: 2.2.3\n",
      "pymysql: 1.4.6\n",
      "sqlalchemy: 2.0.37\n"
     ]
    }
   ],
   "source": [
    "print(f\"Conector: {con.__version__}\")\n",
    "print(f\"Pandas: {pd.__version__}\")\n",
    "print(f\"pymysql: {pymysql.__version__}\")\n",
    "print(f\"sqlalchemy: {sqlalchemy.__version__}\")"
   ]
  },
  {
   "cell_type": "markdown",
   "metadata": {},
   "source": [
    "# PARTE 1: CREAR BASE DE DATOS Y CREAR TABLAS"
   ]
  },
  {
   "cell_type": "markdown",
   "metadata": {},
   "source": [
    "Código SQL para la creacion de base de datos y tablas"
   ]
  },
  {
   "cell_type": "code",
   "execution_count": 3,
   "metadata": {},
   "outputs": [],
   "source": [
    "sql_creacion = \"\"\" \n",
    "DROP DATABASE IF EXISTS supermercado;\n",
    "\n",
    "CREATE DATABASE IF NOT EXISTS supermercado;\n",
    "\n",
    "USE supermercado;\n",
    "\n",
    "CREATE TABLE IF NOT EXISTS tiendas (\n",
    "    id_tienda INT AUTO_INCREMENT PRIMARY KEY,\n",
    "    nombre_tienda VARCHAR(100),\n",
    "    direccion VARCHAR(255),\n",
    "    ciudad VARCHAR(50)\n",
    ");\n",
    "\n",
    "CREATE TABLE IF NOT EXISTS empleados (\n",
    "    id_empleado INT AUTO_INCREMENT PRIMARY KEY,\n",
    "    nombre_empleado VARCHAR(100),\n",
    "    puesto VARCHAR(50),\n",
    "    id_tienda INT NOT NULL,\n",
    "    FOREIGN KEY (id_tienda) REFERENCES tiendas (id_tienda)\n",
    ");\n",
    "\n",
    "CREATE TABLE IF NOT EXISTS categorias (\n",
    "    id_categoria INT AUTO_INCREMENT PRIMARY KEY,\n",
    "    nombre_categoria VARCHAR(50)\n",
    ");\n",
    "\n",
    "CREATE TABLE IF NOT EXISTS productos (\n",
    "    id_producto INT AUTO_INCREMENT PRIMARY KEY,\n",
    "    nombre_producto VARCHAR(100),\n",
    "    precio DECIMAL(5, 2),\n",
    "    stock INT,\n",
    "    id_categoria INT NOT NULL,\n",
    "    FOREIGN KEY (id_categoria) REFERENCES categorias (id_categoria)\n",
    ");\n",
    "\n",
    "CREATE TABLE IF NOT EXISTS clientes (\n",
    "    id_cliente INT AUTO_INCREMENT PRIMARY KEY,\n",
    "    first_name VARCHAR(50),\n",
    "    last_name VARCHAR(50),\n",
    "    email VARCHAR(255),\n",
    "    codigo_postal INT(5)\n",
    ");\n",
    "\n",
    "CREATE TABLE IF NOT EXISTS ordenes (\n",
    "    id_orden INT AUTO_INCREMENT PRIMARY KEY,\n",
    "    id_cliente INT NOT NULL,\n",
    "    id_empleado INT NOT NULL,\n",
    "    fecha_orden DATETIME,\n",
    "    metodo_pago ENUM('Tarjeta', 'Efectivo'),\n",
    "    FOREIGN KEY (id_cliente) REFERENCES clientes (id_cliente),\n",
    "    FOREIGN KEY (id_empleado) REFERENCES empleados (id_empleado)\n",
    ");\n",
    "\n",
    "CREATE TABLE IF NOT EXISTS detalle_orden (\n",
    "    id_detalle INT AUTO_INCREMENT PRIMARY KEY,\n",
    "    id_orden INT NOT NULL,\n",
    "    id_producto INT NOT NULL,\n",
    "    cantidad INT,\n",
    "    precio_unitario DECIMAL(5, 2), -- mismo precio que en la tabla producto\n",
    "    descuento INT,\n",
    "    FOREIGN KEY (id_orden) REFERENCES ordenes (id_orden),\n",
    "    FOREIGN KEY (id_producto) REFERENCES productos (id_producto)\n",
    ");\n",
    "\"\"\""
   ]
  },
  {
   "cell_type": "markdown",
   "metadata": {},
   "source": [
    "Conexión a MySQL y ejecución de codigo de creacion"
   ]
  },
  {
   "cell_type": "code",
   "execution_count": 4,
   "metadata": {},
   "outputs": [],
   "source": [
    "connection = con.connect(\n",
    "    host=\"localhost\",\n",
    "    port= \"3306\",\n",
    "    user= \"root\",\n",
    "    password= \"admin\"\n",
    ")\n",
    "\n",
    "cursor = connection.cursor()\n",
    "cursor.execute(sql_creacion)\n",
    "cursor.close()\n",
    "connection.close()"
   ]
  }
 ],
 "metadata": {
  "kernelspec": {
   "display_name": "Python 3",
   "language": "python",
   "name": "python3"
  },
  "language_info": {
   "codemirror_mode": {
    "name": "ipython",
    "version": 3
   },
   "file_extension": ".py",
   "mimetype": "text/x-python",
   "name": "python",
   "nbconvert_exporter": "python",
   "pygments_lexer": "ipython3",
   "version": "3.13.1"
  }
 },
 "nbformat": 4,
 "nbformat_minor": 2
}
