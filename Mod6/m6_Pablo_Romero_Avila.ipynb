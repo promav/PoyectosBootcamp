{
 "cells": [
  {
   "cell_type": "markdown",
   "metadata": {},
   "source": [
    "# MODULO 6"
   ]
  },
  {
   "cell_type": "code",
   "execution_count": 85,
   "metadata": {},
   "outputs": [],
   "source": [
    "import seaborn as sns\n",
    "import pandas as pd\n",
    "from pyspark.sql import SparkSession\n",
    "spark = SparkSession.builder.appName('pipeline_penguins').getOrCreate()"
   ]
  },
  {
   "cell_type": "code",
   "execution_count": 86,
   "metadata": {},
   "outputs": [
    {
     "name": "stdout",
     "output_type": "stream",
     "text": [
      "+-----+-------+-----+-------+-----+-----+-----+----+----+----+\n",
      "|carat|    cut|color|clarity|depth|table|price|   x|   y|   z|\n",
      "+-----+-------+-----+-------+-----+-----+-----+----+----+----+\n",
      "| 0.23|  Ideal|    E|    SI2| 61.5|   55|  326|3.95|3.98|2.43|\n",
      "| 0.21|Premium|    E|    SI1| 59.8|   61|  326|3.89|3.84|2.31|\n",
      "| 0.23|   Good|    E|    VS1| 56.9|   65|  327|4.05|4.07|2.31|\n",
      "| 0.29|Premium|    I|    VS2| 62.4|   58|  334| 4.2|4.23|2.63|\n",
      "| 0.31|   Good|    J|    SI2| 63.3|   58|  335|4.34|4.35|2.75|\n",
      "+-----+-------+-----+-------+-----+-----+-----+----+----+----+\n",
      "only showing top 5 rows\n",
      "\n",
      "root\n",
      " |-- carat: float (nullable = true)\n",
      " |-- cut: string (nullable = true)\n",
      " |-- color: string (nullable = true)\n",
      " |-- clarity: string (nullable = true)\n",
      " |-- depth: float (nullable = true)\n",
      " |-- table: integer (nullable = true)\n",
      " |-- price: integer (nullable = true)\n",
      " |-- x: float (nullable = true)\n",
      " |-- y: float (nullable = true)\n",
      " |-- z: float (nullable = true)\n",
      "\n"
     ]
    }
   ],
   "source": [
    "import requests\n",
    "from pyspark.sql.types import StructType, StructField, FloatType, StringType, IntegerType\n",
    "\n",
    "\n",
    "url = 'https://raw.githubusercontent.com/mwaskom/seaborn-data/refs/heads/master/diamonds.csv'\n",
    "csv_path = 'diamonds.csv'\n",
    "\n",
    "with open(csv_path, 'wb') as file:\n",
    "    file.write(requests.get(url).content)\n",
    "    \n",
    "schema = StructType([\n",
    "    StructField('carat', FloatType(), True),\n",
    "    StructField('cut', StringType(), True),\n",
    "    StructField('color', StringType(), True),\n",
    "    StructField('clarity', StringType(), True),\n",
    "    StructField('depth', FloatType(), True),\n",
    "    StructField('table', IntegerType(), True),\n",
    "    StructField('price', IntegerType(), True),\n",
    "    StructField('x', FloatType(), True),\n",
    "    StructField('y', FloatType(), True),\n",
    "    StructField('z', FloatType(), True)\n",
    "])\n",
    "\n",
    "df = spark.read.csv(csv_path, header=True, inferSchema=False, schema=schema)\n",
    "df.show(5)\n",
    "df.printSchema()"
   ]
  },
  {
   "cell_type": "code",
   "execution_count": 87,
   "metadata": {},
   "outputs": [
    {
     "name": "stdout",
     "output_type": "stream",
     "text": [
      "+-----+---+-----+-------+-----+-----+-----+---+---+---+\n",
      "|carat|cut|color|clarity|depth|table|price|  x|  y|  z|\n",
      "+-----+---+-----+-------+-----+-----+-----+---+---+---+\n",
      "|    0|  0|    0|      0|    0|  924|    0|  0|  0|  0|\n",
      "+-----+---+-----+-------+-----+-----+-----+---+---+---+\n",
      "\n",
      "+-----+---+-----+-------+-----+-----+-----+---+---+---+\n",
      "|carat|cut|color|clarity|depth|table|price|  x|  y|  z|\n",
      "+-----+---+-----+-------+-----+-----+-----+---+---+---+\n",
      "|    0|  0|    0|      0|    0|  924|    0|  0|  0|  0|\n",
      "+-----+---+-----+-------+-----+-----+-----+---+---+---+\n",
      "\n"
     ]
    }
   ],
   "source": [
    "from pyspark.sql.functions import col, sum \n",
    "\n",
    "# Como vamos a predecir island borramos filas donde island sea nan:\n",
    "df_regresion = df.dropna(subset=['price'])\n",
    "df_clasificacion = df.dropna(subset=['cut'])\n",
    "\n",
    "# contar nulos en todas las columnas: equivalente a pandas df.isna().sum()\n",
    "df_regresion.select([sum(col(c).isNull().cast('int')).alias(c) for c in df_regresion.columns]).show()\n",
    "df_clasificacion.select([sum(col(c).isNull().cast('int')).alias(c) for c in df_clasificacion.columns]).show()"
   ]
  },
  {
   "cell_type": "markdown",
   "metadata": {},
   "source": [
    "## CLASIFICACION"
   ]
  },
  {
   "cell_type": "code",
   "execution_count": 88,
   "metadata": {},
   "outputs": [],
   "source": [
    "from pyspark.sql.types import NumericType, StringType\n",
    "\n",
    "# seleccionar los nombres de las columnas a las que aplicar Preprocesados\n",
    "numerical_cols = [field.name for field in df_clasificacion.schema.fields if isinstance(field.dataType, NumericType)]\n",
    "categorical_cols = [field.name for field in df_clasificacion.schema.fields if isinstance(field.dataType, StringType) and field.name != 'cut']\n",
    "label_col = 'cut'"
   ]
  },
  {
   "cell_type": "code",
   "execution_count": 89,
   "metadata": {},
   "outputs": [
    {
     "name": "stdout",
     "output_type": "stream",
     "text": [
      "Número de clases: 5\n"
     ]
    }
   ],
   "source": [
    "# Indexer para 'cut' la columna a predecir\n",
    "from pyspark.ml.feature import StringIndexer, Imputer, OneHotEncoder, VectorAssembler\n",
    "\n",
    "indexer_label = StringIndexer(\n",
    "    inputCol=label_col,\n",
    "    outputCol='label',\n",
    "    handleInvalid='keep'\n",
    ")\n",
    "df_indexed = indexer_label.fit(df).transform(df)\n",
    "\n",
    "num_classes = df_indexed.select(\"label\").distinct().count()\n",
    "print(\"Número de clases:\", num_classes)"
   ]
  },
  {
   "cell_type": "code",
   "execution_count": 90,
   "metadata": {},
   "outputs": [
    {
     "name": "stdout",
     "output_type": "stream",
     "text": [
      "['color_indexed', 'clarity_indexed']\n"
     ]
    }
   ],
   "source": [
    "# Indexers para las features de la entrada que no son la columna label a predecir\n",
    "# crea un objeto StringIndexer por cada columna categórica a indexar\n",
    "indexers_features = [\n",
    "    StringIndexer(inputCol=c, outputCol=c + '_indexed', handleInvalid='keep') for c in categorical_cols\n",
    "]\n",
    "categorical_cols_indexed = [c + '_indexed' for c in categorical_cols]\n",
    "print(categorical_cols_indexed)"
   ]
  },
  {
   "cell_type": "code",
   "execution_count": 91,
   "metadata": {},
   "outputs": [
    {
     "name": "stdout",
     "output_type": "stream",
     "text": [
      "['color_indexed_imputed', 'clarity_indexed_imputed']\n"
     ]
    }
   ],
   "source": [
    "# Imputer con la moda para las columnas categóricas indexadas\n",
    "imputer_categorical = Imputer(\n",
    "    inputCols=categorical_cols_indexed,\n",
    "    outputCols=[c + '_imputed' for c in categorical_cols_indexed],\n",
    "    strategy='mode'\n",
    ")\n",
    "categorical_cols_indexed_imputed = [c + '_imputed' for c in categorical_cols_indexed]\n",
    "print(categorical_cols_indexed_imputed)"
   ]
  },
  {
   "cell_type": "code",
   "execution_count": 92,
   "metadata": {},
   "outputs": [
    {
     "name": "stdout",
     "output_type": "stream",
     "text": [
      "['color_indexed_imputed_onehot', 'clarity_indexed_imputed_onehot']\n"
     ]
    }
   ],
   "source": [
    "# one hot encoders para las categóricas indexadas imputadas\n",
    "encoders_onehot = [\n",
    "    OneHotEncoder(inputCol=c, outputCol=c + '_onehot') \n",
    "    for c in categorical_cols_indexed_imputed\n",
    "]\n",
    "categorical_cols_onehot = [c + '_onehot' for c in categorical_cols_indexed_imputed]\n",
    "print(categorical_cols_onehot)"
   ]
  },
  {
   "cell_type": "code",
   "execution_count": 93,
   "metadata": {},
   "outputs": [
    {
     "name": "stdout",
     "output_type": "stream",
     "text": [
      "['carat_imputed', 'depth_imputed', 'table_imputed', 'price_imputed', 'x_imputed', 'y_imputed', 'z_imputed']\n"
     ]
    }
   ],
   "source": [
    "# Imputer con la mediana para la columnas numéricas\n",
    "imputer_numerical = Imputer(\n",
    "    inputCols=numerical_cols,\n",
    "    outputCols=[c + '_imputed' for c in numerical_cols],\n",
    "    strategy='median'\n",
    ")\n",
    "numerical_cols_imputed = [c + '_imputed' for c in numerical_cols]\n",
    "print(numerical_cols_imputed)"
   ]
  },
  {
   "cell_type": "code",
   "execution_count": 94,
   "metadata": {},
   "outputs": [],
   "source": [
    "from pyspark.ml.feature import StandardScaler\n",
    "\n",
    "# Escalar numéricas con StandardScaler\n",
    "assembler_numerical = VectorAssembler(\n",
    "    inputCols=numerical_cols_imputed,\n",
    "    outputCol='numeric_features'\n",
    ")\n",
    "scaler = StandardScaler(\n",
    "    inputCol='numeric_features',\n",
    "    outputCol='numeric_features_scaled'\n",
    ")"
   ]
  },
  {
   "cell_type": "code",
   "execution_count": 95,
   "metadata": {},
   "outputs": [
    {
     "name": "stdout",
     "output_type": "stream",
     "text": [
      "['numeric_features_scaled', 'color_indexed_imputed_onehot', 'clarity_indexed_imputed_onehot']\n"
     ]
    }
   ],
   "source": [
    "all_columns = ['numeric_features_scaled'] + categorical_cols_onehot\n",
    "print(all_columns)"
   ]
  },
  {
   "cell_type": "code",
   "execution_count": 96,
   "metadata": {},
   "outputs": [],
   "source": [
    "# Ensamblar todo: numéricas + categóricas y obtener features\n",
    "assembler_all = VectorAssembler(\n",
    "    inputCols=all_columns,\n",
    "    outputCol='features'\n",
    ")"
   ]
  },
  {
   "cell_type": "code",
   "execution_count": 97,
   "metadata": {},
   "outputs": [],
   "source": [
    "# particionamiento de datos\n",
    "df_clasificacion_train, df_clasificacion_test = df_clasificacion.randomSplit([0.8, 0.2], seed=42)"
   ]
  },
  {
   "cell_type": "code",
   "execution_count": 98,
   "metadata": {},
   "outputs": [
    {
     "name": "stdout",
     "output_type": "stream",
     "text": [
      "+-----+-------+-----+-------+-----+-----+-----+----+----+----+\n",
      "|carat|    cut|color|clarity|depth|table|price|   x|   y|   z|\n",
      "+-----+-------+-----+-------+-----+-----+-----+----+----+----+\n",
      "|  0.2|  Ideal|    D|    VS2| 61.5|   57|  367|3.81|3.77|2.33|\n",
      "|  0.2|  Ideal|    E|    VS2| 59.7|   55|  367|3.86|3.84| 2.3|\n",
      "|  0.2|Premium|    D|    VS2| 61.7|   60|  367|3.77|3.72|2.31|\n",
      "|  0.2|Premium|    D|    VS2| 62.3|   60|  367|3.73|3.68|2.31|\n",
      "|  0.2|Premium|    E|    SI2| 60.2|   62|  345|3.79|3.75|2.27|\n",
      "+-----+-------+-----+-------+-----+-----+-----+----+----+----+\n",
      "only showing top 5 rows\n",
      "\n"
     ]
    }
   ],
   "source": [
    "df_clasificacion_train.show(5)"
   ]
  },
  {
   "cell_type": "code",
   "execution_count": 99,
   "metadata": {},
   "outputs": [
    {
     "data": {
      "text/plain": [
       "['numeric_features_scaled',\n",
       " 'color_indexed_imputed_onehot',\n",
       " 'clarity_indexed_imputed_onehot']"
      ]
     },
     "execution_count": 99,
     "metadata": {},
     "output_type": "execute_result"
    }
   ],
   "source": [
    "all_columns # Asegúrate de que estas sean las columnas usadas en 'features'"
   ]
  },
  {
   "cell_type": "markdown",
   "metadata": {},
   "source": [
    "Uso LogisticRegression porque me es imposible hacer funcionar dentro del pipeline el MultilayerPerceptronClassifier"
   ]
  },
  {
   "cell_type": "code",
   "execution_count": null,
   "metadata": {},
   "outputs": [],
   "source": [
    "from pyspark.ml.classification import LogisticRegression\n",
    "\n",
    "classifier = LogisticRegression()"
   ]
  },
  {
   "cell_type": "code",
   "execution_count": 101,
   "metadata": {},
   "outputs": [],
   "source": [
    "from pyspark.ml import Pipeline\n",
    "\n",
    "pipeline = Pipeline(stages = [\n",
    "    # 1. Indexer para columna categórica 'cut' StringIndexer porque es la columna a predecir\n",
    "    indexer_label,\n",
    "    # 2. Indexers para columnas categóricas: 'color', 'clarity' \n",
    "    *indexers_features, # ponemos * porque es una lista de objetos\n",
    "    # 3. Imputer para categóricas\n",
    "    imputer_categorical,\n",
    "    # 4. One Hot Encoders para categóricas\n",
    "    *encoders_onehot, # ponemos * porque es una lista de objetos\n",
    "    # 5. Imputer para numéricas\n",
    "    imputer_numerical,\n",
    "    # 6. Ensamblar numéricas + escalado\n",
    "    assembler_numerical,\n",
    "    scaler,\n",
    "    # 7. Ensamblar numéricas escaladas + categóricas en una sola columna 'features'\n",
    "    assembler_all,\n",
    "    # 8. modelo de clasificación\n",
    "    classifier\n",
    "])"
   ]
  },
  {
   "cell_type": "code",
   "execution_count": 102,
   "metadata": {},
   "outputs": [],
   "source": [
    "pipeline_model = pipeline.fit(df_clasificacion_train)\n",
    "df_pred = pipeline_model.transform(df_clasificacion_test)\n"
   ]
  },
  {
   "cell_type": "code",
   "execution_count": 103,
   "metadata": {},
   "outputs": [
    {
     "name": "stdout",
     "output_type": "stream",
     "text": [
      "+-----+-------+-----+-------+-----+-----+-----+----+----+----+-----+-------------+---------------+---------------------+-----------------------+----------------------------+------------------------------+-------------+-------------+-------------+-------------+---------+---------+---------+--------------------+-----------------------+--------------------+--------------------+--------------------+----------+\n",
      "|carat|    cut|color|clarity|depth|table|price|   x|   y|   z|label|color_indexed|clarity_indexed|color_indexed_imputed|clarity_indexed_imputed|color_indexed_imputed_onehot|clarity_indexed_imputed_onehot|carat_imputed|depth_imputed|table_imputed|price_imputed|x_imputed|y_imputed|z_imputed|    numeric_features|numeric_features_scaled|            features|       rawPrediction|         probability|prediction|\n",
      "+-----+-------+-----+-------+-----+-----+-----+----+----+----+-----+-------------+---------------+---------------------+-----------------------+----------------------------+------------------------------+-------------+-------------+-------------+-------------+---------+---------+---------+--------------------+-----------------------+--------------------+--------------------+--------------------+----------+\n",
      "|  0.2|  Ideal|    E|    VS2| 62.2|   57|  367|3.76|3.73|2.33|  0.0|          1.0|            1.0|                  1.0|                    1.0|               (6,[1],[1.0])|                 (7,[1],[1.0])|          0.2|         62.2|           57|          367|     3.76|     3.73|     2.33|[0.20000000298023...|   [0.42164350853938...|(20,[0,1,2,3,4,5,...|[4.69344574736281...|[0.35865846668987...|       1.0|\n",
      "|  0.2|Premium|    E|    VS2| 59.0|   60|  367|3.81|3.78|2.24|  1.0|          1.0|            1.0|                  1.0|                    1.0|               (6,[1],[1.0])|                 (7,[1],[1.0])|          0.2|         59.0|           60|          367|     3.81|     3.78|     2.24|[0.20000000298023...|   [0.42164350853938...|(20,[0,1,2,3,4,5,...|[3.85111845776613...|[0.08091950984937...|       1.0|\n",
      "|  0.2|Premium|    E|    VS2| 59.8|   62|  367|3.79|3.77|2.26|  1.0|          1.0|            1.0|                  1.0|                    1.0|               (6,[1],[1.0])|                 (7,[1],[1.0])|          0.2|         59.8|           62|          367|     3.79|     3.77|     2.26|[0.20000000298023...|   [0.42164350853938...|(20,[0,1,2,3,4,5,...|[1.99902439095829...|[0.01066091925847...|       1.0|\n",
      "| 0.21|Premium|    D|    VS2| 59.1|   62|  386|3.89|3.86|2.29|  1.0|          4.0|            1.0|                  4.0|                    1.0|               (6,[4],[1.0])|                 (7,[1],[1.0])|         0.21|         59.1|           62|          386|     3.89|     3.86|     2.29|[0.20999999344348...|   [0.44272566354667...|(20,[0,1,2,3,4,5,...|[2.28944144666728...|[0.01244308528848...|       1.0|\n",
      "| 0.21|Premium|    E|    VS2| 60.5|   59|  386|3.87|3.83|2.33|  1.0|          1.0|            1.0|                  1.0|                    1.0|               (6,[1],[1.0])|                 (7,[1],[1.0])|         0.21|         60.5|           59|          386|     3.87|     3.83|     2.33|[0.20999999344348...|   [0.44272566354667...|(20,[0,1,2,3,4,5,...|[3.91753842223560...|[0.11658303689891...|       1.0|\n",
      "+-----+-------+-----+-------+-----+-----+-----+----+----+----+-----+-------------+---------------+---------------------+-----------------------+----------------------------+------------------------------+-------------+-------------+-------------+-------------+---------+---------+---------+--------------------+-----------------------+--------------------+--------------------+--------------------+----------+\n",
      "only showing top 5 rows\n",
      "\n"
     ]
    }
   ],
   "source": [
    "df_pred.show(5)"
   ]
  },
  {
   "cell_type": "code",
   "execution_count": 104,
   "metadata": {},
   "outputs": [],
   "source": [
    "from pyspark.ml.evaluation import MulticlassClassificationEvaluator\n",
    "\n",
    "evaluator_accuracy = MulticlassClassificationEvaluator(metricName='accuracy')\n",
    "evaluator_f1 = MulticlassClassificationEvaluator(metricName='f1')\n",
    "evaluator_precision = MulticlassClassificationEvaluator(metricName='weightedPrecision')\n",
    "evaluator_recall = MulticlassClassificationEvaluator(metricName='weightedRecall')"
   ]
  },
  {
   "cell_type": "code",
   "execution_count": 105,
   "metadata": {},
   "outputs": [
    {
     "name": "stdout",
     "output_type": "stream",
     "text": [
      "accuracy 0.6474164133738601\n",
      "f1 0.6213113536919702\n",
      "precision 0.635484395370381\n",
      "recall 0.6474164133738601\n"
     ]
    }
   ],
   "source": [
    "print('accuracy', evaluator_accuracy.evaluate(df_pred))\n",
    "print('f1', evaluator_f1.evaluate(df_pred))\n",
    "print('precision', evaluator_precision.evaluate(df_pred))\n",
    "print('recall', evaluator_recall.evaluate(df_pred))"
   ]
  },
  {
   "cell_type": "markdown",
   "metadata": {},
   "source": [
    "## REGRESION"
   ]
  },
  {
   "cell_type": "code",
   "execution_count": 106,
   "metadata": {},
   "outputs": [],
   "source": [
    "from pyspark.sql.types import NumericType, StringType\n",
    "\n",
    "# seleccionar los nombres de las columnas a las que aplicar Preprocesados\n",
    "numerical_cols = [field.name for field in df_regresion.schema.fields if isinstance(field.dataType, NumericType) and field.name != 'price']\n",
    "categorical_cols = [field.name for field in df_regresion.schema.fields if isinstance(field.dataType, StringType)]\n",
    "label_col = 'price'"
   ]
  },
  {
   "cell_type": "code",
   "execution_count": 107,
   "metadata": {},
   "outputs": [],
   "source": [
    "from pyspark.ml.feature import StringIndexer, Imputer, OneHotEncoder, VectorAssembler\n",
    "\n",
    "df_regresion = df_regresion.withColumnRenamed('price', 'label')"
   ]
  },
  {
   "cell_type": "code",
   "execution_count": 108,
   "metadata": {},
   "outputs": [
    {
     "name": "stdout",
     "output_type": "stream",
     "text": [
      "['cut_indexed', 'color_indexed', 'clarity_indexed']\n"
     ]
    }
   ],
   "source": [
    "# Indexers para las features de la entrada que no son la columna label a predecir\n",
    "# crea un objeto StringIndexer por cada columna categórica a indexar\n",
    "indexers_features = [\n",
    "    StringIndexer(inputCol=c, outputCol=c + '_indexed', handleInvalid='keep') for c in categorical_cols\n",
    "]\n",
    "categorical_cols_indexed = [c + '_indexed' for c in categorical_cols]\n",
    "print(categorical_cols_indexed)"
   ]
  },
  {
   "cell_type": "code",
   "execution_count": 109,
   "metadata": {},
   "outputs": [
    {
     "name": "stdout",
     "output_type": "stream",
     "text": [
      "['cut_indexed_imputed', 'color_indexed_imputed', 'clarity_indexed_imputed']\n"
     ]
    }
   ],
   "source": [
    "# Imputer con la moda para las columnas categóricas indexadas\n",
    "imputer_categorical = Imputer(\n",
    "    inputCols=categorical_cols_indexed,\n",
    "    outputCols=[c + '_imputed' for c in categorical_cols_indexed],\n",
    "    strategy='mode'\n",
    ")\n",
    "categorical_cols_indexed_imputed = [c + '_imputed' for c in categorical_cols_indexed]\n",
    "print(categorical_cols_indexed_imputed)"
   ]
  },
  {
   "cell_type": "code",
   "execution_count": 110,
   "metadata": {},
   "outputs": [
    {
     "name": "stdout",
     "output_type": "stream",
     "text": [
      "['cut_indexed_imputed_onehot', 'color_indexed_imputed_onehot', 'clarity_indexed_imputed_onehot']\n"
     ]
    }
   ],
   "source": [
    "# one hot encoders para las categóricas indexadas imputadas\n",
    "encoders_onehot = [\n",
    "    OneHotEncoder(inputCol=c, outputCol=c + '_onehot') \n",
    "    for c in categorical_cols_indexed_imputed\n",
    "]\n",
    "categorical_cols_onehot = [c + '_onehot' for c in categorical_cols_indexed_imputed]\n",
    "print(categorical_cols_onehot)"
   ]
  },
  {
   "cell_type": "code",
   "execution_count": 111,
   "metadata": {},
   "outputs": [
    {
     "name": "stdout",
     "output_type": "stream",
     "text": [
      "['carat_imputed', 'depth_imputed', 'table_imputed', 'x_imputed', 'y_imputed', 'z_imputed']\n"
     ]
    }
   ],
   "source": [
    "# Imputer con la mediana para la columnas numéricas\n",
    "imputer_numerical = Imputer(\n",
    "    inputCols=numerical_cols,\n",
    "    outputCols=[c + '_imputed' for c in numerical_cols],\n",
    "    strategy='median'\n",
    ")\n",
    "numerical_cols_imputed = [c + '_imputed' for c in numerical_cols]\n",
    "print(numerical_cols_imputed)"
   ]
  },
  {
   "cell_type": "code",
   "execution_count": 112,
   "metadata": {},
   "outputs": [],
   "source": [
    "from pyspark.ml.feature import StandardScaler\n",
    "\n",
    "# Escalar numéricas con StandardScaler\n",
    "assembler_numerical = VectorAssembler(\n",
    "    inputCols=numerical_cols_imputed,\n",
    "    outputCol='numeric_features'\n",
    ")\n",
    "scaler = StandardScaler(\n",
    "    inputCol='numeric_features',\n",
    "    outputCol='numeric_features_scaled'\n",
    ")"
   ]
  },
  {
   "cell_type": "code",
   "execution_count": 113,
   "metadata": {},
   "outputs": [
    {
     "name": "stdout",
     "output_type": "stream",
     "text": [
      "['numeric_features_scaled', 'cut_indexed_imputed_onehot', 'color_indexed_imputed_onehot', 'clarity_indexed_imputed_onehot']\n"
     ]
    }
   ],
   "source": [
    "all_columns = ['numeric_features_scaled'] + categorical_cols_onehot\n",
    "print(all_columns)"
   ]
  },
  {
   "cell_type": "code",
   "execution_count": 114,
   "metadata": {},
   "outputs": [],
   "source": [
    "# Ensamblar todo: numéricas + categóricas y obtener features\n",
    "assembler_all = VectorAssembler(\n",
    "    inputCols=all_columns,\n",
    "    outputCol='features'\n",
    ")"
   ]
  },
  {
   "cell_type": "code",
   "execution_count": 115,
   "metadata": {},
   "outputs": [],
   "source": [
    "# particionamiento de datos\n",
    "df_regresion_train, df_regresion_test = df_regresion.randomSplit([0.8, 0.2], seed=42)"
   ]
  },
  {
   "cell_type": "code",
   "execution_count": 116,
   "metadata": {},
   "outputs": [],
   "source": [
    "from pyspark.ml.regression import RandomForestRegressor\n",
    "\n",
    "regressor = RandomForestRegressor(seed=42)"
   ]
  },
  {
   "cell_type": "code",
   "execution_count": 117,
   "metadata": {},
   "outputs": [],
   "source": [
    "from pyspark.ml import Pipeline\n",
    "\n",
    "pipeline = Pipeline(stages = [\n",
    "    *indexers_features, # ponemos * porque es una lista de objetos\n",
    "    imputer_categorical,\n",
    "    *encoders_onehot, # ponemos * porque es una lista de objetos\n",
    "    imputer_numerical,\n",
    "    assembler_numerical,\n",
    "    scaler,\n",
    "    assembler_all,\n",
    "    regressor\n",
    "])"
   ]
  },
  {
   "cell_type": "code",
   "execution_count": 118,
   "metadata": {},
   "outputs": [],
   "source": [
    "pipeline_model = pipeline.fit(df_regresion_train)\n",
    "df_pred = pipeline_model.transform(df_regresion_test)\n"
   ]
  },
  {
   "cell_type": "code",
   "execution_count": 119,
   "metadata": {},
   "outputs": [],
   "source": [
    "from pyspark.ml.evaluation import RegressionEvaluator\n",
    "\n",
    "evaluator_r2 = RegressionEvaluator(metricName='r2')\n",
    "evaluator_mae = RegressionEvaluator(metricName='mae')\n",
    "evaluator_mse = RegressionEvaluator(metricName='mse')\n",
    "evaluator_rmse = RegressionEvaluator(metricName='rmse') "
   ]
  },
  {
   "cell_type": "code",
   "execution_count": 120,
   "metadata": {},
   "outputs": [
    {
     "name": "stdout",
     "output_type": "stream",
     "text": [
      "r2 0.9068588220189352\n",
      "mae 683.036519430222\n",
      "mse 1515470.0782001573\n",
      "rmse 1231.0443039144275\n"
     ]
    }
   ],
   "source": [
    "print('r2', evaluator_r2.evaluate(df_pred))\n",
    "print('mae', evaluator_mae.evaluate(df_pred))\n",
    "print('mse', evaluator_mse.evaluate(df_pred))\n",
    "print('rmse', evaluator_rmse.evaluate(df_pred))"
   ]
  },
  {
   "cell_type": "markdown",
   "metadata": {},
   "source": [
    "## Gridsearch y validación cruzada\n",
    "\n",
    "Equivalente a GridSearchCV de Scikit Learn, busca los mejores parámetros de un modelo."
   ]
  },
  {
   "cell_type": "code",
   "execution_count": 121,
   "metadata": {},
   "outputs": [],
   "source": [
    "from pyspark.ml.tuning import ParamGridBuilder, CrossValidator\n",
    "\n",
    "paramGrid = (\n",
    "    ParamGridBuilder()\n",
    "    .addGrid(regressor.numTrees, [5, 10, 15, 20, 25, 30]) # por defecto es 20\n",
    "    .addGrid(regressor.maxDepth, [3, 5, 10, 15]) # por defecto es 5 rango de [0, 30]\n",
    "    .build()\n",
    ")"
   ]
  },
  {
   "cell_type": "code",
   "execution_count": 123,
   "metadata": {},
   "outputs": [],
   "source": [
    "crossval = CrossValidator(\n",
    "    estimator=pipeline,\n",
    "    estimatorParamMaps=paramGrid, # Parámetros para grid search hyper parameter tuning\n",
    "    evaluator=evaluator_r2,\n",
    "    numFolds=3, # por defecto ya 3 folds\n",
    "    parallelism=4,\n",
    "    seed=42\n",
    ")\n",
    "cv_model = crossval.fit(df_regresion_train)\n",
    "df_pred = cv_model.transform(df_regresion_test)"
   ]
  },
  {
   "cell_type": "code",
   "execution_count": 124,
   "metadata": {},
   "outputs": [
    {
     "name": "stdout",
     "output_type": "stream",
     "text": [
      "r2 0.966849930845084\n",
      "mae 374.78833004987985\n",
      "mse 539374.0876323732\n",
      "rmse 734.4209199310524\n"
     ]
    }
   ],
   "source": [
    "print('r2', evaluator_r2.evaluate(df_pred))\n",
    "print('mae', evaluator_mae.evaluate(df_pred))\n",
    "print('mse', evaluator_mse.evaluate(df_pred))\n",
    "print('rmse', evaluator_rmse.evaluate(df_pred))"
   ]
  },
  {
   "cell_type": "code",
   "execution_count": 126,
   "metadata": {},
   "outputs": [
    {
     "name": "stdout",
     "output_type": "stream",
     "text": [
      "{Param(parent='RandomForestRegressor_db8a367123f9', name='bootstrap', doc='Whether bootstrap samples are used when building trees.'): True, Param(parent='RandomForestRegressor_db8a367123f9', name='cacheNodeIds', doc='If false, the algorithm will pass trees to executors to match instances with nodes. If true, the algorithm will cache node IDs for each instance. Caching can speed up training of deeper trees. Users can set how often should the cache be checkpointed or disable it by setting checkpointInterval.'): False, Param(parent='RandomForestRegressor_db8a367123f9', name='checkpointInterval', doc='set checkpoint interval (>= 1) or disable checkpoint (-1). E.g. 10 means that the cache will get checkpointed every 10 iterations. Note: this setting will be ignored if the checkpoint directory is not set in the SparkContext.'): 10, Param(parent='RandomForestRegressor_db8a367123f9', name='featureSubsetStrategy', doc=\"The number of features to consider for splits at each tree node. Supported options: 'auto' (choose automatically for task: If numTrees == 1, set to 'all'. If numTrees > 1 (forest), set to 'sqrt' for classification and to 'onethird' for regression), 'all' (use all features), 'onethird' (use 1/3 of the features), 'sqrt' (use sqrt(number of features)), 'log2' (use log2(number of features)), 'n' (when n is in the range (0, 1.0], use n * number of features. When n is in the range (1, number of features), use n features). default = 'auto'\"): 'auto', Param(parent='RandomForestRegressor_db8a367123f9', name='featuresCol', doc='features column name.'): 'features', Param(parent='RandomForestRegressor_db8a367123f9', name='impurity', doc='Criterion used for information gain calculation (case-insensitive). Supported options: variance'): 'variance', Param(parent='RandomForestRegressor_db8a367123f9', name='labelCol', doc='label column name.'): 'label', Param(parent='RandomForestRegressor_db8a367123f9', name='leafCol', doc='Leaf indices column name. Predicted leaf index of each instance in each tree by preorder.'): '', Param(parent='RandomForestRegressor_db8a367123f9', name='maxBins', doc='Max number of bins for discretizing continuous features.  Must be >=2 and >= number of categories for any categorical feature.'): 32, Param(parent='RandomForestRegressor_db8a367123f9', name='maxDepth', doc='Maximum depth of the tree. (>= 0) E.g., depth 0 means 1 leaf node; depth 1 means 1 internal node + 2 leaf nodes. Must be in range [0, 30].'): 15, Param(parent='RandomForestRegressor_db8a367123f9', name='maxMemoryInMB', doc='Maximum memory in MB allocated to histogram aggregation. If too small, then 1 node will be split per iteration, and its aggregates may exceed this size.'): 256, Param(parent='RandomForestRegressor_db8a367123f9', name='minInfoGain', doc='Minimum information gain for a split to be considered at a tree node.'): 0.0, Param(parent='RandomForestRegressor_db8a367123f9', name='minInstancesPerNode', doc='Minimum number of instances each child must have after split. If a split causes the left or right child to have fewer than minInstancesPerNode, the split will be discarded as invalid. Should be >= 1.'): 1, Param(parent='RandomForestRegressor_db8a367123f9', name='minWeightFractionPerNode', doc='Minimum fraction of the weighted sample count that each child must have after split. If a split causes the fraction of the total weight in the left or right child to be less than minWeightFractionPerNode, the split will be discarded as invalid. Should be in interval [0.0, 0.5).'): 0.0, Param(parent='RandomForestRegressor_db8a367123f9', name='numTrees', doc='Number of trees to train (>= 1).'): 30, Param(parent='RandomForestRegressor_db8a367123f9', name='predictionCol', doc='prediction column name.'): 'prediction', Param(parent='RandomForestRegressor_db8a367123f9', name='seed', doc='random seed.'): 42, Param(parent='RandomForestRegressor_db8a367123f9', name='subsamplingRate', doc='Fraction of the training data used for learning each decision tree, in range (0, 1].'): 1.0}\n",
      "30\n",
      "15\n",
      "(23,[0,1,2,3,4,5,6,7,8,9,10,11,12,13,14,15,16,17,18,19,20,21,22],[0.24458159229278456,0.007097683566040108,0.004916380856548898,0.1953841688472396,0.2519057850824264,0.21053670912792322,0.0013083966595366123,0.0006263901511446365,0.0006523409224923024,0.0007438110934763345,0.005358473455066928,0.004793800458104959,0.005428917051655166,0.0029421369384361787,0.005671656796838757,0.0037595887248057353,0.007730310973260223,0.004786185754008461,0.016153308934014884,0.004720763027209504,0.00866828399493047,0.006051521682778667,0.006181793609277566])\n"
     ]
    }
   ],
   "source": [
    "best_model = cv_model.bestModel\n",
    "best_rf = best_model.stages[-1] # accede a la última fase del pipeline que es el modelo classifier\n",
    "print(best_rf.extractParamMap())\n",
    "print(best_rf.getNumTrees)\n",
    "print(best_rf.getOrDefault('maxDepth'))\n",
    "print(best_rf.featureImportances)"
   ]
  },
  {
   "cell_type": "markdown",
   "metadata": {},
   "source": [
    "## Exportar modelo"
   ]
  },
  {
   "cell_type": "code",
   "execution_count": 127,
   "metadata": {},
   "outputs": [],
   "source": [
    "# pyspark crea un directorio donde guarda archivos y metadatos para reconstruir el modelo\n",
    "pipeline_model.write().overwrite().save('pipeline_spark')"
   ]
  },
  {
   "cell_type": "code",
   "execution_count": 128,
   "metadata": {},
   "outputs": [],
   "source": [
    "from pyspark.ml import PipelineModel\n",
    "\n",
    "# cargar el modelo\n",
    "loaded_pipeline = PipelineModel.load('pipeline_spark')"
   ]
  }
 ],
 "metadata": {
  "kernelspec": {
   "display_name": "Python 3 (ipykernel)",
   "language": "python",
   "name": "python3"
  },
  "language_info": {
   "codemirror_mode": {
    "name": "ipython",
    "version": 3
   },
   "file_extension": ".py",
   "mimetype": "text/x-python",
   "name": "python",
   "nbconvert_exporter": "python",
   "pygments_lexer": "ipython3",
   "version": "3.11.6"
  }
 },
 "nbformat": 4,
 "nbformat_minor": 2
}
