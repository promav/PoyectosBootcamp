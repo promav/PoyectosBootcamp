{
 "cells": [
  {
   "cell_type": "markdown",
   "metadata": {},
   "source": [
    "# MODULO 3\n",
    "\n",
    "## Carga de librerias comprobacion de versiones"
   ]
  },
  {
   "cell_type": "code",
   "execution_count": 73,
   "metadata": {},
   "outputs": [],
   "source": [
    "import pandas as pd\n",
    "import seaborn as sns\n",
    "import numpy as np\n",
    "from collections import Counter\n",
    "import matplotlib.pyplot as plt"
   ]
  },
  {
   "cell_type": "code",
   "execution_count": 74,
   "metadata": {},
   "outputs": [
    {
     "name": "stdout",
     "output_type": "stream",
     "text": [
      "Pandas: 2.2.3\n",
      "Seaborn: 0.13.2\n",
      "Numpy: 2.2.0\n"
     ]
    }
   ],
   "source": [
    "print(f\"Pandas: {pd.__version__}\")\n",
    "print(f\"Seaborn: {sns.__version__}\")\n",
    "print(f\"Numpy: {np.__version__}\")"
   ]
  },
  {
   "cell_type": "markdown",
   "metadata": {},
   "source": [
    "## Carga del DataFrame"
   ]
  },
  {
   "cell_type": "code",
   "execution_count": 75,
   "metadata": {},
   "outputs": [
    {
     "data": {
      "text/html": [
       "<div>\n",
       "<style scoped>\n",
       "    .dataframe tbody tr th:only-of-type {\n",
       "        vertical-align: middle;\n",
       "    }\n",
       "\n",
       "    .dataframe tbody tr th {\n",
       "        vertical-align: top;\n",
       "    }\n",
       "\n",
       "    .dataframe thead th {\n",
       "        text-align: right;\n",
       "    }\n",
       "</style>\n",
       "<table border=\"1\" class=\"dataframe\">\n",
       "  <thead>\n",
       "    <tr style=\"text-align: right;\">\n",
       "      <th></th>\n",
       "      <th>carat</th>\n",
       "      <th>cut</th>\n",
       "      <th>color</th>\n",
       "      <th>clarity</th>\n",
       "      <th>depth</th>\n",
       "      <th>table</th>\n",
       "      <th>price</th>\n",
       "      <th>x</th>\n",
       "      <th>y</th>\n",
       "      <th>z</th>\n",
       "    </tr>\n",
       "  </thead>\n",
       "  <tbody>\n",
       "    <tr>\n",
       "      <th>0</th>\n",
       "      <td>0.23</td>\n",
       "      <td>Ideal</td>\n",
       "      <td>E</td>\n",
       "      <td>SI2</td>\n",
       "      <td>61.5</td>\n",
       "      <td>55.0</td>\n",
       "      <td>326</td>\n",
       "      <td>3.95</td>\n",
       "      <td>3.98</td>\n",
       "      <td>2.43</td>\n",
       "    </tr>\n",
       "    <tr>\n",
       "      <th>1</th>\n",
       "      <td>0.21</td>\n",
       "      <td>Premium</td>\n",
       "      <td>E</td>\n",
       "      <td>SI1</td>\n",
       "      <td>59.8</td>\n",
       "      <td>61.0</td>\n",
       "      <td>326</td>\n",
       "      <td>3.89</td>\n",
       "      <td>3.84</td>\n",
       "      <td>2.31</td>\n",
       "    </tr>\n",
       "    <tr>\n",
       "      <th>2</th>\n",
       "      <td>0.23</td>\n",
       "      <td>Good</td>\n",
       "      <td>E</td>\n",
       "      <td>VS1</td>\n",
       "      <td>56.9</td>\n",
       "      <td>65.0</td>\n",
       "      <td>327</td>\n",
       "      <td>4.05</td>\n",
       "      <td>4.07</td>\n",
       "      <td>2.31</td>\n",
       "    </tr>\n",
       "    <tr>\n",
       "      <th>3</th>\n",
       "      <td>0.29</td>\n",
       "      <td>Premium</td>\n",
       "      <td>I</td>\n",
       "      <td>VS2</td>\n",
       "      <td>62.4</td>\n",
       "      <td>58.0</td>\n",
       "      <td>334</td>\n",
       "      <td>4.2</td>\n",
       "      <td>4.23</td>\n",
       "      <td>2.63</td>\n",
       "    </tr>\n",
       "    <tr>\n",
       "      <th>4</th>\n",
       "      <td>0.31</td>\n",
       "      <td>Good</td>\n",
       "      <td>J</td>\n",
       "      <td>SI2</td>\n",
       "      <td>63.3</td>\n",
       "      <td>58.0</td>\n",
       "      <td>335</td>\n",
       "      <td>4.34</td>\n",
       "      <td>4.35</td>\n",
       "      <td>2.75</td>\n",
       "    </tr>\n",
       "  </tbody>\n",
       "</table>\n",
       "</div>"
      ],
      "text/plain": [
       "   carat      cut color clarity  depth  table price     x     y     z\n",
       "0   0.23    Ideal     E     SI2   61.5   55.0   326  3.95  3.98  2.43\n",
       "1   0.21  Premium     E     SI1   59.8   61.0   326  3.89  3.84  2.31\n",
       "2   0.23     Good     E     VS1   56.9   65.0   327  4.05  4.07  2.31\n",
       "3   0.29  Premium     I     VS2   62.4   58.0   334   4.2  4.23  2.63\n",
       "4   0.31     Good     J     SI2   63.3   58.0   335  4.34  4.35  2.75"
      ]
     },
     "execution_count": 75,
     "metadata": {},
     "output_type": "execute_result"
    }
   ],
   "source": [
    "df = pd.read_csv(\"diamonds.csv\")\n",
    "df.head()"
   ]
  },
  {
   "cell_type": "markdown",
   "metadata": {},
   "source": [
    "## Analisis Previo"
   ]
  },
  {
   "cell_type": "code",
   "execution_count": 76,
   "metadata": {},
   "outputs": [
    {
     "name": "stdout",
     "output_type": "stream",
     "text": [
      "<class 'pandas.core.frame.DataFrame'>\n",
      "RangeIndex: 53940 entries, 0 to 53939\n",
      "Data columns (total 10 columns):\n",
      " #   Column   Non-Null Count  Dtype  \n",
      "---  ------   --------------  -----  \n",
      " 0   carat    53939 non-null  float64\n",
      " 1   cut      53937 non-null  object \n",
      " 2   color    53938 non-null  object \n",
      " 3   clarity  53938 non-null  object \n",
      " 4   depth    53940 non-null  float64\n",
      " 5   table    53938 non-null  float64\n",
      " 6   price    53938 non-null  object \n",
      " 7   x        53938 non-null  object \n",
      " 8   y        53939 non-null  float64\n",
      " 9   z        53939 non-null  float64\n",
      "dtypes: float64(5), object(5)\n",
      "memory usage: 4.1+ MB\n"
     ]
    }
   ],
   "source": [
    "df.info()"
   ]
  },
  {
   "cell_type": "markdown",
   "metadata": {},
   "source": [
    "## Comprobar si hay valores \"?\" sustituirlos por NaN y volver a comprobar.\n",
    "\n",
    "Lo sustituyo por NaN porque luego voy a cambiar los valores NaN por diferentes valores y para no hacer la misma operacion 2 veces"
   ]
  },
  {
   "cell_type": "code",
   "execution_count": 77,
   "metadata": {},
   "outputs": [
    {
     "data": {
      "text/plain": [
       "carat      False\n",
       "cut         True\n",
       "color       True\n",
       "clarity    False\n",
       "depth      False\n",
       "table      False\n",
       "price       True\n",
       "x           True\n",
       "y          False\n",
       "z          False\n",
       "dtype: bool"
      ]
     },
     "execution_count": 77,
     "metadata": {},
     "output_type": "execute_result"
    }
   ],
   "source": [
    "(df=='?').any()"
   ]
  },
  {
   "cell_type": "code",
   "execution_count": 78,
   "metadata": {},
   "outputs": [
    {
     "data": {
      "text/plain": [
       "carat      False\n",
       "cut        False\n",
       "color      False\n",
       "clarity    False\n",
       "depth      False\n",
       "table      False\n",
       "price      False\n",
       "x          False\n",
       "y          False\n",
       "z          False\n",
       "dtype: bool"
      ]
     },
     "execution_count": 78,
     "metadata": {},
     "output_type": "execute_result"
    }
   ],
   "source": [
    "df.replace('?', np.nan, inplace=True)\n",
    "(df=='?').any()"
   ]
  },
  {
   "cell_type": "markdown",
   "metadata": {},
   "source": [
    "Ya no hay valores '?' en mi DataFrame"
   ]
  },
  {
   "cell_type": "markdown",
   "metadata": {},
   "source": [
    "## Cambio de tipo:\n",
    " * ### 'price' y 'x' de odject a float64\n",
    " * ### object a category"
   ]
  },
  {
   "cell_type": "code",
   "execution_count": 79,
   "metadata": {},
   "outputs": [
    {
     "name": "stdout",
     "output_type": "stream",
     "text": [
      "<class 'pandas.core.frame.DataFrame'>\n",
      "RangeIndex: 53940 entries, 0 to 53939\n",
      "Data columns (total 10 columns):\n",
      " #   Column   Non-Null Count  Dtype   \n",
      "---  ------   --------------  -----   \n",
      " 0   carat    53939 non-null  float32 \n",
      " 1   cut      53936 non-null  category\n",
      " 2   color    53937 non-null  category\n",
      " 3   clarity  53938 non-null  category\n",
      " 4   depth    53940 non-null  float64 \n",
      " 5   table    53938 non-null  float64 \n",
      " 6   price    53937 non-null  float64 \n",
      " 7   x        53937 non-null  float64 \n",
      " 8   y        53939 non-null  float64 \n",
      " 9   z        53939 non-null  float64 \n",
      "dtypes: category(3), float32(1), float64(6)\n",
      "memory usage: 2.8 MB\n"
     ]
    }
   ],
   "source": [
    "df[['price', 'x']] = df[['price', 'x']].astype(float)\n",
    "df['carat'] = df['carat'].astype('float32')\n",
    "for col in df:\n",
    "    if df[col].dtype == object:\n",
    "        df[col]=df[col].astype('category')\n",
    "df.info()\n"
   ]
  },
  {
   "cell_type": "markdown",
   "metadata": {},
   "source": [
    "## Comprobar y rellenar Nulos"
   ]
  },
  {
   "cell_type": "code",
   "execution_count": 80,
   "metadata": {},
   "outputs": [
    {
     "name": "stdout",
     "output_type": "stream",
     "text": [
      "Media carat = 0.800000011920929\n",
      "Moda cut = Ideal\n",
      "Moda color = G\n",
      "Moda clarity = SI1\n",
      "Media depth = 61.75\n",
      "Media table = 57.46\n",
      "Media price = 3932.54\n",
      "Media x = 5.73\n",
      "Media y = 5.73\n",
      "Media z = 3.54\n"
     ]
    }
   ],
   "source": [
    "df.isna().sum()\n",
    "\n",
    "# Uso el print para comprobar que valores he añadido\n",
    "\n",
    "for col in df:\n",
    "    if df[col].dtype == 'category':\n",
    "        mode = Counter(df[col]).most_common()[0][0]\n",
    "        df[col]=df[col].fillna(mode)\n",
    "        print(f\"Moda {col} = {mode}\")\n",
    "    else:\n",
    "        mean = round(df[col].mean(), 2)\n",
    "        df[col]=df[col].fillna(mean)\n",
    "        print(f\"Media {col} = {mean}\")\n"
   ]
  },
  {
   "cell_type": "markdown",
   "metadata": {},
   "source": [
    "### Comprobamos que no hay nulos"
   ]
  },
  {
   "cell_type": "code",
   "execution_count": 81,
   "metadata": {},
   "outputs": [
    {
     "name": "stdout",
     "output_type": "stream",
     "text": [
      "<class 'pandas.core.frame.DataFrame'>\n",
      "RangeIndex: 53940 entries, 0 to 53939\n",
      "Data columns (total 10 columns):\n",
      " #   Column   Non-Null Count  Dtype   \n",
      "---  ------   --------------  -----   \n",
      " 0   carat    53940 non-null  float32 \n",
      " 1   cut      53940 non-null  category\n",
      " 2   color    53940 non-null  category\n",
      " 3   clarity  53940 non-null  category\n",
      " 4   depth    53940 non-null  float64 \n",
      " 5   table    53940 non-null  float64 \n",
      " 6   price    53940 non-null  float64 \n",
      " 7   x        53940 non-null  float64 \n",
      " 8   y        53940 non-null  float64 \n",
      " 9   z        53940 non-null  float64 \n",
      "dtypes: category(3), float32(1), float64(6)\n",
      "memory usage: 2.8 MB\n"
     ]
    }
   ],
   "source": [
    "df.info()"
   ]
  },
  {
   "cell_type": "code",
   "execution_count": 82,
   "metadata": {},
   "outputs": [
    {
     "data": {
      "text/plain": [
       "carat      0\n",
       "cut        0\n",
       "color      0\n",
       "clarity    0\n",
       "depth      0\n",
       "table      0\n",
       "price      0\n",
       "x          0\n",
       "y          0\n",
       "z          0\n",
       "dtype: int64"
      ]
     },
     "execution_count": 82,
     "metadata": {},
     "output_type": "execute_result"
    }
   ],
   "source": [
    "df.isnull().sum()"
   ]
  },
  {
   "cell_type": "markdown",
   "metadata": {},
   "source": [
    "Para poner price como int no puede tener nulos entonces lo pongo ahora"
   ]
  },
  {
   "cell_type": "code",
   "execution_count": 83,
   "metadata": {},
   "outputs": [
    {
     "name": "stdout",
     "output_type": "stream",
     "text": [
      "<class 'pandas.core.frame.DataFrame'>\n",
      "RangeIndex: 53940 entries, 0 to 53939\n",
      "Data columns (total 10 columns):\n",
      " #   Column   Non-Null Count  Dtype   \n",
      "---  ------   --------------  -----   \n",
      " 0   carat    53940 non-null  float32 \n",
      " 1   cut      53940 non-null  category\n",
      " 2   color    53940 non-null  category\n",
      " 3   clarity  53940 non-null  category\n",
      " 4   depth    53940 non-null  float64 \n",
      " 5   table    53940 non-null  float64 \n",
      " 6   price    53940 non-null  int32   \n",
      " 7   x        53940 non-null  float64 \n",
      " 8   y        53940 non-null  float64 \n",
      " 9   z        53940 non-null  float64 \n",
      "dtypes: category(3), float32(1), float64(5), int32(1)\n",
      "memory usage: 2.6 MB\n"
     ]
    }
   ],
   "source": [
    "df['price'] = df['price'].astype('int32')\n",
    "df.info()"
   ]
  },
  {
   "cell_type": "markdown",
   "metadata": {},
   "source": [
    "## Nueva Columna usando apply"
   ]
  },
  {
   "cell_type": "markdown",
   "metadata": {},
   "source": [
    "* ### price_iva"
   ]
  },
  {
   "cell_type": "code",
   "execution_count": 84,
   "metadata": {},
   "outputs": [
    {
     "data": {
      "text/html": [
       "<div>\n",
       "<style scoped>\n",
       "    .dataframe tbody tr th:only-of-type {\n",
       "        vertical-align: middle;\n",
       "    }\n",
       "\n",
       "    .dataframe tbody tr th {\n",
       "        vertical-align: top;\n",
       "    }\n",
       "\n",
       "    .dataframe thead th {\n",
       "        text-align: right;\n",
       "    }\n",
       "</style>\n",
       "<table border=\"1\" class=\"dataframe\">\n",
       "  <thead>\n",
       "    <tr style=\"text-align: right;\">\n",
       "      <th></th>\n",
       "      <th>carat</th>\n",
       "      <th>cut</th>\n",
       "      <th>color</th>\n",
       "      <th>clarity</th>\n",
       "      <th>depth</th>\n",
       "      <th>table</th>\n",
       "      <th>price</th>\n",
       "      <th>price_iva</th>\n",
       "      <th>x</th>\n",
       "      <th>y</th>\n",
       "      <th>z</th>\n",
       "    </tr>\n",
       "  </thead>\n",
       "  <tbody>\n",
       "    <tr>\n",
       "      <th>0</th>\n",
       "      <td>0.23</td>\n",
       "      <td>Ideal</td>\n",
       "      <td>E</td>\n",
       "      <td>SI2</td>\n",
       "      <td>61.5</td>\n",
       "      <td>55.0</td>\n",
       "      <td>326</td>\n",
       "      <td>394.46</td>\n",
       "      <td>3.95</td>\n",
       "      <td>3.98</td>\n",
       "      <td>2.43</td>\n",
       "    </tr>\n",
       "    <tr>\n",
       "      <th>1</th>\n",
       "      <td>0.21</td>\n",
       "      <td>Premium</td>\n",
       "      <td>E</td>\n",
       "      <td>SI1</td>\n",
       "      <td>59.8</td>\n",
       "      <td>61.0</td>\n",
       "      <td>326</td>\n",
       "      <td>394.46</td>\n",
       "      <td>3.89</td>\n",
       "      <td>3.84</td>\n",
       "      <td>2.31</td>\n",
       "    </tr>\n",
       "    <tr>\n",
       "      <th>2</th>\n",
       "      <td>0.23</td>\n",
       "      <td>Good</td>\n",
       "      <td>E</td>\n",
       "      <td>VS1</td>\n",
       "      <td>56.9</td>\n",
       "      <td>65.0</td>\n",
       "      <td>327</td>\n",
       "      <td>395.67</td>\n",
       "      <td>4.05</td>\n",
       "      <td>4.07</td>\n",
       "      <td>2.31</td>\n",
       "    </tr>\n",
       "    <tr>\n",
       "      <th>3</th>\n",
       "      <td>0.29</td>\n",
       "      <td>Premium</td>\n",
       "      <td>I</td>\n",
       "      <td>VS2</td>\n",
       "      <td>62.4</td>\n",
       "      <td>58.0</td>\n",
       "      <td>334</td>\n",
       "      <td>404.14</td>\n",
       "      <td>4.20</td>\n",
       "      <td>4.23</td>\n",
       "      <td>2.63</td>\n",
       "    </tr>\n",
       "    <tr>\n",
       "      <th>4</th>\n",
       "      <td>0.31</td>\n",
       "      <td>Good</td>\n",
       "      <td>J</td>\n",
       "      <td>SI2</td>\n",
       "      <td>63.3</td>\n",
       "      <td>58.0</td>\n",
       "      <td>335</td>\n",
       "      <td>405.35</td>\n",
       "      <td>4.34</td>\n",
       "      <td>4.35</td>\n",
       "      <td>2.75</td>\n",
       "    </tr>\n",
       "  </tbody>\n",
       "</table>\n",
       "</div>"
      ],
      "text/plain": [
       "   carat      cut color clarity  depth  table  price  price_iva     x     y  \\\n",
       "0   0.23    Ideal     E     SI2   61.5   55.0    326     394.46  3.95  3.98   \n",
       "1   0.21  Premium     E     SI1   59.8   61.0    326     394.46  3.89  3.84   \n",
       "2   0.23     Good     E     VS1   56.9   65.0    327     395.67  4.05  4.07   \n",
       "3   0.29  Premium     I     VS2   62.4   58.0    334     404.14  4.20  4.23   \n",
       "4   0.31     Good     J     SI2   63.3   58.0    335     405.35  4.34  4.35   \n",
       "\n",
       "      z  \n",
       "0  2.43  \n",
       "1  2.31  \n",
       "2  2.31  \n",
       "3  2.63  \n",
       "4  2.75  "
      ]
     },
     "execution_count": 84,
     "metadata": {},
     "output_type": "execute_result"
    }
   ],
   "source": [
    "df['price_iva'] = df['price'].apply(lambda x : 1.21*x)\n",
    "cols = df.columns.to_list()\n",
    "cols.remove('price_iva')\n",
    "cols.insert(cols.index('price')+1, 'price_iva')\n",
    "df = df[cols]\n",
    "df.head()"
   ]
  },
  {
   "cell_type": "markdown",
   "metadata": {},
   "source": [
    "* ### volume"
   ]
  },
  {
   "cell_type": "code",
   "execution_count": 85,
   "metadata": {},
   "outputs": [
    {
     "data": {
      "text/html": [
       "<div>\n",
       "<style scoped>\n",
       "    .dataframe tbody tr th:only-of-type {\n",
       "        vertical-align: middle;\n",
       "    }\n",
       "\n",
       "    .dataframe tbody tr th {\n",
       "        vertical-align: top;\n",
       "    }\n",
       "\n",
       "    .dataframe thead th {\n",
       "        text-align: right;\n",
       "    }\n",
       "</style>\n",
       "<table border=\"1\" class=\"dataframe\">\n",
       "  <thead>\n",
       "    <tr style=\"text-align: right;\">\n",
       "      <th></th>\n",
       "      <th>carat</th>\n",
       "      <th>cut</th>\n",
       "      <th>color</th>\n",
       "      <th>clarity</th>\n",
       "      <th>depth</th>\n",
       "      <th>table</th>\n",
       "      <th>price</th>\n",
       "      <th>price_iva</th>\n",
       "      <th>x</th>\n",
       "      <th>y</th>\n",
       "      <th>z</th>\n",
       "      <th>volume</th>\n",
       "    </tr>\n",
       "  </thead>\n",
       "  <tbody>\n",
       "    <tr>\n",
       "      <th>0</th>\n",
       "      <td>0.23</td>\n",
       "      <td>Ideal</td>\n",
       "      <td>E</td>\n",
       "      <td>SI2</td>\n",
       "      <td>61.5</td>\n",
       "      <td>55.0</td>\n",
       "      <td>326</td>\n",
       "      <td>394.46</td>\n",
       "      <td>3.95</td>\n",
       "      <td>3.98</td>\n",
       "      <td>2.43</td>\n",
       "      <td>38.20</td>\n",
       "    </tr>\n",
       "    <tr>\n",
       "      <th>1</th>\n",
       "      <td>0.21</td>\n",
       "      <td>Premium</td>\n",
       "      <td>E</td>\n",
       "      <td>SI1</td>\n",
       "      <td>59.8</td>\n",
       "      <td>61.0</td>\n",
       "      <td>326</td>\n",
       "      <td>394.46</td>\n",
       "      <td>3.89</td>\n",
       "      <td>3.84</td>\n",
       "      <td>2.31</td>\n",
       "      <td>34.51</td>\n",
       "    </tr>\n",
       "    <tr>\n",
       "      <th>2</th>\n",
       "      <td>0.23</td>\n",
       "      <td>Good</td>\n",
       "      <td>E</td>\n",
       "      <td>VS1</td>\n",
       "      <td>56.9</td>\n",
       "      <td>65.0</td>\n",
       "      <td>327</td>\n",
       "      <td>395.67</td>\n",
       "      <td>4.05</td>\n",
       "      <td>4.07</td>\n",
       "      <td>2.31</td>\n",
       "      <td>38.08</td>\n",
       "    </tr>\n",
       "    <tr>\n",
       "      <th>3</th>\n",
       "      <td>0.29</td>\n",
       "      <td>Premium</td>\n",
       "      <td>I</td>\n",
       "      <td>VS2</td>\n",
       "      <td>62.4</td>\n",
       "      <td>58.0</td>\n",
       "      <td>334</td>\n",
       "      <td>404.14</td>\n",
       "      <td>4.20</td>\n",
       "      <td>4.23</td>\n",
       "      <td>2.63</td>\n",
       "      <td>46.72</td>\n",
       "    </tr>\n",
       "    <tr>\n",
       "      <th>4</th>\n",
       "      <td>0.31</td>\n",
       "      <td>Good</td>\n",
       "      <td>J</td>\n",
       "      <td>SI2</td>\n",
       "      <td>63.3</td>\n",
       "      <td>58.0</td>\n",
       "      <td>335</td>\n",
       "      <td>405.35</td>\n",
       "      <td>4.34</td>\n",
       "      <td>4.35</td>\n",
       "      <td>2.75</td>\n",
       "      <td>51.92</td>\n",
       "    </tr>\n",
       "  </tbody>\n",
       "</table>\n",
       "</div>"
      ],
      "text/plain": [
       "   carat      cut color clarity  depth  table  price  price_iva     x     y  \\\n",
       "0   0.23    Ideal     E     SI2   61.5   55.0    326     394.46  3.95  3.98   \n",
       "1   0.21  Premium     E     SI1   59.8   61.0    326     394.46  3.89  3.84   \n",
       "2   0.23     Good     E     VS1   56.9   65.0    327     395.67  4.05  4.07   \n",
       "3   0.29  Premium     I     VS2   62.4   58.0    334     404.14  4.20  4.23   \n",
       "4   0.31     Good     J     SI2   63.3   58.0    335     405.35  4.34  4.35   \n",
       "\n",
       "      z  volume  \n",
       "0  2.43   38.20  \n",
       "1  2.31   34.51  \n",
       "2  2.31   38.08  \n",
       "3  2.63   46.72  \n",
       "4  2.75   51.92  "
      ]
     },
     "execution_count": 85,
     "metadata": {},
     "output_type": "execute_result"
    }
   ],
   "source": [
    "def volume(row):\n",
    "    return round(row['x']*row['y']*row['z'], 2)\n",
    "df['volume'] = df.apply(volume, axis=1)\n",
    "df.head()"
   ]
  },
  {
   "cell_type": "markdown",
   "metadata": {},
   "source": [
    "### Encoding de la columna cut\n",
    "\n",
    "El encoding con get_dummies lo hago abajo en la grafica de correlacion para que no me cree un df con demasiadas."
   ]
  },
  {
   "cell_type": "code",
   "execution_count": 86,
   "metadata": {},
   "outputs": [],
   "source": [
    "#Encoding de cut\n",
    "df['int_cut']=df['cut'].map({'Fair':1, 'Good':2, 'Very Good':3, 'Premium':4, 'Ideal':5})\n",
    "\n",
    "cols = df.columns.to_list()\n",
    "cols.remove('int_cut')\n",
    "cols.insert(cols.index('cut')+1, 'int_cut')\n",
    "df=df[cols]"
   ]
  },
  {
   "cell_type": "markdown",
   "metadata": {},
   "source": [
    "## Ordenar por 2 columnas Cut y Price"
   ]
  },
  {
   "cell_type": "code",
   "execution_count": 87,
   "metadata": {},
   "outputs": [
    {
     "data": {
      "text/html": [
       "<div>\n",
       "<style scoped>\n",
       "    .dataframe tbody tr th:only-of-type {\n",
       "        vertical-align: middle;\n",
       "    }\n",
       "\n",
       "    .dataframe tbody tr th {\n",
       "        vertical-align: top;\n",
       "    }\n",
       "\n",
       "    .dataframe thead th {\n",
       "        text-align: right;\n",
       "    }\n",
       "</style>\n",
       "<table border=\"1\" class=\"dataframe\">\n",
       "  <thead>\n",
       "    <tr style=\"text-align: right;\">\n",
       "      <th></th>\n",
       "      <th>carat</th>\n",
       "      <th>cut</th>\n",
       "      <th>int_cut</th>\n",
       "      <th>color</th>\n",
       "      <th>clarity</th>\n",
       "      <th>depth</th>\n",
       "      <th>table</th>\n",
       "      <th>price</th>\n",
       "      <th>price_iva</th>\n",
       "      <th>x</th>\n",
       "      <th>y</th>\n",
       "      <th>z</th>\n",
       "      <th>volume</th>\n",
       "    </tr>\n",
       "  </thead>\n",
       "  <tbody>\n",
       "    <tr>\n",
       "      <th>0</th>\n",
       "      <td>2.01</td>\n",
       "      <td>Fair</td>\n",
       "      <td>1</td>\n",
       "      <td>G</td>\n",
       "      <td>SI1</td>\n",
       "      <td>70.6</td>\n",
       "      <td>64.0</td>\n",
       "      <td>18574</td>\n",
       "      <td>22474.54</td>\n",
       "      <td>7.43</td>\n",
       "      <td>6.64</td>\n",
       "      <td>4.69</td>\n",
       "      <td>231.38</td>\n",
       "    </tr>\n",
       "    <tr>\n",
       "      <th>1</th>\n",
       "      <td>2.02</td>\n",
       "      <td>Fair</td>\n",
       "      <td>1</td>\n",
       "      <td>H</td>\n",
       "      <td>VS2</td>\n",
       "      <td>64.5</td>\n",
       "      <td>57.0</td>\n",
       "      <td>18565</td>\n",
       "      <td>22463.65</td>\n",
       "      <td>8.00</td>\n",
       "      <td>7.95</td>\n",
       "      <td>5.14</td>\n",
       "      <td>326.90</td>\n",
       "    </tr>\n",
       "    <tr>\n",
       "      <th>2</th>\n",
       "      <td>4.50</td>\n",
       "      <td>Fair</td>\n",
       "      <td>1</td>\n",
       "      <td>J</td>\n",
       "      <td>I1</td>\n",
       "      <td>65.8</td>\n",
       "      <td>58.0</td>\n",
       "      <td>18531</td>\n",
       "      <td>22422.51</td>\n",
       "      <td>10.23</td>\n",
       "      <td>10.16</td>\n",
       "      <td>6.72</td>\n",
       "      <td>698.46</td>\n",
       "    </tr>\n",
       "    <tr>\n",
       "      <th>3</th>\n",
       "      <td>2.00</td>\n",
       "      <td>Fair</td>\n",
       "      <td>1</td>\n",
       "      <td>G</td>\n",
       "      <td>VS2</td>\n",
       "      <td>67.6</td>\n",
       "      <td>58.0</td>\n",
       "      <td>18515</td>\n",
       "      <td>22403.15</td>\n",
       "      <td>7.65</td>\n",
       "      <td>7.61</td>\n",
       "      <td>5.16</td>\n",
       "      <td>300.40</td>\n",
       "    </tr>\n",
       "    <tr>\n",
       "      <th>4</th>\n",
       "      <td>2.51</td>\n",
       "      <td>Fair</td>\n",
       "      <td>1</td>\n",
       "      <td>H</td>\n",
       "      <td>SI2</td>\n",
       "      <td>64.7</td>\n",
       "      <td>57.0</td>\n",
       "      <td>18308</td>\n",
       "      <td>22152.68</td>\n",
       "      <td>8.44</td>\n",
       "      <td>8.50</td>\n",
       "      <td>5.48</td>\n",
       "      <td>393.14</td>\n",
       "    </tr>\n",
       "  </tbody>\n",
       "</table>\n",
       "</div>"
      ],
      "text/plain": [
       "   carat   cut int_cut color clarity  depth  table  price  price_iva      x  \\\n",
       "0   2.01  Fair       1     G     SI1   70.6   64.0  18574   22474.54   7.43   \n",
       "1   2.02  Fair       1     H     VS2   64.5   57.0  18565   22463.65   8.00   \n",
       "2   4.50  Fair       1     J      I1   65.8   58.0  18531   22422.51  10.23   \n",
       "3   2.00  Fair       1     G     VS2   67.6   58.0  18515   22403.15   7.65   \n",
       "4   2.51  Fair       1     H     SI2   64.7   57.0  18308   22152.68   8.44   \n",
       "\n",
       "       y     z  volume  \n",
       "0   6.64  4.69  231.38  \n",
       "1   7.95  5.14  326.90  \n",
       "2  10.16  6.72  698.46  \n",
       "3   7.61  5.16  300.40  \n",
       "4   8.50  5.48  393.14  "
      ]
     },
     "execution_count": 87,
     "metadata": {},
     "output_type": "execute_result"
    }
   ],
   "source": [
    "\n",
    "df.sort_values(['int_cut', 'price'], ascending=[True, False], inplace=True)\n",
    "df.reset_index(drop=True, inplace=True)\n",
    "df.head()"
   ]
  },
  {
   "cell_type": "markdown",
   "metadata": {},
   "source": [
    "## Groupby"
   ]
  },
  {
   "cell_type": "code",
   "execution_count": 88,
   "metadata": {},
   "outputs": [
    {
     "data": {
      "text/plain": [
       "Index(['carat', 'cut', 'int_cut', 'color', 'clarity', 'depth', 'table',\n",
       "       'price', 'price_iva', 'x', 'y', 'z', 'volume'],\n",
       "      dtype='object')"
      ]
     },
     "execution_count": 88,
     "metadata": {},
     "output_type": "execute_result"
    }
   ],
   "source": [
    "df.columns"
   ]
  },
  {
   "cell_type": "markdown",
   "metadata": {},
   "source": [
    "* ### cut"
   ]
  },
  {
   "cell_type": "code",
   "execution_count": 89,
   "metadata": {},
   "outputs": [
    {
     "name": "stderr",
     "output_type": "stream",
     "text": [
      "C:\\Users\\p-rom\\AppData\\Local\\Temp\\ipykernel_6280\\4004846623.py:1: FutureWarning: The default of observed=False is deprecated and will be changed to True in a future version of pandas. Pass observed=False to retain current behavior or observed=True to adopt the future default and silence this warning.\n",
      "  df.groupby('cut')[['carat', 'depth', 'table', 'price']].agg(['mean', 'max', 'min'])\n"
     ]
    },
    {
     "data": {
      "text/html": [
       "<div>\n",
       "<style scoped>\n",
       "    .dataframe tbody tr th:only-of-type {\n",
       "        vertical-align: middle;\n",
       "    }\n",
       "\n",
       "    .dataframe tbody tr th {\n",
       "        vertical-align: top;\n",
       "    }\n",
       "\n",
       "    .dataframe thead tr th {\n",
       "        text-align: left;\n",
       "    }\n",
       "\n",
       "    .dataframe thead tr:last-of-type th {\n",
       "        text-align: right;\n",
       "    }\n",
       "</style>\n",
       "<table border=\"1\" class=\"dataframe\">\n",
       "  <thead>\n",
       "    <tr>\n",
       "      <th></th>\n",
       "      <th colspan=\"3\" halign=\"left\">carat</th>\n",
       "      <th colspan=\"3\" halign=\"left\">depth</th>\n",
       "      <th colspan=\"3\" halign=\"left\">table</th>\n",
       "      <th colspan=\"3\" halign=\"left\">price</th>\n",
       "    </tr>\n",
       "    <tr>\n",
       "      <th></th>\n",
       "      <th>mean</th>\n",
       "      <th>max</th>\n",
       "      <th>min</th>\n",
       "      <th>mean</th>\n",
       "      <th>max</th>\n",
       "      <th>min</th>\n",
       "      <th>mean</th>\n",
       "      <th>max</th>\n",
       "      <th>min</th>\n",
       "      <th>mean</th>\n",
       "      <th>max</th>\n",
       "      <th>min</th>\n",
       "    </tr>\n",
       "    <tr>\n",
       "      <th>cut</th>\n",
       "      <th></th>\n",
       "      <th></th>\n",
       "      <th></th>\n",
       "      <th></th>\n",
       "      <th></th>\n",
       "      <th></th>\n",
       "      <th></th>\n",
       "      <th></th>\n",
       "      <th></th>\n",
       "      <th></th>\n",
       "      <th></th>\n",
       "      <th></th>\n",
       "    </tr>\n",
       "  </thead>\n",
       "  <tbody>\n",
       "    <tr>\n",
       "      <th>Fair</th>\n",
       "      <td>1.046137</td>\n",
       "      <td>5.01</td>\n",
       "      <td>0.22</td>\n",
       "      <td>64.041677</td>\n",
       "      <td>79.0</td>\n",
       "      <td>43.0</td>\n",
       "      <td>59.053789</td>\n",
       "      <td>95.0</td>\n",
       "      <td>49.0</td>\n",
       "      <td>4358.757764</td>\n",
       "      <td>18574</td>\n",
       "      <td>337</td>\n",
       "    </tr>\n",
       "    <tr>\n",
       "      <th>Good</th>\n",
       "      <td>0.849185</td>\n",
       "      <td>3.01</td>\n",
       "      <td>0.23</td>\n",
       "      <td>62.365879</td>\n",
       "      <td>67.0</td>\n",
       "      <td>54.3</td>\n",
       "      <td>58.694639</td>\n",
       "      <td>66.0</td>\n",
       "      <td>51.0</td>\n",
       "      <td>3929.241337</td>\n",
       "      <td>18788</td>\n",
       "      <td>327</td>\n",
       "    </tr>\n",
       "    <tr>\n",
       "      <th>Ideal</th>\n",
       "      <td>0.702888</td>\n",
       "      <td>3.50</td>\n",
       "      <td>0.20</td>\n",
       "      <td>61.709446</td>\n",
       "      <td>66.7</td>\n",
       "      <td>43.0</td>\n",
       "      <td>55.951951</td>\n",
       "      <td>63.0</td>\n",
       "      <td>43.0</td>\n",
       "      <td>3458.137893</td>\n",
       "      <td>18806</td>\n",
       "      <td>326</td>\n",
       "    </tr>\n",
       "    <tr>\n",
       "      <th>Premium</th>\n",
       "      <td>0.891981</td>\n",
       "      <td>4.01</td>\n",
       "      <td>0.20</td>\n",
       "      <td>61.264673</td>\n",
       "      <td>63.0</td>\n",
       "      <td>58.0</td>\n",
       "      <td>58.745944</td>\n",
       "      <td>62.0</td>\n",
       "      <td>51.0</td>\n",
       "      <td>4584.257704</td>\n",
       "      <td>18823</td>\n",
       "      <td>326</td>\n",
       "    </tr>\n",
       "    <tr>\n",
       "      <th>Very Good</th>\n",
       "      <td>0.806307</td>\n",
       "      <td>4.00</td>\n",
       "      <td>0.20</td>\n",
       "      <td>61.818212</td>\n",
       "      <td>64.9</td>\n",
       "      <td>56.8</td>\n",
       "      <td>57.955977</td>\n",
       "      <td>66.0</td>\n",
       "      <td>44.0</td>\n",
       "      <td>3979.489570</td>\n",
       "      <td>18818</td>\n",
       "      <td>336</td>\n",
       "    </tr>\n",
       "  </tbody>\n",
       "</table>\n",
       "</div>"
      ],
      "text/plain": [
       "              carat                  depth                  table              \\\n",
       "               mean   max   min       mean   max   min       mean   max   min   \n",
       "cut                                                                             \n",
       "Fair       1.046137  5.01  0.22  64.041677  79.0  43.0  59.053789  95.0  49.0   \n",
       "Good       0.849185  3.01  0.23  62.365879  67.0  54.3  58.694639  66.0  51.0   \n",
       "Ideal      0.702888  3.50  0.20  61.709446  66.7  43.0  55.951951  63.0  43.0   \n",
       "Premium    0.891981  4.01  0.20  61.264673  63.0  58.0  58.745944  62.0  51.0   \n",
       "Very Good  0.806307  4.00  0.20  61.818212  64.9  56.8  57.955977  66.0  44.0   \n",
       "\n",
       "                 price              \n",
       "                  mean    max  min  \n",
       "cut                                 \n",
       "Fair       4358.757764  18574  337  \n",
       "Good       3929.241337  18788  327  \n",
       "Ideal      3458.137893  18806  326  \n",
       "Premium    4584.257704  18823  326  \n",
       "Very Good  3979.489570  18818  336  "
      ]
     },
     "execution_count": 89,
     "metadata": {},
     "output_type": "execute_result"
    }
   ],
   "source": [
    "df.groupby('cut')[['carat', 'depth', 'table', 'price']].agg(['mean', 'max', 'min'])\n"
   ]
  },
  {
   "cell_type": "markdown",
   "metadata": {},
   "source": [
    "* ### color"
   ]
  },
  {
   "cell_type": "code",
   "execution_count": 90,
   "metadata": {},
   "outputs": [
    {
     "name": "stderr",
     "output_type": "stream",
     "text": [
      "C:\\Users\\p-rom\\AppData\\Local\\Temp\\ipykernel_6280\\4011007590.py:1: FutureWarning: The default of observed=False is deprecated and will be changed to True in a future version of pandas. Pass observed=False to retain current behavior or observed=True to adopt the future default and silence this warning.\n",
      "  df.groupby('color')[['carat', 'depth', 'table', 'price']].agg(['mean', 'max', 'min'])\n"
     ]
    },
    {
     "data": {
      "text/html": [
       "<div>\n",
       "<style scoped>\n",
       "    .dataframe tbody tr th:only-of-type {\n",
       "        vertical-align: middle;\n",
       "    }\n",
       "\n",
       "    .dataframe tbody tr th {\n",
       "        vertical-align: top;\n",
       "    }\n",
       "\n",
       "    .dataframe thead tr th {\n",
       "        text-align: left;\n",
       "    }\n",
       "\n",
       "    .dataframe thead tr:last-of-type th {\n",
       "        text-align: right;\n",
       "    }\n",
       "</style>\n",
       "<table border=\"1\" class=\"dataframe\">\n",
       "  <thead>\n",
       "    <tr>\n",
       "      <th></th>\n",
       "      <th colspan=\"3\" halign=\"left\">carat</th>\n",
       "      <th colspan=\"3\" halign=\"left\">depth</th>\n",
       "      <th colspan=\"3\" halign=\"left\">table</th>\n",
       "      <th colspan=\"3\" halign=\"left\">price</th>\n",
       "    </tr>\n",
       "    <tr>\n",
       "      <th></th>\n",
       "      <th>mean</th>\n",
       "      <th>max</th>\n",
       "      <th>min</th>\n",
       "      <th>mean</th>\n",
       "      <th>max</th>\n",
       "      <th>min</th>\n",
       "      <th>mean</th>\n",
       "      <th>max</th>\n",
       "      <th>min</th>\n",
       "      <th>mean</th>\n",
       "      <th>max</th>\n",
       "      <th>min</th>\n",
       "    </tr>\n",
       "    <tr>\n",
       "      <th>color</th>\n",
       "      <th></th>\n",
       "      <th></th>\n",
       "      <th></th>\n",
       "      <th></th>\n",
       "      <th></th>\n",
       "      <th></th>\n",
       "      <th></th>\n",
       "      <th></th>\n",
       "      <th></th>\n",
       "      <th></th>\n",
       "      <th></th>\n",
       "      <th></th>\n",
       "    </tr>\n",
       "  </thead>\n",
       "  <tbody>\n",
       "    <tr>\n",
       "      <th>D</th>\n",
       "      <td>0.657833</td>\n",
       "      <td>3.40</td>\n",
       "      <td>0.20</td>\n",
       "      <td>61.698110</td>\n",
       "      <td>71.6</td>\n",
       "      <td>52.2</td>\n",
       "      <td>57.404945</td>\n",
       "      <td>73.0</td>\n",
       "      <td>52.0</td>\n",
       "      <td>3170.275908</td>\n",
       "      <td>18693</td>\n",
       "      <td>357</td>\n",
       "    </tr>\n",
       "    <tr>\n",
       "      <th>E</th>\n",
       "      <td>0.657867</td>\n",
       "      <td>3.05</td>\n",
       "      <td>0.20</td>\n",
       "      <td>61.662090</td>\n",
       "      <td>79.0</td>\n",
       "      <td>51.0</td>\n",
       "      <td>57.491201</td>\n",
       "      <td>73.0</td>\n",
       "      <td>44.0</td>\n",
       "      <td>3076.752475</td>\n",
       "      <td>18731</td>\n",
       "      <td>326</td>\n",
       "    </tr>\n",
       "    <tr>\n",
       "      <th>F</th>\n",
       "      <td>0.736538</td>\n",
       "      <td>3.01</td>\n",
       "      <td>0.20</td>\n",
       "      <td>61.694582</td>\n",
       "      <td>71.0</td>\n",
       "      <td>52.3</td>\n",
       "      <td>57.433536</td>\n",
       "      <td>95.0</td>\n",
       "      <td>50.0</td>\n",
       "      <td>3723.447914</td>\n",
       "      <td>18791</td>\n",
       "      <td>342</td>\n",
       "    </tr>\n",
       "    <tr>\n",
       "      <th>G</th>\n",
       "      <td>0.771326</td>\n",
       "      <td>3.01</td>\n",
       "      <td>0.23</td>\n",
       "      <td>61.757137</td>\n",
       "      <td>72.9</td>\n",
       "      <td>43.0</td>\n",
       "      <td>57.288401</td>\n",
       "      <td>76.0</td>\n",
       "      <td>52.0</td>\n",
       "      <td>4000.080220</td>\n",
       "      <td>18818</td>\n",
       "      <td>354</td>\n",
       "    </tr>\n",
       "    <tr>\n",
       "      <th>H</th>\n",
       "      <td>0.911799</td>\n",
       "      <td>4.13</td>\n",
       "      <td>0.23</td>\n",
       "      <td>61.836850</td>\n",
       "      <td>71.8</td>\n",
       "      <td>52.7</td>\n",
       "      <td>57.517811</td>\n",
       "      <td>73.0</td>\n",
       "      <td>50.0</td>\n",
       "      <td>4486.891859</td>\n",
       "      <td>18803</td>\n",
       "      <td>337</td>\n",
       "    </tr>\n",
       "    <tr>\n",
       "      <th>I</th>\n",
       "      <td>1.026689</td>\n",
       "      <td>4.01</td>\n",
       "      <td>0.23</td>\n",
       "      <td>61.846357</td>\n",
       "      <td>71.3</td>\n",
       "      <td>50.8</td>\n",
       "      <td>57.577001</td>\n",
       "      <td>70.0</td>\n",
       "      <td>43.0</td>\n",
       "      <td>5089.202361</td>\n",
       "      <td>18823</td>\n",
       "      <td>334</td>\n",
       "    </tr>\n",
       "    <tr>\n",
       "      <th>J</th>\n",
       "      <td>1.162137</td>\n",
       "      <td>5.01</td>\n",
       "      <td>0.23</td>\n",
       "      <td>61.887215</td>\n",
       "      <td>73.6</td>\n",
       "      <td>43.0</td>\n",
       "      <td>57.812393</td>\n",
       "      <td>68.0</td>\n",
       "      <td>51.6</td>\n",
       "      <td>5323.818020</td>\n",
       "      <td>18710</td>\n",
       "      <td>335</td>\n",
       "    </tr>\n",
       "  </tbody>\n",
       "</table>\n",
       "</div>"
      ],
      "text/plain": [
       "          carat                  depth                  table              \\\n",
       "           mean   max   min       mean   max   min       mean   max   min   \n",
       "color                                                                       \n",
       "D      0.657833  3.40  0.20  61.698110  71.6  52.2  57.404945  73.0  52.0   \n",
       "E      0.657867  3.05  0.20  61.662090  79.0  51.0  57.491201  73.0  44.0   \n",
       "F      0.736538  3.01  0.20  61.694582  71.0  52.3  57.433536  95.0  50.0   \n",
       "G      0.771326  3.01  0.23  61.757137  72.9  43.0  57.288401  76.0  52.0   \n",
       "H      0.911799  4.13  0.23  61.836850  71.8  52.7  57.517811  73.0  50.0   \n",
       "I      1.026689  4.01  0.23  61.846357  71.3  50.8  57.577001  70.0  43.0   \n",
       "J      1.162137  5.01  0.23  61.887215  73.6  43.0  57.812393  68.0  51.6   \n",
       "\n",
       "             price              \n",
       "              mean    max  min  \n",
       "color                           \n",
       "D      3170.275908  18693  357  \n",
       "E      3076.752475  18731  326  \n",
       "F      3723.447914  18791  342  \n",
       "G      4000.080220  18818  354  \n",
       "H      4486.891859  18803  337  \n",
       "I      5089.202361  18823  334  \n",
       "J      5323.818020  18710  335  "
      ]
     },
     "execution_count": 90,
     "metadata": {},
     "output_type": "execute_result"
    }
   ],
   "source": [
    "df.groupby('color')[['carat', 'depth', 'table', 'price']].agg(['mean', 'max', 'min'])"
   ]
  },
  {
   "cell_type": "markdown",
   "metadata": {},
   "source": [
    "* ### clarity"
   ]
  },
  {
   "cell_type": "code",
   "execution_count": 91,
   "metadata": {},
   "outputs": [
    {
     "name": "stderr",
     "output_type": "stream",
     "text": [
      "C:\\Users\\p-rom\\AppData\\Local\\Temp\\ipykernel_6280\\3097394055.py:1: FutureWarning: The default of observed=False is deprecated and will be changed to True in a future version of pandas. Pass observed=False to retain current behavior or observed=True to adopt the future default and silence this warning.\n",
      "  df.groupby('clarity')[['carat', 'depth', 'table', 'price']].agg(['mean', 'max', 'min'])\n"
     ]
    },
    {
     "data": {
      "text/html": [
       "<div>\n",
       "<style scoped>\n",
       "    .dataframe tbody tr th:only-of-type {\n",
       "        vertical-align: middle;\n",
       "    }\n",
       "\n",
       "    .dataframe tbody tr th {\n",
       "        vertical-align: top;\n",
       "    }\n",
       "\n",
       "    .dataframe thead tr th {\n",
       "        text-align: left;\n",
       "    }\n",
       "\n",
       "    .dataframe thead tr:last-of-type th {\n",
       "        text-align: right;\n",
       "    }\n",
       "</style>\n",
       "<table border=\"1\" class=\"dataframe\">\n",
       "  <thead>\n",
       "    <tr>\n",
       "      <th></th>\n",
       "      <th colspan=\"3\" halign=\"left\">carat</th>\n",
       "      <th colspan=\"3\" halign=\"left\">depth</th>\n",
       "      <th colspan=\"3\" halign=\"left\">table</th>\n",
       "      <th colspan=\"3\" halign=\"left\">price</th>\n",
       "    </tr>\n",
       "    <tr>\n",
       "      <th></th>\n",
       "      <th>mean</th>\n",
       "      <th>max</th>\n",
       "      <th>min</th>\n",
       "      <th>mean</th>\n",
       "      <th>max</th>\n",
       "      <th>min</th>\n",
       "      <th>mean</th>\n",
       "      <th>max</th>\n",
       "      <th>min</th>\n",
       "      <th>mean</th>\n",
       "      <th>max</th>\n",
       "      <th>min</th>\n",
       "    </tr>\n",
       "    <tr>\n",
       "      <th>clarity</th>\n",
       "      <th></th>\n",
       "      <th></th>\n",
       "      <th></th>\n",
       "      <th></th>\n",
       "      <th></th>\n",
       "      <th></th>\n",
       "      <th></th>\n",
       "      <th></th>\n",
       "      <th></th>\n",
       "      <th></th>\n",
       "      <th></th>\n",
       "      <th></th>\n",
       "    </tr>\n",
       "  </thead>\n",
       "  <tbody>\n",
       "    <tr>\n",
       "      <th>I1</th>\n",
       "      <td>1.283846</td>\n",
       "      <td>5.01</td>\n",
       "      <td>0.30</td>\n",
       "      <td>62.734278</td>\n",
       "      <td>78.2</td>\n",
       "      <td>55.6</td>\n",
       "      <td>58.303779</td>\n",
       "      <td>67.0</td>\n",
       "      <td>52.0</td>\n",
       "      <td>3924.168691</td>\n",
       "      <td>18531</td>\n",
       "      <td>345</td>\n",
       "    </tr>\n",
       "    <tr>\n",
       "      <th>IF</th>\n",
       "      <td>0.505123</td>\n",
       "      <td>2.29</td>\n",
       "      <td>0.23</td>\n",
       "      <td>61.510615</td>\n",
       "      <td>65.6</td>\n",
       "      <td>52.3</td>\n",
       "      <td>56.507207</td>\n",
       "      <td>65.0</td>\n",
       "      <td>52.0</td>\n",
       "      <td>2864.839106</td>\n",
       "      <td>18806</td>\n",
       "      <td>369</td>\n",
       "    </tr>\n",
       "    <tr>\n",
       "      <th>SI1</th>\n",
       "      <td>0.850533</td>\n",
       "      <td>2.57</td>\n",
       "      <td>0.21</td>\n",
       "      <td>61.853249</td>\n",
       "      <td>72.9</td>\n",
       "      <td>43.0</td>\n",
       "      <td>57.662475</td>\n",
       "      <td>95.0</td>\n",
       "      <td>49.0</td>\n",
       "      <td>3995.232035</td>\n",
       "      <td>18818</td>\n",
       "      <td>326</td>\n",
       "    </tr>\n",
       "    <tr>\n",
       "      <th>SI2</th>\n",
       "      <td>1.077649</td>\n",
       "      <td>3.04</td>\n",
       "      <td>0.20</td>\n",
       "      <td>61.772167</td>\n",
       "      <td>72.2</td>\n",
       "      <td>53.1</td>\n",
       "      <td>57.927181</td>\n",
       "      <td>79.0</td>\n",
       "      <td>50.1</td>\n",
       "      <td>5063.028606</td>\n",
       "      <td>18804</td>\n",
       "      <td>326</td>\n",
       "    </tr>\n",
       "    <tr>\n",
       "      <th>VS1</th>\n",
       "      <td>0.727125</td>\n",
       "      <td>2.59</td>\n",
       "      <td>0.23</td>\n",
       "      <td>61.667075</td>\n",
       "      <td>71.8</td>\n",
       "      <td>50.8</td>\n",
       "      <td>57.314945</td>\n",
       "      <td>73.0</td>\n",
       "      <td>43.0</td>\n",
       "      <td>3839.211873</td>\n",
       "      <td>18795</td>\n",
       "      <td>327</td>\n",
       "    </tr>\n",
       "    <tr>\n",
       "      <th>VS2</th>\n",
       "      <td>0.763914</td>\n",
       "      <td>3.51</td>\n",
       "      <td>0.20</td>\n",
       "      <td>61.724427</td>\n",
       "      <td>79.0</td>\n",
       "      <td>43.0</td>\n",
       "      <td>57.417391</td>\n",
       "      <td>73.0</td>\n",
       "      <td>51.0</td>\n",
       "      <td>3924.828751</td>\n",
       "      <td>18823</td>\n",
       "      <td>334</td>\n",
       "    </tr>\n",
       "    <tr>\n",
       "      <th>VVS1</th>\n",
       "      <td>0.503321</td>\n",
       "      <td>2.31</td>\n",
       "      <td>0.23</td>\n",
       "      <td>61.624651</td>\n",
       "      <td>67.6</td>\n",
       "      <td>54.0</td>\n",
       "      <td>56.884460</td>\n",
       "      <td>68.0</td>\n",
       "      <td>52.0</td>\n",
       "      <td>2523.114637</td>\n",
       "      <td>18777</td>\n",
       "      <td>336</td>\n",
       "    </tr>\n",
       "    <tr>\n",
       "      <th>VVS2</th>\n",
       "      <td>0.596202</td>\n",
       "      <td>2.07</td>\n",
       "      <td>0.23</td>\n",
       "      <td>61.663778</td>\n",
       "      <td>67.6</td>\n",
       "      <td>51.0</td>\n",
       "      <td>57.024990</td>\n",
       "      <td>68.0</td>\n",
       "      <td>51.0</td>\n",
       "      <td>3283.737071</td>\n",
       "      <td>18768</td>\n",
       "      <td>336</td>\n",
       "    </tr>\n",
       "  </tbody>\n",
       "</table>\n",
       "</div>"
      ],
      "text/plain": [
       "            carat                  depth                  table              \\\n",
       "             mean   max   min       mean   max   min       mean   max   min   \n",
       "clarity                                                                       \n",
       "I1       1.283846  5.01  0.30  62.734278  78.2  55.6  58.303779  67.0  52.0   \n",
       "IF       0.505123  2.29  0.23  61.510615  65.6  52.3  56.507207  65.0  52.0   \n",
       "SI1      0.850533  2.57  0.21  61.853249  72.9  43.0  57.662475  95.0  49.0   \n",
       "SI2      1.077649  3.04  0.20  61.772167  72.2  53.1  57.927181  79.0  50.1   \n",
       "VS1      0.727125  2.59  0.23  61.667075  71.8  50.8  57.314945  73.0  43.0   \n",
       "VS2      0.763914  3.51  0.20  61.724427  79.0  43.0  57.417391  73.0  51.0   \n",
       "VVS1     0.503321  2.31  0.23  61.624651  67.6  54.0  56.884460  68.0  52.0   \n",
       "VVS2     0.596202  2.07  0.23  61.663778  67.6  51.0  57.024990  68.0  51.0   \n",
       "\n",
       "               price              \n",
       "                mean    max  min  \n",
       "clarity                           \n",
       "I1       3924.168691  18531  345  \n",
       "IF       2864.839106  18806  369  \n",
       "SI1      3995.232035  18818  326  \n",
       "SI2      5063.028606  18804  326  \n",
       "VS1      3839.211873  18795  327  \n",
       "VS2      3924.828751  18823  334  \n",
       "VVS1     2523.114637  18777  336  \n",
       "VVS2     3283.737071  18768  336  "
      ]
     },
     "execution_count": 91,
     "metadata": {},
     "output_type": "execute_result"
    }
   ],
   "source": [
    "df.groupby('clarity')[['carat', 'depth', 'table', 'price']].agg(['mean', 'max', 'min'])"
   ]
  },
  {
   "cell_type": "markdown",
   "metadata": {},
   "source": [
    "## Distribuciones"
   ]
  },
  {
   "cell_type": "code",
   "execution_count": 92,
   "metadata": {},
   "outputs": [],
   "source": [
    "price_Q1 = df['price'].quantile(0.25) \n",
    "price_Q2 = df['price'].quantile(0.5) \n",
    "price_Q3 = df['price'].quantile(0.75) \n"
   ]
  },
  {
   "cell_type": "markdown",
   "metadata": {},
   "source": [
    "TUKEY Y FILTRO\n"
   ]
  },
  {
   "cell_type": "code",
   "execution_count": 93,
   "metadata": {},
   "outputs": [],
   "source": [
    "iqr = price_Q3 - price_Q1\n",
    "\n",
    "# No puede haber elementos menores que el minimo por eso si el lim_min es menor que el minimo valor el lim_min sera el minimo.\n",
    "lim_min = price_Q1 - 1.5*iqr if price_Q1 - 1.5*iqr > df['price'].min() else df['price'].min()\n",
    "\n",
    "# No puede haber elementos mayores que el máximo por eso si el lim_maz es mayor que el maximo valor el lim_min sera el maximo.\n",
    "lim_max = price_Q3 + 1.5*iqr\n",
    "\n",
    "filtro = (df['price'] >= lim_min) & (df['price'] <= lim_max)\n",
    "df_filtered = df[filtro]"
   ]
  },
  {
   "cell_type": "markdown",
   "metadata": {},
   "source": [
    "ASIMETRIA"
   ]
  },
  {
   "cell_type": "code",
   "execution_count": 94,
   "metadata": {},
   "outputs": [
    {
     "name": "stdout",
     "output_type": "stream",
     "text": [
      "Asimetria = 1.618384826712148\n",
      "La asimetria es mayor que cero tendra cola a la derecha\n"
     ]
    }
   ],
   "source": [
    "print(f'Asimetria = {df['price'].skew()}')\n",
    "if df['price'].skew() > 0:\n",
    "    print('La asimetria es mayor que cero tendra cola a la derecha')\n",
    "elif df['price'].skew() < 0:\n",
    "    print('La asimetria es menor que cero tendra cola a la izquierda')\n",
    "else:\n",
    "    print(\"Es simetrico\")\n",
    "    "
   ]
  },
  {
   "cell_type": "markdown",
   "metadata": {},
   "source": [
    "CURTOSIS"
   ]
  },
  {
   "cell_type": "code",
   "execution_count": 95,
   "metadata": {},
   "outputs": [
    {
     "name": "stdout",
     "output_type": "stream",
     "text": [
      "Curtosis = 2.1778680332625497\n",
      "La curtosis es mayor que cero tendra colas largas\n"
     ]
    }
   ],
   "source": [
    "print(f'Curtosis = {df['price'].kurtosis()}')\n",
    "if df['price'].kurtosis() > 0:\n",
    "    print('La curtosis es mayor que cero tendra colas largas')\n",
    "elif df['price'].kurtosis() < 0:\n",
    "    print('La curtosis es menor que cero tendra colas cortas')\n",
    "else:\n",
    "    print(\"Distribucion normal\")"
   ]
  },
  {
   "cell_type": "markdown",
   "metadata": {},
   "source": [
    "TRANSFORMACION"
   ]
  },
  {
   "cell_type": "code",
   "execution_count": 96,
   "metadata": {},
   "outputs": [],
   "source": [
    "prices_log = np.log(df['price'])\n",
    "\n",
    "#La grafica la pongo en la parte EDAS"
   ]
  },
  {
   "cell_type": "markdown",
   "metadata": {},
   "source": [
    "DISCRETIZACION CON PD.CUT\n"
   ]
  },
  {
   "cell_type": "code",
   "execution_count": 97,
   "metadata": {},
   "outputs": [
    {
     "data": {
      "text/html": [
       "<div>\n",
       "<style scoped>\n",
       "    .dataframe tbody tr th:only-of-type {\n",
       "        vertical-align: middle;\n",
       "    }\n",
       "\n",
       "    .dataframe tbody tr th {\n",
       "        vertical-align: top;\n",
       "    }\n",
       "\n",
       "    .dataframe thead th {\n",
       "        text-align: right;\n",
       "    }\n",
       "</style>\n",
       "<table border=\"1\" class=\"dataframe\">\n",
       "  <thead>\n",
       "    <tr style=\"text-align: right;\">\n",
       "      <th></th>\n",
       "      <th>carat</th>\n",
       "      <th>cut</th>\n",
       "      <th>int_cut</th>\n",
       "      <th>color</th>\n",
       "      <th>clarity</th>\n",
       "      <th>depth</th>\n",
       "      <th>table</th>\n",
       "      <th>price</th>\n",
       "      <th>price_iva</th>\n",
       "      <th>price_category</th>\n",
       "      <th>x</th>\n",
       "      <th>y</th>\n",
       "      <th>z</th>\n",
       "      <th>volume</th>\n",
       "    </tr>\n",
       "  </thead>\n",
       "  <tbody>\n",
       "    <tr>\n",
       "      <th>0</th>\n",
       "      <td>2.01</td>\n",
       "      <td>Fair</td>\n",
       "      <td>1</td>\n",
       "      <td>G</td>\n",
       "      <td>SI1</td>\n",
       "      <td>70.6</td>\n",
       "      <td>64.0</td>\n",
       "      <td>18574</td>\n",
       "      <td>22474.54</td>\n",
       "      <td>Caro</td>\n",
       "      <td>7.43</td>\n",
       "      <td>6.64</td>\n",
       "      <td>4.69</td>\n",
       "      <td>231.38</td>\n",
       "    </tr>\n",
       "    <tr>\n",
       "      <th>1</th>\n",
       "      <td>2.02</td>\n",
       "      <td>Fair</td>\n",
       "      <td>1</td>\n",
       "      <td>H</td>\n",
       "      <td>VS2</td>\n",
       "      <td>64.5</td>\n",
       "      <td>57.0</td>\n",
       "      <td>18565</td>\n",
       "      <td>22463.65</td>\n",
       "      <td>Caro</td>\n",
       "      <td>8.00</td>\n",
       "      <td>7.95</td>\n",
       "      <td>5.14</td>\n",
       "      <td>326.90</td>\n",
       "    </tr>\n",
       "    <tr>\n",
       "      <th>2</th>\n",
       "      <td>4.50</td>\n",
       "      <td>Fair</td>\n",
       "      <td>1</td>\n",
       "      <td>J</td>\n",
       "      <td>I1</td>\n",
       "      <td>65.8</td>\n",
       "      <td>58.0</td>\n",
       "      <td>18531</td>\n",
       "      <td>22422.51</td>\n",
       "      <td>Caro</td>\n",
       "      <td>10.23</td>\n",
       "      <td>10.16</td>\n",
       "      <td>6.72</td>\n",
       "      <td>698.46</td>\n",
       "    </tr>\n",
       "    <tr>\n",
       "      <th>3</th>\n",
       "      <td>2.00</td>\n",
       "      <td>Fair</td>\n",
       "      <td>1</td>\n",
       "      <td>G</td>\n",
       "      <td>VS2</td>\n",
       "      <td>67.6</td>\n",
       "      <td>58.0</td>\n",
       "      <td>18515</td>\n",
       "      <td>22403.15</td>\n",
       "      <td>Caro</td>\n",
       "      <td>7.65</td>\n",
       "      <td>7.61</td>\n",
       "      <td>5.16</td>\n",
       "      <td>300.40</td>\n",
       "    </tr>\n",
       "    <tr>\n",
       "      <th>4</th>\n",
       "      <td>2.51</td>\n",
       "      <td>Fair</td>\n",
       "      <td>1</td>\n",
       "      <td>H</td>\n",
       "      <td>SI2</td>\n",
       "      <td>64.7</td>\n",
       "      <td>57.0</td>\n",
       "      <td>18308</td>\n",
       "      <td>22152.68</td>\n",
       "      <td>Caro</td>\n",
       "      <td>8.44</td>\n",
       "      <td>8.50</td>\n",
       "      <td>5.48</td>\n",
       "      <td>393.14</td>\n",
       "    </tr>\n",
       "  </tbody>\n",
       "</table>\n",
       "</div>"
      ],
      "text/plain": [
       "   carat   cut int_cut color clarity  depth  table  price  price_iva  \\\n",
       "0   2.01  Fair       1     G     SI1   70.6   64.0  18574   22474.54   \n",
       "1   2.02  Fair       1     H     VS2   64.5   57.0  18565   22463.65   \n",
       "2   4.50  Fair       1     J      I1   65.8   58.0  18531   22422.51   \n",
       "3   2.00  Fair       1     G     VS2   67.6   58.0  18515   22403.15   \n",
       "4   2.51  Fair       1     H     SI2   64.7   57.0  18308   22152.68   \n",
       "\n",
       "  price_category      x      y     z  volume  \n",
       "0           Caro   7.43   6.64  4.69  231.38  \n",
       "1           Caro   8.00   7.95  5.14  326.90  \n",
       "2           Caro  10.23  10.16  6.72  698.46  \n",
       "3           Caro   7.65   7.61  5.16  300.40  \n",
       "4           Caro   8.44   8.50  5.48  393.14  "
      ]
     },
     "execution_count": 97,
     "metadata": {},
     "output_type": "execute_result"
    }
   ],
   "source": [
    "price_min = df['price'].min()\n",
    "price_max = df['price'].max()\n",
    "\n",
    "df['price_category']=pd.cut(\n",
    "    df['price'],\n",
    "    bins=[price_min, price_Q1, price_Q3, price_max],\n",
    "    labels=['Barato', 'Medio', 'Caro'])\n",
    "\n",
    "cols = df.columns.to_list()\n",
    "cols.remove('price_category')\n",
    "cols.insert(cols.index('price_iva')+1, 'price_category')\n",
    "df=df[cols]\n",
    "df.head()"
   ]
  },
  {
   "cell_type": "markdown",
   "metadata": {},
   "source": [
    "## Seaborn EDAS:"
   ]
  },
  {
   "cell_type": "markdown",
   "metadata": {},
   "source": [
    "### Univariantes"
   ]
  },
  {
   "cell_type": "markdown",
   "metadata": {},
   "source": [
    "* ### BOXPLOT"
   ]
  },
  {
   "cell_type": "code",
   "execution_count": 98,
   "metadata": {},
   "outputs": [
    {
     "data": {
      "text/plain": [
       "<Axes: ylabel='price'>"
      ]
     },
     "execution_count": 98,
     "metadata": {},
     "output_type": "execute_result"
    },
    {
     "data": {
      "image/png": "[encoded data removed]",
      "text/plain": [
       "<Figure size 640x480 with 1 Axes>"
      ]
     },
     "metadata": {},
     "output_type": "display_data"
    }
   ],
   "source": [
    "sns.boxplot(df, y='price')"
   ]
  },
  {
   "cell_type": "markdown",
   "metadata": {},
   "source": [
    "* ### COUNTPLOT"
   ]
  },
  {
   "cell_type": "code",
   "execution_count": 99,
   "metadata": {},
   "outputs": [
    {
     "data": {
      "text/plain": [
       "<Axes: xlabel='price_category', ylabel='count'>"
      ]
     },
     "execution_count": 99,
     "metadata": {},
     "output_type": "execute_result"
    },
    {
     "data": {
      "image/png": "[encoded data removed]",
      "text/plain": [
       "<Figure size 640x480 with 1 Axes>"
      ]
     },
     "metadata": {},
     "output_type": "display_data"
    }
   ],
   "source": [
    "sns.countplot(df, x='price_category')\n",
    "\n",
    "# Tiene sentido porque he puesto como limites min, q1, q3, max"
   ]
  },
  {
   "cell_type": "code",
   "execution_count": 100,
   "metadata": {},
   "outputs": [
    {
     "data": {
      "text/plain": [
       "<Axes: xlabel='cut', ylabel='count'>"
      ]
     },
     "execution_count": 100,
     "metadata": {},
     "output_type": "execute_result"
    },
    {
     "data": {
      "image/png": "[encoded data removed]",
      "text/plain": [
       "<Figure size 640x480 with 1 Axes>"
      ]
     },
     "metadata": {},
     "output_type": "display_data"
    }
   ],
   "source": [
    "sns.countplot(df, x='cut')"
   ]
  },
  {
   "cell_type": "markdown",
   "metadata": {},
   "source": [
    "* ### HISTOGRAMA"
   ]
  },
  {
   "cell_type": "markdown",
   "metadata": {},
   "source": [
    "SIN FILTRAR"
   ]
  },
  {
   "cell_type": "code",
   "execution_count": 101,
   "metadata": {},
   "outputs": [
    {
     "data": {
      "text/plain": [
       "<matplotlib.lines.Line2D at 0x21577166210>"
      ]
     },
     "execution_count": 101,
     "metadata": {},
     "output_type": "execute_result"
    },
    {
     "data": {
      "image/png": "[encoded data removed]",
      "text/plain": [
       "<Figure size 640x480 with 1 Axes>"
      ]
     },
     "metadata": {},
     "output_type": "display_data"
    }
   ],
   "source": [
    "sns.histplot(df, x='price', kde=True)\n",
    "plt.axvline(x=price_Q1, linestyle='dashed', color='red')\n",
    "plt.axvline(x=price_Q3, linestyle='dashed', color='red')\n",
    "\n",
    "plt.axvline(x=lim_min, linestyle='dashed', color='magenta')\n",
    "plt.axvline(x=lim_max, linestyle='dashed', color='magenta')"
   ]
  },
  {
   "cell_type": "markdown",
   "metadata": {},
   "source": [
    "SIN OUTLAIERS TUKEY"
   ]
  },
  {
   "cell_type": "code",
   "execution_count": 102,
   "metadata": {},
   "outputs": [
    {
     "data": {
      "text/plain": [
       "<matplotlib.lines.Line2D at 0x215705c4a50>"
      ]
     },
     "execution_count": 102,
     "metadata": {},
     "output_type": "execute_result"
    },
    {
     "data": {
      "image/png": "[encoded data removed]",
      "text/plain": [
       "<Figure size 640x480 with 1 Axes>"
      ]
     },
     "metadata": {},
     "output_type": "display_data"
    }
   ],
   "source": [
    "sns.histplot(df_filtered, x='price', kde=True)\n",
    "plt.axvline(x=price_Q1, linestyle='dashed', color='red')\n",
    "plt.axvline(x=price_Q3, linestyle='dashed', color='red')\n",
    "\n",
    "plt.axvline(x=lim_min, linestyle='dashed', color='magenta')\n",
    "plt.axvline(x=lim_max, linestyle='dashed', color='magenta')"
   ]
  },
  {
   "cell_type": "markdown",
   "metadata": {},
   "source": [
    "GRAFICA TRANSFORMADA LOG\n"
   ]
  },
  {
   "cell_type": "code",
   "execution_count": 110,
   "metadata": {},
   "outputs": [
    {
     "name": "stdout",
     "output_type": "stream",
     "text": [
      "Podemos observar como hemos quitado la cola\n"
     ]
    },
    {
     "data": {
      "image/png": "[encoded data removed]",
      "text/plain": [
       "<Figure size 640x480 with 1 Axes>"
      ]
     },
     "metadata": {},
     "output_type": "display_data"
    }
   ],
   "source": [
    "sns.histplot(x=prices_log, kde=True)\n",
    "\n",
    "log_tick = np.arange(np.min(prices_log), np.max(prices_log)+1)\n",
    "tick_original = np.exp(log_tick)\n",
    "\n",
    "plt.xticks(log_tick, [f'{int(tick)}' for tick in tick_original])\n",
    "\n",
    "print(\"Podemos observar como hemos quitado la cola\")\n"
   ]
  },
  {
   "cell_type": "markdown",
   "metadata": {},
   "source": [
    "### Bivariantes y multivariantes"
   ]
  },
  {
   "cell_type": "code",
   "execution_count": 111,
   "metadata": {},
   "outputs": [
    {
     "name": "stdout",
     "output_type": "stream",
     "text": [
      "Para un mismo tipo de corte por norma general cuanto mas volumen mas quilates (peso)\n"
     ]
    },
    {
     "data": {
      "image/png": "[encoded data removed]",
      "text/plain": [
       "<Figure size 640x480 with 1 Axes>"
      ]
     },
     "metadata": {},
     "output_type": "display_data"
    }
   ],
   "source": [
    "sns.scatterplot(df.sample(1000), x='carat', y='price', hue='cut', size='volume')\n",
    "print(\"Para un mismo tipo de corte por norma general cuanto mas volumen mas quilates (peso)\")"
   ]
  },
  {
   "cell_type": "code",
   "execution_count": 105,
   "metadata": {},
   "outputs": [
    {
     "data": {
      "text/plain": [
       "<Axes: >"
      ]
     },
     "execution_count": 105,
     "metadata": {},
     "output_type": "execute_result"
    },
    {
     "data": {
      "image/png": "[encoded data removed]",
      "text/plain": [
       "<Figure size 640x480 with 2 Axes>"
      ]
     },
     "metadata": {},
     "output_type": "display_data"
    }
   ],
   "source": [
    "#No tengo en cuenta price_iva porque es igual a price pero multiplicado por una constante\n",
    "#No tengo en cuenta x, y, z porque volume es un valor dependiente de las 3\n",
    "\n",
    "df_corr=df[['carat', 'depth', 'table', 'price', 'volume']]\n",
    "df_corr.head()\n",
    "\n",
    "m_corr=df_corr.corr()\n",
    "\n",
    "sns.heatmap(m_corr, annot=True, cmap='viridis')\n"
   ]
  },
  {
   "cell_type": "code",
   "execution_count": 106,
   "metadata": {},
   "outputs": [
    {
     "data": {
      "text/plain": [
       "<Axes: xlabel='None'>"
      ]
     },
     "execution_count": 106,
     "metadata": {},
     "output_type": "execute_result"
    },
    {
     "data": {
      "image/png": "[encoded data removed]",
      "text/plain": [
       "<Figure size 640x480 with 1 Axes>"
      ]
     },
     "metadata": {},
     "output_type": "display_data"
    }
   ],
   "source": [
    "# Elimino price, price_iva porque son redundantes para compararlas con el precio \n",
    "# y en esta ocasion quiero ver que variable del volumen es la que mas influye por eso quito volume\n",
    "# pero dejo x, y, z\n",
    "\n",
    "price_correlation=pd.get_dummies(df).corr()['price'].drop(['price','price_iva','volume'])\n",
    "\n",
    "price_correlation\n",
    "\n",
    "filter = (price_correlation > 0.1) | (price_correlation < -0.1)\n",
    "filtered_corretation = price_correlation[filter]\n",
    "\n",
    "filtered_corretation.sort_values(ascending=False, inplace=True)\n",
    "sns.barplot(x=filtered_corretation.index, y=filtered_corretation.values)"
   ]
  },
  {
   "cell_type": "code",
   "execution_count": 107,
   "metadata": {},
   "outputs": [
    {
     "name": "stderr",
     "output_type": "stream",
     "text": [
      "C:\\Users\\p-rom\\AppData\\Local\\Temp\\ipykernel_6280\\821756249.py:1: FutureWarning: The default value of observed=False is deprecated and will change to observed=True in a future version of pandas. Specify observed=False to silence this warning and retain the current behavior\n",
      "  pivot=pd.pivot_table(df, index='cut', columns='color', values='price', aggfunc='mean')\n"
     ]
    },
    {
     "data": {
      "text/plain": [
       "<Axes: xlabel='color', ylabel='cut'>"
      ]
     },
     "execution_count": 107,
     "metadata": {},
     "output_type": "execute_result"
    },
    {
     "data": {
      "image/png": "[encoded data removed]",
      "text/plain": [
       "<Figure size 640x480 with 2 Axes>"
      ]
     },
     "metadata": {},
     "output_type": "display_data"
    }
   ],
   "source": [
    "pivot=pd.pivot_table(df, index='cut', columns='color', values='price', aggfunc='mean')\n",
    "sns.heatmap(pivot, cmap='viridis', linecolor='white', linewidth=0.5)"
   ]
  }
 ],
 "metadata": {
  "kernelspec": {
   "display_name": "Python 3",
   "language": "python",
   "name": "python3"
  },
  "language_info": {
   "codemirror_mode": {
    "name": "ipython",
    "version": 3
   },
   "file_extension": ".py",
   "mimetype": "text/x-python",
   "name": "python",
   "nbconvert_exporter": "python",
   "pygments_lexer": "ipython3",
   "version": "3.13.1"
  }
 },
 "nbformat": 4,
 "nbformat_minor": 2
}
